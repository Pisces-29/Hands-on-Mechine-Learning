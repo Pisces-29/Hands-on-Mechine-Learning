{
 "cells": [
  {
   "cell_type": "markdown",
   "id": "b580c81a",
   "metadata": {},
   "source": [
    "# 获取数据"
   ]
  },
  {
   "cell_type": "code",
   "execution_count": 1,
   "id": "eb99a5cc",
   "metadata": {},
   "outputs": [],
   "source": [
    "import numpy as np\n",
    "import matplotlib.pyplot as plt\n",
    "from sklearn.datasets import load_iris"
   ]
  },
  {
   "cell_type": "code",
   "execution_count": 2,
   "id": "d134b79a",
   "metadata": {},
   "outputs": [],
   "source": [
    "data=load_iris()"
   ]
  },
  {
   "cell_type": "code",
   "execution_count": 3,
   "id": "865a184e",
   "metadata": {},
   "outputs": [],
   "source": [
    "X=data.data\n",
    "y=data.target"
   ]
  },
  {
   "cell_type": "code",
   "execution_count": 4,
   "id": "3de451fb",
   "metadata": {},
   "outputs": [
    {
     "data": {
      "text/plain": [
       "array([[5.1, 3.5, 1.4, 0.2],\n",
       "       [4.9, 3. , 1.4, 0.2],\n",
       "       [4.7, 3.2, 1.3, 0.2],\n",
       "       [4.6, 3.1, 1.5, 0.2],\n",
       "       [5. , 3.6, 1.4, 0.2]])"
      ]
     },
     "execution_count": 4,
     "metadata": {},
     "output_type": "execute_result"
    }
   ],
   "source": [
    "X[:5]"
   ]
  },
  {
   "cell_type": "code",
   "execution_count": 7,
   "id": "0cd345e3",
   "metadata": {},
   "outputs": [
    {
     "data": {
      "text/plain": [
       "['sepal length (cm)',\n",
       " 'sepal width (cm)',\n",
       " 'petal length (cm)',\n",
       " 'petal width (cm)']"
      ]
     },
     "execution_count": 7,
     "metadata": {},
     "output_type": "execute_result"
    }
   ],
   "source": [
    "data.feature_names"
   ]
  },
  {
   "cell_type": "code",
   "execution_count": 8,
   "id": "b1a8bace",
   "metadata": {},
   "outputs": [
    {
     "data": {
      "text/plain": [
       "array(['setosa', 'versicolor', 'virginica'], dtype='<U10')"
      ]
     },
     "execution_count": 8,
     "metadata": {},
     "output_type": "execute_result"
    }
   ],
   "source": [
    "data.target_names"
   ]
  },
  {
   "cell_type": "markdown",
   "id": "4d1b3a9b",
   "metadata": {},
   "source": [
    "# 分割数据"
   ]
  },
  {
   "cell_type": "code",
   "execution_count": 9,
   "id": "8bf120fd",
   "metadata": {},
   "outputs": [],
   "source": [
    "from sklearn.model_selection import train_test_split"
   ]
  },
  {
   "cell_type": "code",
   "execution_count": 10,
   "id": "4b2ac4c1",
   "metadata": {},
   "outputs": [],
   "source": [
    "X_train,X_test,y_train,y_test=train_test_split(X,y,test_size=0.2)"
   ]
  },
  {
   "cell_type": "code",
   "execution_count": 11,
   "id": "71acfa23",
   "metadata": {},
   "outputs": [
    {
     "data": {
      "text/plain": [
       "(120, 4)"
      ]
     },
     "execution_count": 11,
     "metadata": {},
     "output_type": "execute_result"
    }
   ],
   "source": [
    "X_train.shape"
   ]
  },
  {
   "cell_type": "code",
   "execution_count": 12,
   "id": "e9ee24c4",
   "metadata": {},
   "outputs": [
    {
     "data": {
      "text/plain": [
       "(30, 4)"
      ]
     },
     "execution_count": 12,
     "metadata": {},
     "output_type": "execute_result"
    }
   ],
   "source": [
    "X_test.shape"
   ]
  },
  {
   "cell_type": "markdown",
   "id": "271da9f2",
   "metadata": {},
   "source": [
    "# 特征工程"
   ]
  },
  {
   "cell_type": "code",
   "execution_count": 13,
   "id": "8187450f",
   "metadata": {},
   "outputs": [],
   "source": [
    "from sklearn.preprocessing import StandardScaler"
   ]
  },
  {
   "cell_type": "code",
   "execution_count": 14,
   "id": "ecb31986",
   "metadata": {},
   "outputs": [],
   "source": [
    "tranfer=StandardScaler()"
   ]
  },
  {
   "cell_type": "code",
   "execution_count": 15,
   "id": "ea784024",
   "metadata": {},
   "outputs": [],
   "source": [
    "X_train_std=tranfer.fit_transform(X_train)"
   ]
  },
  {
   "cell_type": "code",
   "execution_count": 16,
   "id": "ae3e25f3",
   "metadata": {},
   "outputs": [
    {
     "data": {
      "text/plain": [
       "array([[ 1.96347038, -0.64521871,  1.42712682,  0.9986304 ],\n",
       "       [ 0.62127416,  0.48674394,  1.37006077,  1.78788823],\n",
       "       [-0.96495774,  0.71313647, -1.19791152, -1.23760013],\n",
       "       [ 0.98732767, -0.41882618,  0.57113606,  0.20937256],\n",
       "       [ 0.49925632,  0.71313647,  1.02766447,  1.52480229],\n",
       "       [ 0.01118497, -0.87161124,  0.1716737 ,  0.07782959],\n",
       "       [-0.11083287, -0.19243365,  0.34287186,  0.07782959],\n",
       "       [-0.96495774,  0.26035141, -1.36910967, -1.23760013],\n",
       "       [ 0.743292  , -0.64521871,  1.14179657,  1.39325932],\n",
       "       [-0.72092206,  0.93952899, -1.19791152, -1.23760013]])"
      ]
     },
     "execution_count": 16,
     "metadata": {},
     "output_type": "execute_result"
    }
   ],
   "source": [
    "X_train_std[:10]"
   ]
  },
  {
   "cell_type": "code",
   "execution_count": 17,
   "id": "4c6297a4",
   "metadata": {},
   "outputs": [],
   "source": [
    "X_test_std=tranfer.transform(X_test)"
   ]
  },
  {
   "cell_type": "code",
   "execution_count": 18,
   "id": "f2dd4d4a",
   "metadata": {},
   "outputs": [
    {
     "data": {
      "text/plain": [
       "array([[ 0.743292  ,  0.03395888,  1.08473052,  0.86708743],\n",
       "       [-0.35486855, -1.09800376,  0.45700396,  0.07782959],\n",
       "       [-1.08697558, -0.19243365, -1.25497757, -1.23760013],\n",
       "       [-0.35486855,  0.93952899, -1.31204362, -1.23760013],\n",
       "       [ 1.10934551, -0.19243365,  0.79940026,  0.73554445],\n",
       "       [ 0.49925632, -0.64521871,  0.68526816,  0.86708743],\n",
       "       [ 2.3295239 , -0.64521871,  1.76952313,  1.13017337],\n",
       "       [-1.08697558,  1.16592152, -1.25497757, -1.3691431 ],\n",
       "       [ 0.25522065, -2.00357388,  0.22873975, -0.18525635],\n",
       "       [-0.11083287, -0.64521871,  0.2858058 ,  0.20937256]])"
      ]
     },
     "execution_count": 18,
     "metadata": {},
     "output_type": "execute_result"
    }
   ],
   "source": [
    "X_test_std[:10]"
   ]
  },
  {
   "cell_type": "markdown",
   "id": "94d89f45",
   "metadata": {},
   "source": [
    "# 机器学习-感知机\n",
    "## sklearn"
   ]
  },
  {
   "cell_type": "code",
   "execution_count": 19,
   "id": "7ac8690f",
   "metadata": {},
   "outputs": [],
   "source": [
    "from sklearn.linear_model import LinearRegression"
   ]
  },
  {
   "cell_type": "code",
   "execution_count": 20,
   "id": "552aab63",
   "metadata": {},
   "outputs": [],
   "source": [
    "lin_clf=LinearRegression(n_jobs=-1)"
   ]
  },
  {
   "cell_type": "code",
   "execution_count": 21,
   "id": "95c19c94",
   "metadata": {},
   "outputs": [
    {
     "data": {
      "text/plain": [
       "LinearRegression(n_jobs=-1)"
      ]
     },
     "execution_count": 21,
     "metadata": {},
     "output_type": "execute_result"
    }
   ],
   "source": [
    "lin_clf.fit(X_train_std,y_train)"
   ]
  },
  {
   "cell_type": "code",
   "execution_count": 22,
   "id": "648ff866",
   "metadata": {},
   "outputs": [],
   "source": [
    "from sklearn.metrics import confusion_matrix"
   ]
  },
  {
   "cell_type": "code",
   "execution_count": 23,
   "id": "87b7197c",
   "metadata": {},
   "outputs": [],
   "source": [
    "y_pred=lin_clf.predict(X_test)"
   ]
  },
  {
   "cell_type": "markdown",
   "id": "861d99e7",
   "metadata": {},
   "source": [
    "# 模型评估"
   ]
  },
  {
   "cell_type": "code",
   "execution_count": 25,
   "id": "1df279a5",
   "metadata": {},
   "outputs": [],
   "source": [
    "from sklearn.metrics import mean_squared_error"
   ]
  },
  {
   "cell_type": "code",
   "execution_count": 26,
   "id": "1fe3ddd8",
   "metadata": {},
   "outputs": [
    {
     "data": {
      "text/plain": [
       "1.6333998663674616"
      ]
     },
     "execution_count": 26,
     "metadata": {},
     "output_type": "execute_result"
    }
   ],
   "source": [
    "mean_squared_error(y_test,y_pred)"
   ]
  },
  {
   "cell_type": "markdown",
   "id": "d1bf1089",
   "metadata": {},
   "source": [
    "# 模型预测"
   ]
  },
  {
   "cell_type": "code",
   "execution_count": 53,
   "id": "7b491d2b",
   "metadata": {},
   "outputs": [
    {
     "data": {
      "text/plain": [
       "array([1.78070053])"
      ]
     },
     "execution_count": 53,
     "metadata": {},
     "output_type": "execute_result"
    }
   ],
   "source": [
    "lin_clf.predict([[1.2,2.4,3.1,0.1]])"
   ]
  },
  {
   "cell_type": "code",
   "execution_count": null,
   "id": "9e0b73ad",
   "metadata": {},
   "outputs": [],
   "source": []
  }
 ],
 "metadata": {
  "kernelspec": {
   "display_name": "Python 3",
   "language": "python",
   "name": "python3"
  },
  "language_info": {
   "codemirror_mode": {
    "name": "ipython",
    "version": 3
   },
   "file_extension": ".py",
   "mimetype": "text/x-python",
   "name": "python",
   "nbconvert_exporter": "python",
   "pygments_lexer": "ipython3",
   "version": "3.7.4"
  },
  "toc": {
   "base_numbering": 1,
   "nav_menu": {},
   "number_sections": true,
   "sideBar": true,
   "skip_h1_title": false,
   "title_cell": "Table of Contents",
   "title_sidebar": "Contents",
   "toc_cell": false,
   "toc_position": {},
   "toc_section_display": true,
   "toc_window_display": true
  }
 },
 "nbformat": 4,
 "nbformat_minor": 5
}
