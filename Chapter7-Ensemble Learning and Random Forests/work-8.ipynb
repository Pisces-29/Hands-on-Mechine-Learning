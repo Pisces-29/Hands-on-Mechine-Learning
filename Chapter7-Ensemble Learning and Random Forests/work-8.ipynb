{
 "cells": [
  {
   "cell_type": "markdown",
   "id": "a8a9b4fa",
   "metadata": {},
   "source": [
    "# 第八题\n",
    "## 加载数据"
   ]
  },
  {
   "cell_type": "code",
   "execution_count": 1,
   "id": "9e982bea",
   "metadata": {},
   "outputs": [],
   "source": [
    "import numpy as np\n",
    "import matplotlib.pyplot as plt\n",
    "from sklearn.datasets import fetch_openml"
   ]
  },
  {
   "cell_type": "code",
   "execution_count": 2,
   "id": "30662045",
   "metadata": {},
   "outputs": [],
   "source": [
    "mnist=fetch_openml('mnist_784',version=1)"
   ]
  },
  {
   "cell_type": "code",
   "execution_count": 3,
   "id": "d1461aa4",
   "metadata": {},
   "outputs": [],
   "source": [
    "X=mnist.data\n",
    "y=mnist.target.astype(np.uint8)"
   ]
  },
  {
   "cell_type": "code",
   "execution_count": 4,
   "id": "34042310",
   "metadata": {},
   "outputs": [
    {
     "data": {
      "text/plain": [
       "((70000, 784), (70000,))"
      ]
     },
     "execution_count": 4,
     "metadata": {},
     "output_type": "execute_result"
    }
   ],
   "source": [
    "X.shape,y.shape"
   ]
  },
  {
   "cell_type": "markdown",
   "id": "d56a7004",
   "metadata": {},
   "source": [
    "## 划分数据集"
   ]
  },
  {
   "cell_type": "code",
   "execution_count": 5,
   "id": "74326f6a",
   "metadata": {},
   "outputs": [],
   "source": [
    "X_train=X[:50000]\n",
    "y_train=y[:50000]\n",
    "X_val=X[50000:60000]\n",
    "y_val=y[50000:60000]\n",
    "X_test=X[60000:]\n",
    "y_test=y[60000:]"
   ]
  },
  {
   "cell_type": "code",
   "execution_count": 6,
   "id": "17100d58",
   "metadata": {},
   "outputs": [
    {
     "data": {
      "text/plain": [
       "((50000, 784), (10000, 784), (10000, 784))"
      ]
     },
     "execution_count": 6,
     "metadata": {},
     "output_type": "execute_result"
    }
   ],
   "source": [
    "X_train.shape,X_val.shape,X_test.shape"
   ]
  },
  {
   "cell_type": "markdown",
   "id": "cdcb34f3",
   "metadata": {},
   "source": [
    "## 建立模型"
   ]
  },
  {
   "cell_type": "code",
   "execution_count": 7,
   "id": "24865bbc",
   "metadata": {},
   "outputs": [],
   "source": [
    "from sklearn.ensemble import RandomForestClassifier,ExtraTreesClassifier\n",
    "from sklearn.svm import LinearSVC\n",
    "from sklearn.neural_network import MLPClassifier"
   ]
  },
  {
   "cell_type": "code",
   "execution_count": 8,
   "id": "95f99173",
   "metadata": {},
   "outputs": [],
   "source": [
    "random_forest_clf=RandomForestClassifier(n_estimators=100,random_state=42)\n",
    "extra_trees_clf=ExtraTreesClassifier(n_estimators=100,random_state=42)\n",
    "svm_clf=LinearSVC(random_state=42)\n",
    "mlp_clf=MLPClassifier(random_state=42)"
   ]
  },
  {
   "cell_type": "markdown",
   "id": "6fd1ed66",
   "metadata": {},
   "source": [
    "## 单个模型预测"
   ]
  },
  {
   "cell_type": "code",
   "execution_count": 9,
   "id": "02807dcb",
   "metadata": {},
   "outputs": [
    {
     "name": "stdout",
     "output_type": "stream",
     "text": [
      "Training the  <class 'sklearn.ensemble._forest.RandomForestClassifier'>\n",
      "Training the  <class 'sklearn.ensemble._forest.ExtraTreesClassifier'>\n",
      "Training the  <class 'sklearn.svm._classes.LinearSVC'>\n"
     ]
    },
    {
     "name": "stderr",
     "output_type": "stream",
     "text": [
      "e:\\envs\\ai\\lib\\site-packages\\sklearn\\svm\\_base.py:986: ConvergenceWarning: Liblinear failed to converge, increase the number of iterations.\n",
      "  \"the number of iterations.\", ConvergenceWarning)\n"
     ]
    },
    {
     "name": "stdout",
     "output_type": "stream",
     "text": [
      "Training the  <class 'sklearn.neural_network._multilayer_perceptron.MLPClassifier'>\n"
     ]
    }
   ],
   "source": [
    "for model in (random_forest_clf,extra_trees_clf,svm_clf,mlp_clf):\n",
    "    print(\"Training the \",model.__class__)\n",
    "    model.fit(X_train,y_train)"
   ]
  },
  {
   "cell_type": "code",
   "execution_count": 12,
   "id": "a258d8d0",
   "metadata": {},
   "outputs": [
    {
     "name": "stdout",
     "output_type": "stream",
     "text": [
      "the score of  RandomForestClassifier is 0.9736\n",
      "the score of  ExtraTreesClassifier is 0.9743\n",
      "the score of  LinearSVC is 0.8578\n",
      "the score of  MLPClassifier is 0.9646\n"
     ]
    }
   ],
   "source": [
    "for model in (random_forest_clf,extra_trees_clf,svm_clf,mlp_clf):\n",
    "    print(\"the score of \",model.__class__.__name__,\"is\",model.score(X_val,y_val))"
   ]
  },
  {
   "cell_type": "markdown",
   "id": "62c75c54",
   "metadata": {},
   "source": [
    "## 集成模型"
   ]
  },
  {
   "cell_type": "code",
   "execution_count": 13,
   "id": "08a87ace",
   "metadata": {},
   "outputs": [],
   "source": [
    "from sklearn.ensemble import VotingClassifier"
   ]
  },
  {
   "cell_type": "code",
   "execution_count": 14,
   "id": "cdb0a421",
   "metadata": {},
   "outputs": [],
   "source": [
    "vot_clf = VotingClassifier([('random_forest_clf', random_forest_clf), (\n",
    "    'extra_trees,clf', extra_trees_clf), ('svm_clf', svm_clf), ('mlp_clf', mlp_clf)])"
   ]
  },
  {
   "cell_type": "code",
   "execution_count": 15,
   "id": "a3b6d5a3",
   "metadata": {},
   "outputs": [
    {
     "name": "stderr",
     "output_type": "stream",
     "text": [
      "e:\\envs\\ai\\lib\\site-packages\\sklearn\\svm\\_base.py:986: ConvergenceWarning: Liblinear failed to converge, increase the number of iterations.\n",
      "  \"the number of iterations.\", ConvergenceWarning)\n"
     ]
    },
    {
     "data": {
      "text/plain": [
       "VotingClassifier(estimators=[('random_forest_clf',\n",
       "                              RandomForestClassifier(random_state=42)),\n",
       "                             ('extra_trees,clf',\n",
       "                              ExtraTreesClassifier(random_state=42)),\n",
       "                             ('svm_clf', LinearSVC(random_state=42)),\n",
       "                             ('mlp_clf', MLPClassifier(random_state=42))])"
      ]
     },
     "execution_count": 15,
     "metadata": {},
     "output_type": "execute_result"
    }
   ],
   "source": [
    "vot_clf.fit(X_train,y_train)"
   ]
  },
  {
   "cell_type": "code",
   "execution_count": 16,
   "id": "42eb6a76",
   "metadata": {},
   "outputs": [
    {
     "data": {
      "text/plain": [
       "0.9745"
      ]
     },
     "execution_count": 16,
     "metadata": {},
     "output_type": "execute_result"
    }
   ],
   "source": [
    "vot_clf.score(X_val,y_val)"
   ]
  },
  {
   "cell_type": "code",
   "execution_count": 17,
   "id": "3511be28",
   "metadata": {},
   "outputs": [
    {
     "data": {
      "text/plain": [
       "[0.9736, 0.9743, 0.8578, 0.9646]"
      ]
     },
     "execution_count": 17,
     "metadata": {},
     "output_type": "execute_result"
    }
   ],
   "source": [
    "[estimator.score(X_val,y_val) for estimator in vot_clf.estimators_]"
   ]
  },
  {
   "cell_type": "markdown",
   "id": "ab334f07",
   "metadata": {},
   "source": [
    "Let's remove the SVM to see if performance improves. It is possible to remove an estimator by setting it to `None` using `set_params()` like this:"
   ]
  },
  {
   "cell_type": "code",
   "execution_count": 18,
   "id": "316aef98",
   "metadata": {},
   "outputs": [
    {
     "data": {
      "text/plain": [
       "VotingClassifier(estimators=[('random_forest_clf',\n",
       "                              RandomForestClassifier(random_state=42)),\n",
       "                             ('extra_trees,clf',\n",
       "                              ExtraTreesClassifier(random_state=42)),\n",
       "                             ('svm_clf', None),\n",
       "                             ('mlp_clf', MLPClassifier(random_state=42))])"
      ]
     },
     "execution_count": 18,
     "metadata": {},
     "output_type": "execute_result"
    }
   ],
   "source": [
    "vot_clf.set_params(svm_clf=None)"
   ]
  },
  {
   "cell_type": "code",
   "execution_count": 19,
   "id": "68d9721e",
   "metadata": {},
   "outputs": [
    {
     "data": {
      "text/plain": [
       "[('random_forest_clf', RandomForestClassifier(random_state=42)),\n",
       " ('extra_trees,clf', ExtraTreesClassifier(random_state=42)),\n",
       " ('svm_clf', None),\n",
       " ('mlp_clf', MLPClassifier(random_state=42))]"
      ]
     },
     "execution_count": 19,
     "metadata": {},
     "output_type": "execute_result"
    }
   ],
   "source": [
    "vot_clf.estimators"
   ]
  },
  {
   "cell_type": "code",
   "execution_count": 20,
   "id": "56c3f187",
   "metadata": {},
   "outputs": [
    {
     "data": {
      "text/plain": [
       "[RandomForestClassifier(random_state=42),\n",
       " ExtraTreesClassifier(random_state=42),\n",
       " LinearSVC(random_state=42),\n",
       " MLPClassifier(random_state=42)]"
      ]
     },
     "execution_count": 20,
     "metadata": {},
     "output_type": "execute_result"
    }
   ],
   "source": [
    "vot_clf.estimators_"
   ]
  },
  {
   "cell_type": "code",
   "execution_count": 21,
   "id": "6d50ce3a",
   "metadata": {},
   "outputs": [],
   "source": [
    "del vot_clf.estimators_[2]"
   ]
  },
  {
   "cell_type": "code",
   "execution_count": 22,
   "id": "6a2fdc4e",
   "metadata": {},
   "outputs": [
    {
     "data": {
      "text/plain": [
       "[RandomForestClassifier(random_state=42),\n",
       " ExtraTreesClassifier(random_state=42),\n",
       " MLPClassifier(random_state=42)]"
      ]
     },
     "execution_count": 22,
     "metadata": {},
     "output_type": "execute_result"
    }
   ],
   "source": [
    "vot_clf.estimators_"
   ]
  },
  {
   "cell_type": "code",
   "execution_count": 23,
   "id": "2eb0ef9a",
   "metadata": {},
   "outputs": [
    {
     "data": {
      "text/plain": [
       "0.9763"
      ]
     },
     "execution_count": 23,
     "metadata": {},
     "output_type": "execute_result"
    }
   ],
   "source": [
    "# 再来观察得分\n",
    "vot_clf.score(X_val,y_val)"
   ]
  },
  {
   "cell_type": "markdown",
   "id": "657ed5a3",
   "metadata": {},
   "source": [
    "相较于0.9745有所提高。"
   ]
  },
  {
   "cell_type": "code",
   "execution_count": 24,
   "id": "0f7f9817",
   "metadata": {},
   "outputs": [],
   "source": [
    "# 将投票方式改成软投票\n",
    "vot_clf.voting='soft'"
   ]
  },
  {
   "cell_type": "code",
   "execution_count": 25,
   "id": "f278d76d",
   "metadata": {},
   "outputs": [
    {
     "data": {
      "text/plain": [
       "0.97"
      ]
     },
     "execution_count": 25,
     "metadata": {},
     "output_type": "execute_result"
    }
   ],
   "source": [
    "vot_clf.score(X_val,y_val)"
   ]
  },
  {
   "cell_type": "markdown",
   "id": "a094c41a",
   "metadata": {},
   "source": [
    "# 第九题"
   ]
  },
  {
   "cell_type": "code",
   "execution_count": null,
   "id": "3d24d76d",
   "metadata": {},
   "outputs": [],
   "source": []
  }
 ],
 "metadata": {
  "kernelspec": {
   "display_name": "Python 3",
   "language": "python",
   "name": "python3"
  },
  "language_info": {
   "codemirror_mode": {
    "name": "ipython",
    "version": 3
   },
   "file_extension": ".py",
   "mimetype": "text/x-python",
   "name": "python",
   "nbconvert_exporter": "python",
   "pygments_lexer": "ipython3",
   "version": "3.7.4"
  },
  "toc": {
   "base_numbering": 1,
   "nav_menu": {},
   "number_sections": true,
   "sideBar": true,
   "skip_h1_title": false,
   "title_cell": "Table of Contents",
   "title_sidebar": "Contents",
   "toc_cell": false,
   "toc_position": {},
   "toc_section_display": true,
   "toc_window_display": true
  }
 },
 "nbformat": 4,
 "nbformat_minor": 5
}
