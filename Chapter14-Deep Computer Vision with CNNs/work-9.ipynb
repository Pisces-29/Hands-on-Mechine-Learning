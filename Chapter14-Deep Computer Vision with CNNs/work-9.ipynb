{
 "cells": [
  {
   "cell_type": "markdown",
   "id": "e767cdd1",
   "metadata": {},
   "source": [
    "# 加载数据\n",
    "下面的模型使用 2 个卷积层，然后是 1 个池化层，然后是 dropout 25%，然后是一个密集层，另一个 dropout 层但有 50% 的 dropout，最后是输出层。 它在测试集上达到了大约 99.2% 的准确率。 这使该模型在 [MNIST Kaggle 竞赛](https://www.kaggle.com/c/digit-recognizer/) 中大致排在前 20%（如果我们忽略精度高于 99.79% 的模型，它们是 正如 Chris Deotte 在 [这篇文章](https://www.kaggle.com/c/digit-recognizer/discussion/61480) 中解释的那样，最有可能在测试集上进行训练。 你能做得更好吗？ 要在测试集上达到 99.5% 到 99.7% 的准确率，您需要添加图像增强、批量规范、使用学习计划（例如 1-cycle），并可能创建一个集成。"
   ]
  },
  {
   "cell_type": "code",
   "execution_count": 1,
   "id": "199752b4",
   "metadata": {},
   "outputs": [],
   "source": [
    "import keras\n",
    "import numpy as np\n",
    "import matplotlib.pyplot as plt\n",
    "import tensorflow as tf"
   ]
  },
  {
   "cell_type": "code",
   "execution_count": 2,
   "id": "a1c1973b",
   "metadata": {},
   "outputs": [],
   "source": [
    "from keras.datasets.mnist import load_data\n",
    "(X_train_full,y_train_full),(X_test,y_test)=load_data()"
   ]
  },
  {
   "cell_type": "code",
   "execution_count": 3,
   "id": "e9325604",
   "metadata": {},
   "outputs": [
    {
     "data": {
      "text/plain": [
       "(60000, 28, 28)"
      ]
     },
     "execution_count": 3,
     "metadata": {},
     "output_type": "execute_result"
    }
   ],
   "source": [
    "X_train_full.shape"
   ]
  },
  {
   "cell_type": "markdown",
   "id": "bc3b0ff4",
   "metadata": {},
   "source": [
    "# 分割数据"
   ]
  },
  {
   "cell_type": "code",
   "execution_count": 4,
   "id": "e0ba0fa9",
   "metadata": {},
   "outputs": [],
   "source": [
    "X_train_full=X_train_full/255.0\n",
    "X_test=X_test/255.0"
   ]
  },
  {
   "cell_type": "code",
   "execution_count": 5,
   "id": "bfa16561",
   "metadata": {},
   "outputs": [],
   "source": [
    "X_train,y_train=X_train_full[:-5000],y_train_full[:-5000]\n",
    "X_valid,y_valid=X_train_full[-5000:],y_train_full[-5000:]"
   ]
  },
  {
   "cell_type": "code",
   "execution_count": 6,
   "id": "3f0c3c83",
   "metadata": {},
   "outputs": [],
   "source": [
    "X_train=X_train.reshape([-1,28,28,1])\n",
    "X_test=X_test.reshape([-1,28,28,1])\n",
    "X_valid=X_valid.reshape([-1,28,28,1])"
   ]
  },
  {
   "cell_type": "code",
   "execution_count": 7,
   "id": "9588d180",
   "metadata": {},
   "outputs": [
    {
     "data": {
      "text/plain": [
       "(55000, 28, 28, 1)"
      ]
     },
     "execution_count": 7,
     "metadata": {},
     "output_type": "execute_result"
    }
   ],
   "source": [
    "X_train.shape"
   ]
  },
  {
   "cell_type": "markdown",
   "id": "410d3370",
   "metadata": {},
   "source": [
    "# 构建模型CNN"
   ]
  },
  {
   "cell_type": "code",
   "execution_count": 8,
   "id": "c0afc343",
   "metadata": {},
   "outputs": [],
   "source": [
    "model=keras.models.Sequential([\n",
    "    keras.layers.Conv2D(32,kernel_size=3,padding='SAME',activation='relu'),\n",
    "    keras.layers.Conv2D(64,kernel_size=3,padding='SAME',activation='relu'),\n",
    "    keras.layers.MaxPool2D(),\n",
    "    keras.layers.Flatten(),\n",
    "    keras.layers.Dropout(0.25),\n",
    "    keras.layers.Dense(128,activation='relu'),\n",
    "    keras.layers.Dropout(0.5),\n",
    "    keras.layers.Dense(10,activation='softmax')\n",
    "])"
   ]
  },
  {
   "cell_type": "code",
   "execution_count": 9,
   "id": "a3e0d8a3",
   "metadata": {},
   "outputs": [],
   "source": [
    "model.compile(optimizer='nadam',loss='sparse_categorical_crossentropy',metrics=['accuracy'])"
   ]
  },
  {
   "cell_type": "code",
   "execution_count": 10,
   "id": "df7a65e9",
   "metadata": {},
   "outputs": [
    {
     "name": "stdout",
     "output_type": "stream",
     "text": [
      "Epoch 1/50\n",
      "1719/1719 [==============================] - 132s 65ms/step - loss: 0.3517 - accuracy: 0.8877 - val_loss: 0.0451 - val_accuracy: 0.9882\n",
      "Epoch 2/50\n",
      "1719/1719 [==============================] - 129s 75ms/step - loss: 0.0822 - accuracy: 0.9750 - val_loss: 0.0374 - val_accuracy: 0.9898\n",
      "Epoch 3/50\n",
      "1719/1719 [==============================] - 134s 78ms/step - loss: 0.0549 - accuracy: 0.9828 - val_loss: 0.0416 - val_accuracy: 0.9900\n",
      "Epoch 4/50\n",
      "1719/1719 [==============================] - 136s 79ms/step - loss: 0.0452 - accuracy: 0.9860 - val_loss: 0.0336 - val_accuracy: 0.9922\n",
      "Epoch 5/50\n",
      "1719/1719 [==============================] - 137s 80ms/step - loss: 0.0394 - accuracy: 0.9877 - val_loss: 0.0294 - val_accuracy: 0.9932\n",
      "Epoch 6/50\n",
      "1719/1719 [==============================] - 137s 80ms/step - loss: 0.0363 - accuracy: 0.9889 - val_loss: 0.0329 - val_accuracy: 0.9922\n",
      "Epoch 7/50\n",
      "1719/1719 [==============================] - 138s 80ms/step - loss: 0.0290 - accuracy: 0.9906 - val_loss: 0.0416 - val_accuracy: 0.9914\n",
      "Epoch 8/50\n",
      "1719/1719 [==============================] - 140s 81ms/step - loss: 0.0271 - accuracy: 0.9915 - val_loss: 0.0326 - val_accuracy: 0.9932\n",
      "Epoch 9/50\n",
      "1719/1719 [==============================] - 141s 82ms/step - loss: 0.0232 - accuracy: 0.9922 - val_loss: 0.0331 - val_accuracy: 0.9934\n",
      "Epoch 10/50\n",
      "1719/1719 [==============================] - 139s 81ms/step - loss: 0.0208 - accuracy: 0.9933 - val_loss: 0.0363 - val_accuracy: 0.9932\n"
     ]
    },
    {
     "data": {
      "text/plain": [
       "<keras.callbacks.History at 0x1af18a11d08>"
      ]
     },
     "execution_count": 10,
     "metadata": {},
     "output_type": "execute_result"
    }
   ],
   "source": [
    "earlystopping=keras.callbacks.EarlyStopping(patience=5)\n",
    "checkpoint=keras.callbacks.ModelCheckpoint(filepath='my_mnist_model.h5',save_best_only=True)\n",
    "model.fit(X_train,y_train,epochs=50,validation_data=(X_valid,y_valid),callbacks=[earlystopping,checkpoint])"
   ]
  },
  {
   "cell_type": "code",
   "execution_count": 11,
   "id": "01f623a0",
   "metadata": {},
   "outputs": [],
   "source": [
    "model=keras.models.load_model('./my_mnist_model.h5')"
   ]
  },
  {
   "cell_type": "code",
   "execution_count": 12,
   "id": "dc415611",
   "metadata": {},
   "outputs": [
    {
     "name": "stdout",
     "output_type": "stream",
     "text": [
      "313/313 [==============================] - 3s 9ms/step - loss: 0.0266 - accuracy: 0.9924\n"
     ]
    },
    {
     "data": {
      "text/plain": [
       "[0.026591341942548752, 0.9923999905586243]"
      ]
     },
     "execution_count": 12,
     "metadata": {},
     "output_type": "execute_result"
    }
   ],
   "source": [
    "model.evaluate(X_test,y_test)"
   ]
  },
  {
   "cell_type": "code",
   "execution_count": null,
   "id": "17b6fb21",
   "metadata": {},
   "outputs": [],
   "source": []
  }
 ],
 "metadata": {
  "kernelspec": {
   "display_name": "Python 3",
   "language": "python",
   "name": "python3"
  },
  "language_info": {
   "codemirror_mode": {
    "name": "ipython",
    "version": 3
   },
   "file_extension": ".py",
   "mimetype": "text/x-python",
   "name": "python",
   "nbconvert_exporter": "python",
   "pygments_lexer": "ipython3",
   "version": "3.7.4"
  },
  "toc": {
   "base_numbering": 1,
   "nav_menu": {},
   "number_sections": true,
   "sideBar": true,
   "skip_h1_title": false,
   "title_cell": "Table of Contents",
   "title_sidebar": "Contents",
   "toc_cell": false,
   "toc_position": {},
   "toc_section_display": true,
   "toc_window_display": true
  }
 },
 "nbformat": 4,
 "nbformat_minor": 5
}
