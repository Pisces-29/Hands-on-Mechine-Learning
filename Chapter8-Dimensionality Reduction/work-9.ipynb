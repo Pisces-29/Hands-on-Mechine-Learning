{
 "cells": [
  {
   "cell_type": "markdown",
   "id": "8f68e577",
   "metadata": {},
   "source": [
    "# 加载数据"
   ]
  },
  {
   "cell_type": "code",
   "execution_count": 1,
   "id": "cba5b1c3",
   "metadata": {},
   "outputs": [],
   "source": [
    "import numpy as np\n",
    "import matplotlib as plt"
   ]
  },
  {
   "cell_type": "code",
   "execution_count": 2,
   "id": "ce4d192a",
   "metadata": {},
   "outputs": [],
   "source": [
    "from sklearn.datasets import fetch_openml\n",
    "mnist=fetch_openml('mnist_784',version=1)"
   ]
  },
  {
   "cell_type": "markdown",
   "id": "9e80a554",
   "metadata": {},
   "source": [
    "# 分割数据"
   ]
  },
  {
   "cell_type": "code",
   "execution_count": 3,
   "id": "5cb006d6",
   "metadata": {},
   "outputs": [],
   "source": [
    "X_train=mnist.data[:60000]\n",
    "X_test=mnist.data[60000:]\n",
    "y_train=mnist.target[:60000]\n",
    "y_test=mnist.target[60000:]"
   ]
  },
  {
   "cell_type": "code",
   "execution_count": 4,
   "id": "127a6e30",
   "metadata": {},
   "outputs": [
    {
     "data": {
      "text/plain": [
       "((60000, 784), (10000, 784))"
      ]
     },
     "execution_count": 4,
     "metadata": {},
     "output_type": "execute_result"
    }
   ],
   "source": [
    "X_train.shape,X_test.shape"
   ]
  },
  {
   "cell_type": "markdown",
   "id": "0488879e",
   "metadata": {},
   "source": [
    "# 模型建立"
   ]
  },
  {
   "cell_type": "code",
   "execution_count": 5,
   "id": "b1bec55a",
   "metadata": {},
   "outputs": [],
   "source": [
    "from sklearn.ensemble import RandomForestClassifier\n",
    "rnd_forest_clf1=RandomForestClassifier(n_estimators=100,random_state=42,n_jobs=-1)"
   ]
  },
  {
   "cell_type": "code",
   "execution_count": 6,
   "id": "8de5626a",
   "metadata": {},
   "outputs": [
    {
     "name": "stdout",
     "output_type": "stream",
     "text": [
      "Wall time: 13.9 s\n"
     ]
    },
    {
     "data": {
      "text/plain": [
       "RandomForestClassifier(n_jobs=-1, random_state=42)"
      ]
     },
     "execution_count": 6,
     "metadata": {},
     "output_type": "execute_result"
    }
   ],
   "source": [
    "%%time\n",
    "rnd_forest_clf1.fit(X_train,y_train)"
   ]
  },
  {
   "cell_type": "markdown",
   "id": "13ba0dcf",
   "metadata": {},
   "source": [
    "# 模型评估"
   ]
  },
  {
   "cell_type": "code",
   "execution_count": 7,
   "id": "639bba17",
   "metadata": {},
   "outputs": [],
   "source": [
    "from sklearn.metrics import accuracy_score\n",
    "y_pred=rnd_forest_clf1.predict(X_test)"
   ]
  },
  {
   "cell_type": "code",
   "execution_count": 8,
   "id": "eef74b48",
   "metadata": {},
   "outputs": [
    {
     "data": {
      "text/plain": [
       "0.9705"
      ]
     },
     "execution_count": 8,
     "metadata": {},
     "output_type": "execute_result"
    }
   ],
   "source": [
    "accuracy_score(y_test,y_pred)"
   ]
  },
  {
   "cell_type": "markdown",
   "id": "53f6e7f4",
   "metadata": {},
   "source": [
    "# 数据降维"
   ]
  },
  {
   "cell_type": "code",
   "execution_count": 9,
   "id": "4d8478db",
   "metadata": {},
   "outputs": [],
   "source": [
    "from sklearn.decomposition import PCA\n",
    "pca=PCA(n_components=0.95)\n",
    "X_train_reduced=pca.fit_transform(X_train)"
   ]
  },
  {
   "cell_type": "markdown",
   "id": "285ad73b",
   "metadata": {},
   "source": [
    "# 模型训练"
   ]
  },
  {
   "cell_type": "code",
   "execution_count": 10,
   "id": "9ddd4e0d",
   "metadata": {},
   "outputs": [],
   "source": [
    "rnd_forest_clf2=RandomForestClassifier(n_estimators=100,random_state=42,n_jobs=-1)"
   ]
  },
  {
   "cell_type": "code",
   "execution_count": 11,
   "id": "b47ab5c1",
   "metadata": {},
   "outputs": [
    {
     "name": "stdout",
     "output_type": "stream",
     "text": [
      "Wall time: 32.4 s\n"
     ]
    },
    {
     "data": {
      "text/plain": [
       "RandomForestClassifier(n_jobs=-1, random_state=42)"
      ]
     },
     "execution_count": 11,
     "metadata": {},
     "output_type": "execute_result"
    }
   ],
   "source": [
    "%%time\n",
    "rnd_forest_clf2.fit(X_train_reduced,y_train)"
   ]
  },
  {
   "cell_type": "markdown",
   "id": "37ba1e69",
   "metadata": {},
   "source": [
    "不好了！ 现在训练实际上慢了两倍多！ 这个怎么可能？ 好吧，正如我们在本章中看到的，降维并不总是会导致更快的训练时间：它取决于数据集、模型和训练算法。 参见图 8-6（上面的 `manifold_decision_boundary_plot*` 图）。 如果您尝试使用 softmax 分类器而不是随机森林分类器，您会发现使用 PCA 时训练时间减少了 3 倍。 实际上，我们将在一秒钟内完成此操作，但首先让我们检查新的随机森林分类器的精度。"
   ]
  },
  {
   "cell_type": "markdown",
   "id": "cddbe2bd",
   "metadata": {},
   "source": [
    "# 模型评估"
   ]
  },
  {
   "cell_type": "code",
   "execution_count": 12,
   "id": "42d255a3",
   "metadata": {},
   "outputs": [],
   "source": [
    "X_test_reduced=pca.transform(X_test)"
   ]
  },
  {
   "cell_type": "code",
   "execution_count": 13,
   "id": "62fabf79",
   "metadata": {},
   "outputs": [],
   "source": [
    "y_pred=rnd_forest_clf2.predict(X_test_reduced)"
   ]
  },
  {
   "cell_type": "code",
   "execution_count": 14,
   "id": "d2c6edba",
   "metadata": {},
   "outputs": [
    {
     "data": {
      "text/plain": [
       "0.9481"
      ]
     },
     "execution_count": 14,
     "metadata": {},
     "output_type": "execute_result"
    }
   ],
   "source": [
    "accuracy_score(y_pred,y_test)"
   ]
  },
  {
   "cell_type": "markdown",
   "id": "e1dc08d8",
   "metadata": {},
   "source": [
    "降低维度时，性能略有下降是很常见的，因为我们确实在此过程中丢失了一些有用的信号。 但是，在这种情况下，性能下降相当严重。 所以 PCA 真的没有帮助：它减慢了训练速度并降低了性能。 :(\n",
    "\n",
    "让我们看看它在使用 softmax 回归时是否有帮助："
   ]
  },
  {
   "cell_type": "markdown",
   "id": "94a09f0c",
   "metadata": {},
   "source": [
    "# softmax模型建立"
   ]
  },
  {
   "cell_type": "code",
   "execution_count": 15,
   "id": "f3e5db14",
   "metadata": {},
   "outputs": [],
   "source": [
    "from sklearn.linear_model import LogisticRegression"
   ]
  },
  {
   "cell_type": "code",
   "execution_count": 18,
   "id": "7d3a0691",
   "metadata": {},
   "outputs": [],
   "source": [
    "log_clf=LogisticRegression(multi_class='multinomial',solver='lbfgs',random_state=42,n_jobs=-1)"
   ]
  },
  {
   "cell_type": "code",
   "execution_count": 19,
   "id": "ebe82ec2",
   "metadata": {},
   "outputs": [
    {
     "name": "stdout",
     "output_type": "stream",
     "text": [
      "Wall time: 1min 6s\n"
     ]
    },
    {
     "data": {
      "text/plain": [
       "LogisticRegression(multi_class='multinomial', n_jobs=-1, random_state=42)"
      ]
     },
     "execution_count": 19,
     "metadata": {},
     "output_type": "execute_result"
    }
   ],
   "source": [
    "%%time\n",
    "log_clf.fit(X_train,y_train)"
   ]
  },
  {
   "cell_type": "code",
   "execution_count": 20,
   "id": "af722227",
   "metadata": {},
   "outputs": [
    {
     "data": {
      "text/plain": [
       "0.9255"
      ]
     },
     "execution_count": 20,
     "metadata": {},
     "output_type": "execute_result"
    }
   ],
   "source": [
    "y_pred=log_clf.predict(X_test)\n",
    "accuracy_score(y_test,y_pred)"
   ]
  },
  {
   "cell_type": "code",
   "execution_count": 21,
   "id": "778b4627",
   "metadata": {},
   "outputs": [],
   "source": [
    "log_clf2=LogisticRegression(multi_class='multinomial',solver='lbfgs',random_state=42,n_jobs=-1)"
   ]
  },
  {
   "cell_type": "code",
   "execution_count": 22,
   "id": "dafabb11",
   "metadata": {},
   "outputs": [
    {
     "name": "stdout",
     "output_type": "stream",
     "text": [
      "Wall time: 15.7 s\n"
     ]
    },
    {
     "data": {
      "text/plain": [
       "LogisticRegression(multi_class='multinomial', n_jobs=-1, random_state=42)"
      ]
     },
     "execution_count": 22,
     "metadata": {},
     "output_type": "execute_result"
    }
   ],
   "source": [
    "%%time\n",
    "log_clf2.fit(X_train_reduced,y_train)"
   ]
  },
  {
   "cell_type": "code",
   "execution_count": 24,
   "id": "852ed5e5",
   "metadata": {},
   "outputs": [
    {
     "data": {
      "text/plain": [
       "0.9201"
      ]
     },
     "execution_count": 24,
     "metadata": {},
     "output_type": "execute_result"
    }
   ],
   "source": [
    "y_pred=log_clf2.predict(X_test_reduced)\n",
    "accuracy_score(y_test,y_pred)"
   ]
  },
  {
   "cell_type": "markdown",
   "id": "fb19f935",
   "metadata": {},
   "source": [
    "So there you have it: PCA can give you a formidable speedup... but not always!"
   ]
  },
  {
   "cell_type": "code",
   "execution_count": null,
   "id": "4dd2548f",
   "metadata": {},
   "outputs": [],
   "source": []
  }
 ],
 "metadata": {
  "kernelspec": {
   "display_name": "Python 3",
   "language": "python",
   "name": "python3"
  },
  "language_info": {
   "codemirror_mode": {
    "name": "ipython",
    "version": 3
   },
   "file_extension": ".py",
   "mimetype": "text/x-python",
   "name": "python",
   "nbconvert_exporter": "python",
   "pygments_lexer": "ipython3",
   "version": "3.7.4"
  },
  "toc": {
   "base_numbering": 1,
   "nav_menu": {},
   "number_sections": true,
   "sideBar": true,
   "skip_h1_title": false,
   "title_cell": "Table of Contents",
   "title_sidebar": "Contents",
   "toc_cell": false,
   "toc_position": {},
   "toc_section_display": true,
   "toc_window_display": true
  }
 },
 "nbformat": 4,
 "nbformat_minor": 5
}
