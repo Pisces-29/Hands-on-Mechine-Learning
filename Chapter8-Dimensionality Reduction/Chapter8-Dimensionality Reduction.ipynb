{
 "cells": [
  {
   "cell_type": "markdown",
   "id": "8874f149",
   "metadata": {},
   "source": [
    "# 维度的诅咒\n",
    "- 高维超立方体中大多数点都非常接近边界。\n",
    "- 高维数据集有很大的可能是非常稀疏的。\n",
    "- 训练集的维数越高，过拟合的风险越大。"
   ]
  },
  {
   "cell_type": "markdown",
   "id": "301cf29c",
   "metadata": {},
   "source": [
    "# 降维的主要方法\n",
    "## 投影\n",
    "例如，3D空间向2D空间进行投影。投影并不总是降低维度的最好方法，在许多情况下，子空间可能会发生扭曲和转动。"
   ]
  },
  {
   "cell_type": "markdown",
   "id": "8e8e9573",
   "metadata": {},
   "source": [
    "## 流形学习\n",
    "见书上概念。"
   ]
  },
  {
   "cell_type": "markdown",
   "id": "1e1a33ae",
   "metadata": {},
   "source": [
    "# PCA\n",
    "首先它识别最靠近数据的超平面，然后将数据投影到其上。"
   ]
  },
  {
   "cell_type": "markdown",
   "id": "43220674",
   "metadata": {},
   "source": [
    "## 保留差异性\n",
    "## 主要成分\n",
    "- 主成分分析法可以在训练集中识别出哪条轴对差异性的贡献度最高。\n",
    "- 第i个轴成为数据的第i个主要成分(PC)。轴与轴之间垂直正交。图8-7中，第一个PC是向量c1所在的轴，第二个PC是向量c2所在的轴。\n",
    "- 对于每个主要成分，PCA都找到一个指向PC方向的零中心单位向量。由于两个相对的单位位于同一轴上，因此PCA返回的单位向量的方向不稳定。\n",
    "- 用奇异值分解来找到训练集的主要成分。X=USVt"
   ]
  },
  {
   "cell_type": "code",
   "execution_count": 1,
   "id": "c210a87e",
   "metadata": {},
   "outputs": [],
   "source": [
    "import numpy as np\n",
    "import matplotlib.pyplot as plt\n",
    "np.random.seed(4)\n",
    "m = 60\n",
    "w1, w2 = 0.1, 0.3\n",
    "noise = 0.1\n",
    "\n",
    "angles = np.random.rand(m) * 3 * np.pi / 2 - 0.5\n",
    "X = np.empty((m, 3))\n",
    "X[:, 0] = np.cos(angles) + np.sin(angles)/2 + noise * np.random.randn(m) / 2\n",
    "X[:, 1] = np.sin(angles) * 0.7 + noise * np.random.randn(m) / 2\n",
    "X[:, 2] = X[:, 0] * w1 + X[:, 1] * w2 + noise * np.random.randn(m)"
   ]
  },
  {
   "cell_type": "code",
   "execution_count": 2,
   "id": "db7117f4",
   "metadata": {},
   "outputs": [],
   "source": [
    "# numpy的svd()函数来获取训练集的所有主要成分,然后提取定义前两个PC的单位向量。\n",
    "X_centered=X-X.mean(axis=0)\n",
    "U,s,Vt=np.linalg.svd(X_centered)"
   ]
  },
  {
   "cell_type": "code",
   "execution_count": 3,
   "id": "01450762",
   "metadata": {},
   "outputs": [],
   "source": [
    "c1=Vt.T[:,0]\n",
    "c2=Vt.T[:,1]"
   ]
  },
  {
   "cell_type": "code",
   "execution_count": 4,
   "id": "47cf48e1",
   "metadata": {},
   "outputs": [
    {
     "data": {
      "text/plain": [
       "(array([0.93636116, 0.29854881, 0.18465208]),\n",
       " array([-0.34027485,  0.90119108,  0.2684542 ]))"
      ]
     },
     "execution_count": 4,
     "metadata": {},
     "output_type": "execute_result"
    }
   ],
   "source": [
    "c1,c2 # 两个轴"
   ]
  },
  {
   "cell_type": "code",
   "execution_count": 5,
   "id": "d43d0b04",
   "metadata": {},
   "outputs": [
    {
     "data": {
      "text/plain": [
       "array([[-1.03976771e+00, -7.60238460e-01, -3.32880482e-01],\n",
       "       [-3.17841939e-02,  3.90260570e-01, -3.64766659e-02],\n",
       "       [-9.77238797e-01, -6.73862060e-01, -3.20757101e-01],\n",
       "       [-9.44190485e-01,  7.70779228e-04, -4.97304144e-02],\n",
       "       [-7.87164831e-01, -5.10641487e-02,  1.19970744e-01],\n",
       "       [ 1.09409378e+00,  1.15762056e-01,  2.45551498e-01],\n",
       "       [-1.04665623e+00, -8.53165791e-01, -2.05241169e-01],\n",
       "       [ 6.49452398e-01, -4.82750342e-01, -7.94325731e-02],\n",
       "       [ 9.92128132e-01,  3.06140931e-01,  3.96278747e-01],\n",
       "       [ 5.25509785e-01,  4.67955007e-01,  1.62461684e-01],\n",
       "       [-1.01367188e+00, -2.00458976e-01, -1.93074561e-01],\n",
       "       [ 1.10841362e+00,  7.29745189e-02, -1.82449496e-03],\n",
       "       [-1.01744457e+00, -4.77653389e-01, -2.29165228e-01],\n",
       "       [-9.71704237e-01, -7.08910047e-01, -2.10833327e-01],\n",
       "       [ 1.07688965e+00, -3.86770525e-02,  2.63501050e-02],\n",
       "       [-3.70113351e-01,  2.44018985e-01, -7.21578839e-03],\n",
       "       [ 6.66958762e-01, -4.82702763e-01, -1.30819379e-01],\n",
       "       [ 6.58961570e-01,  4.94893306e-01,  1.74868964e-01],\n",
       "       [ 8.53335653e-01, -3.77076159e-01, -9.31775506e-02],\n",
       "       [-1.08496872e+00, -6.91462364e-01, -4.57289483e-01],\n",
       "       [ 4.99298994e-01,  4.56533302e-01,  3.18636773e-01],\n",
       "       [-9.68261478e-01, -8.24346725e-01, -5.47655403e-01],\n",
       "       [-9.95696248e-01, -2.01900467e-01, -2.59197914e-01],\n",
       "       [-1.12967405e+00, -5.28358225e-01, -2.43450657e-01],\n",
       "       [ 1.15080196e+00, -5.21430098e-02,  1.94243537e-01],\n",
       "       [ 8.89303784e-01, -3.70140054e-01, -4.93216487e-02],\n",
       "       [-3.10955736e-01,  3.54412625e-01,  4.05536550e-02],\n",
       "       [ 1.07840518e+00,  9.22705117e-04,  1.06715054e-01],\n",
       "       [-9.59883386e-01, -6.49908833e-02, -1.47966737e-01],\n",
       "       [ 6.37654256e-01,  5.25741745e-01,  3.02812268e-01],\n",
       "       [ 7.48942448e-02,  3.96869463e-01,  7.19124652e-02],\n",
       "       [-1.10509902e+00, -7.56186325e-01, -4.42257576e-01],\n",
       "       [ 5.97516448e-03,  3.96090230e-01,  6.58083742e-02],\n",
       "       [ 9.54398819e-01, -2.57659480e-01,  2.14189027e-02],\n",
       "       [ 9.48507065e-01, -5.36761335e-02,  1.95319276e-01],\n",
       "       [-9.33100547e-02,  3.60966465e-01,  2.52596756e-01],\n",
       "       [-7.16575427e-03,  4.37240303e-01,  8.41641583e-02],\n",
       "       [-4.29512278e-01,  1.82940809e-01, -1.40837271e-01],\n",
       "       [ 6.17560823e-01,  4.75517142e-01,  5.96746673e-02],\n",
       "       [-6.64187997e-01,  2.06463839e-01,  2.01702638e-01],\n",
       "       [ 7.08572753e-01,  5.46722769e-01,  1.88237198e-01],\n",
       "       [-4.74064792e-01,  3.20203835e-01,  8.80953633e-02],\n",
       "       [-1.00867810e+00, -1.85883567e-01,  2.87456755e-02],\n",
       "       [ 1.09532478e+00,  3.69732245e-02,  4.62628912e-02],\n",
       "       [ 7.60343211e-01,  4.33797210e-01,  1.80366155e-01],\n",
       "       [ 1.42297531e-01,  5.10258424e-01,  1.02897833e-01],\n",
       "       [-6.97784920e-01,  1.43560151e-01, -1.42651977e-01],\n",
       "       [ 1.09022918e+00,  2.09499568e-01,  2.45498412e-01],\n",
       "       [-1.37883404e-01,  4.28064152e-01,  2.14850953e-01],\n",
       "       [-4.78784699e-01,  2.23366474e-01, -1.74592301e-01],\n",
       "       [-1.18197222e+00, -6.00535225e-01, -2.06536653e-01],\n",
       "       [ 8.10873592e-01,  4.54797366e-01,  1.87579928e-01],\n",
       "       [-4.93470426e-01,  1.87065416e-01,  1.87852845e-02],\n",
       "       [ 1.12439206e+00,  1.09421302e-01,  1.58702567e-01],\n",
       "       [ 2.16331762e-01,  3.89579266e-01,  1.50315900e-03],\n",
       "       [ 1.08160954e+00,  2.33561034e-03,  7.14246161e-02],\n",
       "       [-1.03558753e+00, -6.58809150e-01, -4.06642750e-01],\n",
       "       [ 5.01126668e-01,  4.37983062e-01,  3.66682813e-01],\n",
       "       [-1.11982458e+00, -3.78394231e-01, -1.32658423e-02],\n",
       "       [ 5.62856986e-01,  4.10942417e-01,  1.81621833e-01]])"
      ]
     },
     "execution_count": 5,
     "metadata": {},
     "output_type": "execute_result"
    }
   ],
   "source": [
    "X_centered"
   ]
  },
  {
   "cell_type": "markdown",
   "id": "c17a47d8",
   "metadata": {},
   "source": [
    "PCA假定数据集以原点为中心。如果自己使用PCA，或者使用其它库，切记要将数据集居中。"
   ]
  },
  {
   "cell_type": "markdown",
   "id": "8f1be6d6",
   "metadata": {},
   "source": [
    "## 向下投影到d维度\n",
    "- 一旦确定了主要成分，你就可以将数据集投影到前d个主要成分定义的超平面上。\n",
    "- X<sub>d-proj</sub>=XW<sub>d</sub>。W<sub>d</sub>定义为包含V的前d列的矩阵。"
   ]
  },
  {
   "cell_type": "code",
   "execution_count": 6,
   "id": "09041a5e",
   "metadata": {},
   "outputs": [],
   "source": [
    "W2=Vt.T[:,:2]\n",
    "X2D=X_centered.dot(W2)"
   ]
  },
  {
   "cell_type": "code",
   "execution_count": 7,
   "id": "e04f977a",
   "metadata": {},
   "outputs": [
    {
     "data": {
      "text/plain": [
       "array([[-1.26203346, -0.42067648],\n",
       "       [ 0.08001485,  0.35272239],\n",
       "       [-1.17545763, -0.36085729],\n",
       "       [-0.89305601,  0.30862856],\n",
       "       [-0.73016287,  0.25404049],\n",
       "       [ 1.10436914, -0.20204953],\n",
       "       [-1.27265808, -0.46781247],\n",
       "       [ 0.44933007, -0.67736663],\n",
       "       [ 1.09356195,  0.04467792],\n",
       "       [ 0.66177325,  0.28651264],\n",
       "       [-1.04466138,  0.11244353],\n",
       "       [ 1.05932502, -0.31189109],\n",
       "       [-1.13761426, -0.14576655],\n",
       "       [-1.16044117, -0.36481599],\n",
       "       [ 1.00167625, -0.39422008],\n",
       "       [-0.2750406 ,  0.34391089],\n",
       "       [ 0.45624787, -0.69707573],\n",
       "       [ 0.79706574,  0.26870969],\n",
       "       [ 0.66924929, -0.65520024],\n",
       "       [-1.30679728, -0.37671343],\n",
       "       [ 0.6626586 ,  0.32706423],\n",
       "       [-1.25387588, -0.56043928],\n",
       "       [-1.04046987,  0.08727672],\n",
       "       [-1.26047729, -0.1571074 ],\n",
       "       [ 1.09786649, -0.38643428],\n",
       "       [ 0.7130973 , -0.64941523],\n",
       "       [-0.17786909,  0.43609071],\n",
       "       [ 1.02975735, -0.33747452],\n",
       "       [-0.94552283,  0.22833268],\n",
       "       [ 0.80994916,  0.33810729],\n",
       "       [ 0.20189175,  0.3514758 ],\n",
       "       [-1.34219411, -0.42415687],\n",
       "       [ 0.13599883,  0.37258632],\n",
       "       [ 0.8206931 , -0.55120835],\n",
       "       [ 0.90818634, -0.31869127],\n",
       "       [ 0.06703671,  0.42486148],\n",
       "       [ 0.13936893,  0.41906961],\n",
       "       [-0.37356775,  0.27320849],\n",
       "       [ 0.7312441 ,  0.23441131],\n",
       "       [-0.5230355 ,  0.46621776],\n",
       "       [ 0.86146183,  0.30212526],\n",
       "       [-0.33203239,  0.47352674],\n",
       "       [-0.99467436,  0.18342807],\n",
       "       [ 1.04520043, -0.32697207],\n",
       "       [ 0.87477048,  0.18062856],\n",
       "       [ 0.30457923,  0.43904343],\n",
       "       [-0.63685997,  0.32851826],\n",
       "       [ 1.1287259 , -0.11627335],\n",
       "       [ 0.03836205,  0.49036349],\n",
       "       [-0.41386843,  0.31734423],\n",
       "       [-1.32417938, -0.1944472 ],\n",
       "       [ 0.92968677,  0.18429606],\n",
       "       [-0.40274964,  0.34154025],\n",
       "       [ 1.11480941, -0.24138847],\n",
       "       [ 0.31915065,  0.27787663],\n",
       "       [ 1.02666316, -0.34676546],\n",
       "       [-1.24145806, -0.35049349],\n",
       "       [ 0.66770361,  0.32262317],\n",
       "       [-1.16397896,  0.03648137],\n",
       "       [ 0.68326064,  0.22756871]])"
      ]
     },
     "execution_count": 7,
     "metadata": {},
     "output_type": "execute_result"
    }
   ],
   "source": [
    "X2D"
   ]
  },
  {
   "cell_type": "markdown",
   "id": "26dfc6b8",
   "metadata": {},
   "source": [
    "## 使用sklearn"
   ]
  },
  {
   "cell_type": "code",
   "execution_count": 8,
   "id": "5c89241c",
   "metadata": {},
   "outputs": [],
   "source": [
    "from sklearn.decomposition import PCA\n",
    "pca=PCA(n_components=2)\n",
    "X2D=pca.fit_transform(X)"
   ]
  },
  {
   "cell_type": "markdown",
   "id": "27a46e7a",
   "metadata": {},
   "source": [
    "将PCA转换器拟合到数据后，其components_属性是W<sub>d</sub>的转置。"
   ]
  },
  {
   "cell_type": "code",
   "execution_count": 9,
   "id": "afb62d10",
   "metadata": {},
   "outputs": [
    {
     "data": {
      "text/plain": [
       "array([-0.93636116, -0.29854881, -0.18465208])"
      ]
     },
     "execution_count": 9,
     "metadata": {},
     "output_type": "execute_result"
    }
   ],
   "source": [
    "# 第一个主成分的单位向量\n",
    "pca.components_.T[:,0]"
   ]
  },
  {
   "cell_type": "markdown",
   "id": "0b4baaa1",
   "metadata": {},
   "source": [
    "## 可解释方差比\n",
    "通过explained_variance_ratio_变量来或得，该比率表示沿每个成分的数据集方差的比率。"
   ]
  },
  {
   "cell_type": "code",
   "execution_count": 10,
   "id": "325b9f00",
   "metadata": {},
   "outputs": [
    {
     "data": {
      "text/plain": [
       "array([0.84248607, 0.14631839])"
      ]
     },
     "execution_count": 10,
     "metadata": {},
     "output_type": "execute_result"
    }
   ],
   "source": [
    "pca.explained_variance_ratio_"
   ]
  },
  {
   "cell_type": "markdown",
   "id": "9c24e5b3",
   "metadata": {},
   "source": [
    "数据集方差的84.2%位于第一个PC上，而14.6%位于第二个PC上。对于第三个PC还不到1.2%，可以合理的假设第三个PC携带的信息很少。"
   ]
  },
  {
   "cell_type": "markdown",
   "id": "7b9205b1",
   "metadata": {},
   "source": [
    "## 选择正确的维度\n",
    "与其任意选择要减小的维度，不如选择相加足够大的方差部分(例如95%)的维度。如果是为了数据可视化降低维度，需要将维度降到2到3."
   ]
  },
  {
   "cell_type": "code",
   "execution_count": 11,
   "id": "2302f000",
   "metadata": {},
   "outputs": [],
   "source": [
    "# 以下代码在不降低维度的情况下执行PCA，然后计算保留95%训练方差所需要的最小维度。\n",
    "from sklearn.datasets import fetch_openml\n",
    "\n",
    "mnist = fetch_openml('mnist_784', version=1)\n",
    "mnist.target = mnist.target.astype(np.uint8)"
   ]
  },
  {
   "cell_type": "code",
   "execution_count": 12,
   "id": "521c9270",
   "metadata": {},
   "outputs": [],
   "source": [
    "from sklearn.model_selection import train_test_split\n",
    "\n",
    "X = mnist[\"data\"]\n",
    "y = mnist[\"target\"]\n",
    "\n",
    "X_train, X_test, y_train, y_test = train_test_split(X, y)"
   ]
  },
  {
   "cell_type": "code",
   "execution_count": 13,
   "id": "516b89a4",
   "metadata": {},
   "outputs": [
    {
     "data": {
      "text/plain": [
       "PCA()"
      ]
     },
     "execution_count": 13,
     "metadata": {},
     "output_type": "execute_result"
    }
   ],
   "source": [
    "pca=PCA()\n",
    "pca.fit(X_train)"
   ]
  },
  {
   "cell_type": "code",
   "execution_count": 14,
   "id": "0c6ef610",
   "metadata": {},
   "outputs": [],
   "source": [
    "cumsum=np.cumsum(pca.explained_variance_ratio_)# 求数组的所有元素的累计和"
   ]
  },
  {
   "cell_type": "code",
   "execution_count": 15,
   "id": "26976a55",
   "metadata": {},
   "outputs": [],
   "source": [
    "d=np.argmax(cumsum>=0.95)+1"
   ]
  },
  {
   "cell_type": "code",
   "execution_count": 16,
   "id": "dbcc5d86",
   "metadata": {},
   "outputs": [
    {
     "data": {
      "text/plain": [
       "154"
      ]
     },
     "execution_count": 16,
     "metadata": {},
     "output_type": "execute_result"
    }
   ],
   "source": [
    "d"
   ]
  },
  {
   "cell_type": "markdown",
   "id": "643a35ba",
   "metadata": {},
   "source": [
    "- 还有一个更好的方法，将n_components设置为0.0到1.0之间的浮点数来表示要保留的方差率。"
   ]
  },
  {
   "cell_type": "code",
   "execution_count": 17,
   "id": "7229181d",
   "metadata": {},
   "outputs": [],
   "source": [
    "pca=PCA(n_components=0.95)\n",
    "X_reduced=pca.fit_transform(X_train)"
   ]
  },
  {
   "cell_type": "markdown",
   "id": "63bb3779",
   "metadata": {},
   "source": [
    "## PCA压缩\n",
    "- 降维后，训练集占用的空间要少得多。\n",
    "- 通过PCA投影的逆变换，还可以将压缩的数据还原。由于降维会丢失一些信息，因此不会给你原始的数据，但可能会接近原始的数据。原始数据与重构数据之间的均方距离称为重构误差。"
   ]
  },
  {
   "cell_type": "code",
   "execution_count": 18,
   "id": "2874d2f2",
   "metadata": {},
   "outputs": [],
   "source": [
    "# 以下代码将mnist数据集压缩到154个维度，然后将其解压缩回784个维度。\n",
    "pca=PCA(n_components=154)\n",
    "X_reduced=pca.fit_transform(X_train)\n",
    "x_recovered=pca.inverse_transform(X_reduced)"
   ]
  },
  {
   "cell_type": "markdown",
   "id": "9323a0a3",
   "metadata": {},
   "source": [
    "## 随机PCA\n",
    "如果将svd_solver设置为randomized，则sklearn将使用一种Randomized PCA的方法。该算法可以快速找到前d个主成分的近似值。当d远远小于n时，它比完全的svd快得多。"
   ]
  },
  {
   "cell_type": "code",
   "execution_count": 19,
   "id": "1144b46d",
   "metadata": {},
   "outputs": [],
   "source": [
    "pca=PCA(n_components=154,svd_solver='randomized')\n",
    "X_reduced=pca.fit_transform(X_train)"
   ]
  },
  {
   "cell_type": "markdown",
   "id": "754c28ed",
   "metadata": {},
   "source": [
    "默认，svd_solver实际上设置为'auto'：如果m或n大于500并且d小于m或n的80%，sklearn自动使用随机PCA算法。如果要使用完全SVD方法，可以将svd_solver='full'"
   ]
  },
  {
   "cell_type": "markdown",
   "id": "22c6b4bc",
   "metadata": {},
   "source": [
    "## 增量PCA\n",
    "IPCA。它们可以使你把训练集划分为多个小批量，并一次将一个小批量送入IPCA算法。这对大型训练集和在线应用PCA很有用。"
   ]
  },
  {
   "cell_type": "code",
   "execution_count": 20,
   "id": "f62090f5",
   "metadata": {},
   "outputs": [],
   "source": [
    "# 以下代码将mnist数据集拆分为100个小批数据集，并将其送入致sklearn的IncrementalPCA类\n",
    "from sklearn.decomposition import IncrementalPCA"
   ]
  },
  {
   "cell_type": "code",
   "execution_count": 21,
   "id": "9d709226",
   "metadata": {},
   "outputs": [],
   "source": [
    "n_batches=100\n",
    "inc_pca=IncrementalPCA(n_components=154)\n",
    "for X_batch in np.array_split(X_train,n_batches):\n",
    "    inc_pca.partial_fit(X_batch)# 小批量中调用该方法"
   ]
  },
  {
   "cell_type": "code",
   "execution_count": 22,
   "id": "a8bb6c33",
   "metadata": {},
   "outputs": [],
   "source": [
    "X_reduced=inc_pca.transform(X)"
   ]
  },
  {
   "cell_type": "markdown",
   "id": "e6ad29b9",
   "metadata": {},
   "source": [
    "# 内核PCA\n",
    "运用SVM内核的方法，将该技术应用于PCA。执行复杂的非线性投影来降低维度。"
   ]
  },
  {
   "cell_type": "code",
   "execution_count": 23,
   "id": "afe6d8aa",
   "metadata": {},
   "outputs": [],
   "source": [
    "# 下面的代码使用sklearn中的KernelPCA类以及RBF内核来执行kPCA\n",
    "from sklearn.decomposition import KernelPCA\n",
    "rbf_pca=KernelPCA(n_components=2,kernel='rbf',gamma=0.4)"
   ]
  },
  {
   "cell_type": "code",
   "execution_count": 24,
   "id": "9c289583",
   "metadata": {},
   "outputs": [],
   "source": [
    "from sklearn.datasets import make_swiss_roll"
   ]
  },
  {
   "cell_type": "code",
   "execution_count": 25,
   "id": "ae29cd7c",
   "metadata": {},
   "outputs": [],
   "source": [
    "X, t = make_swiss_roll(n_samples=1000, noise=0.2, random_state=42)\n",
    "y = (t > 6.9).astype(np.uint8)\n",
    "X_reduced=rbf_pca.fit_transform(X)"
   ]
  },
  {
   "cell_type": "markdown",
   "id": "192f26c6",
   "metadata": {},
   "source": [
    "## 选择内核并调整超参数\n",
    "kPCA是一种有监督学习算法，因此没有明显的性能指标可以帮助你选择最好的超参数。也就是说，降维通常是有监督学习任务的准备步骤。因此可以用网格搜索来选择内核和超参数。"
   ]
  },
  {
   "cell_type": "code",
   "execution_count": 26,
   "id": "82acb89d",
   "metadata": {},
   "outputs": [],
   "source": [
    "from sklearn.model_selection import GridSearchCV\n",
    "from sklearn.linear_model import LogisticRegression\n",
    "from sklearn.pipeline import Pipeline"
   ]
  },
  {
   "cell_type": "code",
   "execution_count": 30,
   "id": "e51fbee8",
   "metadata": {},
   "outputs": [],
   "source": [
    "clf=Pipeline([('kpca',KernelPCA(n_components=2)),('log_clf',LogisticRegression())])"
   ]
  },
  {
   "cell_type": "code",
   "execution_count": 31,
   "id": "4be10635",
   "metadata": {},
   "outputs": [],
   "source": [
    "param_grid = [{\n",
    "        \"kpca__gamma\": np.linspace(0.03, 0.05, 10),\n",
    "        \"kpca__kernel\": [\"rbf\", \"sigmoid\"]\n",
    "    }]"
   ]
  },
  {
   "cell_type": "code",
   "execution_count": 32,
   "id": "e1ee413a",
   "metadata": {},
   "outputs": [
    {
     "data": {
      "text/plain": [
       "GridSearchCV(cv=3,\n",
       "             estimator=Pipeline(steps=[('kpca', KernelPCA(n_components=2)),\n",
       "                                       ('log_clf', LogisticRegression())]),\n",
       "             param_grid=[{'kpca__gamma': array([0.03      , 0.03222222, 0.03444444, 0.03666667, 0.03888889,\n",
       "       0.04111111, 0.04333333, 0.04555556, 0.04777778, 0.05      ]),\n",
       "                          'kpca__kernel': ['rbf', 'sigmoid']}])"
      ]
     },
     "execution_count": 32,
     "metadata": {},
     "output_type": "execute_result"
    }
   ],
   "source": [
    "grid_search=GridSearchCV(clf,param_grid,cv=3)\n",
    "grid_search.fit(X,y)"
   ]
  },
  {
   "cell_type": "code",
   "execution_count": 33,
   "id": "4ea053a4",
   "metadata": {},
   "outputs": [
    {
     "data": {
      "text/plain": [
       "Pipeline(steps=[('kpca',\n",
       "                 KernelPCA(gamma=0.043333333333333335, kernel='rbf',\n",
       "                           n_components=2)),\n",
       "                ('log_clf', LogisticRegression())])"
      ]
     },
     "execution_count": 33,
     "metadata": {},
     "output_type": "execute_result"
    }
   ],
   "source": [
    "grid_search.best_estimator_"
   ]
  },
  {
   "cell_type": "markdown",
   "id": "41ac649b",
   "metadata": {},
   "source": [
    "内核PCA和重构原像的误差"
   ]
  },
  {
   "cell_type": "code",
   "execution_count": 35,
   "id": "9ee14678",
   "metadata": {},
   "outputs": [],
   "source": [
    "rbf_pca=KernelPCA(n_components=2,kernel='rbf',gamma=0.0433,fit_inverse_transform=True)"
   ]
  },
  {
   "cell_type": "code",
   "execution_count": 36,
   "id": "f0c25025",
   "metadata": {},
   "outputs": [],
   "source": [
    "X_reduced=rbf_pca.fit_transform(X)\n",
    "X_preimage=rbf_pca.inverse_transform(X_reduced)"
   ]
  },
  {
   "cell_type": "code",
   "execution_count": 37,
   "id": "17ff4047",
   "metadata": {},
   "outputs": [
    {
     "data": {
      "text/plain": [
       "32.786308795766146"
      ]
     },
     "execution_count": 37,
     "metadata": {},
     "output_type": "execute_result"
    }
   ],
   "source": [
    "from sklearn.metrics import mean_squared_error\n",
    "mean_squared_error(X,X_preimage)"
   ]
  },
  {
   "cell_type": "markdown",
   "id": "dc63e750",
   "metadata": {},
   "source": [
    "# LLE\n",
    "局部线性嵌入，它是一种流型学习技术，不像以前的算法那样依赖投影。简而言之，LLE的原理是首先测量每个训练实例，如何与其最近的邻居线性相关，然后寻找可以最好保留这些局部关系的训练集低维表现形式。这种方法特别适合展开扭曲的流型，尤其是在没有特别多的噪声的情况下。"
   ]
  },
  {
   "cell_type": "code",
   "execution_count": 38,
   "id": "3530ca2f",
   "metadata": {},
   "outputs": [],
   "source": [
    "from sklearn.manifold import LocallyLinearEmbedding\n",
    "lle=LocallyLinearEmbedding(n_components=2,n_neighbors=10)\n",
    "X_reduced=lle.fit_transform(X)"
   ]
  },
  {
   "cell_type": "code",
   "execution_count": null,
   "id": "c931b075",
   "metadata": {},
   "outputs": [],
   "source": []
  }
 ],
 "metadata": {
  "kernelspec": {
   "display_name": "Python 3",
   "language": "python",
   "name": "python3"
  },
  "language_info": {
   "codemirror_mode": {
    "name": "ipython",
    "version": 3
   },
   "file_extension": ".py",
   "mimetype": "text/x-python",
   "name": "python",
   "nbconvert_exporter": "python",
   "pygments_lexer": "ipython3",
   "version": "3.7.4"
  },
  "toc": {
   "base_numbering": 1,
   "nav_menu": {},
   "number_sections": true,
   "sideBar": true,
   "skip_h1_title": false,
   "title_cell": "Table of Contents",
   "title_sidebar": "Contents",
   "toc_cell": false,
   "toc_position": {
    "height": "calc(100% - 180px)",
    "left": "10px",
    "top": "150px",
    "width": "303.837px"
   },
   "toc_section_display": true,
   "toc_window_display": true
  }
 },
 "nbformat": 4,
 "nbformat_minor": 5
}
