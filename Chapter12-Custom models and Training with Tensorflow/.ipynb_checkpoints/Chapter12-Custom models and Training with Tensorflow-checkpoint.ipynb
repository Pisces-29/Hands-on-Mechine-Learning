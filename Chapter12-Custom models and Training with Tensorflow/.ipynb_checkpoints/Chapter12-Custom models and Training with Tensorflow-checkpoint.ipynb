{
 "cells": [
  {
   "cell_type": "markdown",
   "id": "6456741b",
   "metadata": {},
   "source": [
    "# 像numpy一样使用Tensorflow\n",
    "## 张量和操作\n",
    "- 可以使用tf.constant1()操作创建张量。"
   ]
  },
  {
   "cell_type": "code",
   "execution_count": 1,
   "id": "70b0ece8",
   "metadata": {},
   "outputs": [
    {
     "data": {
      "text/plain": [
       "<tf.Tensor: shape=(2, 3), dtype=float32, numpy=\n",
       "array([[1., 2., 3.],\n",
       "       [4., 5., 6.]], dtype=float32)>"
      ]
     },
     "execution_count": 1,
     "metadata": {},
     "output_type": "execute_result"
    }
   ],
   "source": [
    "# 两行三列浮点数矩阵的张量\n",
    "import tensorflow as tf\n",
    "tf.constant([[1.,2.,3.],[4.,5.,6.]])"
   ]
  },
  {
   "cell_type": "code",
   "execution_count": 2,
   "id": "0ed2cc8b",
   "metadata": {},
   "outputs": [
    {
     "data": {
      "text/plain": [
       "<tf.Tensor: shape=(), dtype=int32, numpy=42>"
      ]
     },
     "execution_count": 2,
     "metadata": {},
     "output_type": "execute_result"
    }
   ],
   "source": [
    "# 标量\n",
    "tf.constant(42)"
   ]
  },
  {
   "cell_type": "markdown",
   "id": "c215ffe6",
   "metadata": {},
   "source": [
    "就像ndarray一样tf.Tensor具有形状和数据类型"
   ]
  },
  {
   "cell_type": "code",
   "execution_count": 3,
   "id": "d3b0612c",
   "metadata": {},
   "outputs": [
    {
     "data": {
      "text/plain": [
       "TensorShape([2, 3])"
      ]
     },
     "execution_count": 3,
     "metadata": {},
     "output_type": "execute_result"
    }
   ],
   "source": [
    "t=tf.constant([[1.,2.,3.],[4.,5.,6.]])\n",
    "t.shape"
   ]
  },
  {
   "cell_type": "code",
   "execution_count": 4,
   "id": "c9eb24c2",
   "metadata": {},
   "outputs": [
    {
     "data": {
      "text/plain": [
       "tf.float32"
      ]
     },
     "execution_count": 4,
     "metadata": {},
     "output_type": "execute_result"
    }
   ],
   "source": [
    "t.dtype"
   ]
  },
  {
   "cell_type": "markdown",
   "id": "4db0520f",
   "metadata": {},
   "source": [
    "索引的工作方式非常像numpy。"
   ]
  },
  {
   "cell_type": "code",
   "execution_count": 5,
   "id": "b23817f2",
   "metadata": {},
   "outputs": [
    {
     "data": {
      "text/plain": [
       "<tf.Tensor: shape=(2, 2), dtype=float32, numpy=\n",
       "array([[2., 3.],\n",
       "       [5., 6.]], dtype=float32)>"
      ]
     },
     "execution_count": 5,
     "metadata": {},
     "output_type": "execute_result"
    }
   ],
   "source": [
    "t[:,1:]"
   ]
  },
  {
   "cell_type": "markdown",
   "id": "6346ca81",
   "metadata": {},
   "source": [
    "最重要的是可以使用各种张量操作"
   ]
  },
  {
   "cell_type": "code",
   "execution_count": 6,
   "id": "0e45d720",
   "metadata": {},
   "outputs": [
    {
     "data": {
      "text/plain": [
       "<tf.Tensor: shape=(2, 3), dtype=float32, numpy=\n",
       "array([[11., 12., 13.],\n",
       "       [14., 15., 16.]], dtype=float32)>"
      ]
     },
     "execution_count": 6,
     "metadata": {},
     "output_type": "execute_result"
    }
   ],
   "source": [
    "t+10"
   ]
  },
  {
   "cell_type": "code",
   "execution_count": 7,
   "id": "9017d30f",
   "metadata": {},
   "outputs": [
    {
     "data": {
      "text/plain": [
       "<tf.Tensor: shape=(2, 3), dtype=float32, numpy=\n",
       "array([[ 1.,  4.,  9.],\n",
       "       [16., 25., 36.]], dtype=float32)>"
      ]
     },
     "execution_count": 7,
     "metadata": {},
     "output_type": "execute_result"
    }
   ],
   "source": [
    "tf.square(t)"
   ]
  },
  {
   "cell_type": "code",
   "execution_count": 8,
   "id": "16b3d658",
   "metadata": {},
   "outputs": [
    {
     "data": {
      "text/plain": [
       "<tf.Tensor: shape=(2, 2), dtype=float32, numpy=\n",
       "array([[14., 32.],\n",
       "       [32., 77.]], dtype=float32)>"
      ]
     },
     "execution_count": 8,
     "metadata": {},
     "output_type": "execute_result"
    }
   ],
   "source": [
    "t@tf.transpose(t)"
   ]
  },
  {
   "cell_type": "markdown",
   "id": "3fcaf6c9",
   "metadata": {},
   "source": [
    "## 张量和numpy\n",
    "张量可以与NumPy配合使用:你可以用numpy数组创建张量，反之亦然。你甚至可以将Tensorflow操作应用于Numpy数组，将numpy操作应用于张量。"
   ]
  },
  {
   "cell_type": "code",
   "execution_count": 9,
   "id": "b7c8d2ef",
   "metadata": {},
   "outputs": [],
   "source": [
    "import numpy as np\n",
    "a=np.array([2.,4.,5.])"
   ]
  },
  {
   "cell_type": "code",
   "execution_count": 10,
   "id": "ab4551d9",
   "metadata": {},
   "outputs": [
    {
     "data": {
      "text/plain": [
       "<tf.Tensor: shape=(3,), dtype=float64, numpy=array([2., 4., 5.])>"
      ]
     },
     "execution_count": 10,
     "metadata": {},
     "output_type": "execute_result"
    }
   ],
   "source": [
    "tf.constant(a)"
   ]
  },
  {
   "cell_type": "code",
   "execution_count": 11,
   "id": "e097b470",
   "metadata": {},
   "outputs": [
    {
     "data": {
      "text/plain": [
       "array([[1., 2., 3.],\n",
       "       [4., 5., 6.]], dtype=float32)"
      ]
     },
     "execution_count": 11,
     "metadata": {},
     "output_type": "execute_result"
    }
   ],
   "source": [
    "t.numpy()"
   ]
  },
  {
   "cell_type": "code",
   "execution_count": 12,
   "id": "7df36b74",
   "metadata": {},
   "outputs": [
    {
     "data": {
      "text/plain": [
       "<tf.Tensor: shape=(3,), dtype=float64, numpy=array([ 4., 16., 25.])>"
      ]
     },
     "execution_count": 12,
     "metadata": {},
     "output_type": "execute_result"
    }
   ],
   "source": [
    "tf.square(a)"
   ]
  },
  {
   "cell_type": "code",
   "execution_count": 13,
   "id": "c9bb063b",
   "metadata": {},
   "outputs": [
    {
     "data": {
      "text/plain": [
       "array([[ 1.,  4.,  9.],\n",
       "       [16., 25., 36.]], dtype=float32)"
      ]
     },
     "execution_count": 13,
     "metadata": {},
     "output_type": "execute_result"
    }
   ],
   "source": [
    "np.square(t)"
   ]
  },
  {
   "cell_type": "markdown",
   "id": "45d632b4",
   "metadata": {},
   "source": [
    "注意默认情况下numpy使用64位精度，而TensorFlow使用32位精度。因此当你从numpy数组创建张量时，请确保设置dtype=tf.float32。"
   ]
  },
  {
   "cell_type": "markdown",
   "id": "611d410d",
   "metadata": {},
   "source": [
    "## 类型转换\n",
    "Tensorflow不会自动执行任何类型转换，如果你对不兼容类型的张量操作，会引发异常。"
   ]
  },
  {
   "cell_type": "code",
   "execution_count": 14,
   "id": "787418c1",
   "metadata": {},
   "outputs": [],
   "source": [
    "# 进行类型转换\n",
    "t2=tf.constant(40.,dtype=tf.float64)"
   ]
  },
  {
   "cell_type": "code",
   "execution_count": 15,
   "id": "dac333ef",
   "metadata": {},
   "outputs": [
    {
     "data": {
      "text/plain": [
       "<tf.Tensor: shape=(), dtype=float32, numpy=42.0>"
      ]
     },
     "execution_count": 15,
     "metadata": {},
     "output_type": "execute_result"
    }
   ],
   "source": [
    "tf.constant(2.0)+tf.cast(t2,tf.float32)"
   ]
  },
  {
   "cell_type": "markdown",
   "id": "01c303e3",
   "metadata": {},
   "source": [
    "## 变量\n",
    "到目前为止，我们看到的tf.Tensor值是不变的，无法修改它们。我们需要的是题tf.Variable"
   ]
  },
  {
   "cell_type": "code",
   "execution_count": 16,
   "id": "c7c4a9fd",
   "metadata": {},
   "outputs": [],
   "source": [
    "v=tf.Variable([[1.,2.,3.],[4.,5.,6.]])"
   ]
  },
  {
   "cell_type": "code",
   "execution_count": 17,
   "id": "dc7f394c",
   "metadata": {},
   "outputs": [
    {
     "data": {
      "text/plain": [
       "<tf.Variable 'Variable:0' shape=(2, 3) dtype=float32, numpy=\n",
       "array([[1., 2., 3.],\n",
       "       [4., 5., 6.]], dtype=float32)>"
      ]
     },
     "execution_count": 17,
     "metadata": {},
     "output_type": "execute_result"
    }
   ],
   "source": [
    "v"
   ]
  },
  {
   "cell_type": "markdown",
   "id": "27c1264c",
   "metadata": {},
   "source": [
    "## 其它数据结构\n",
    "- 稀疏张量 tf.SparseTensor\n",
    "- 张量数组 tf.TensorArray\n",
    "- 不规则张量 tf.RaggedTensor\n",
    "- 字符串张量 tf.string\n",
    "- 集合 tf.sets\n",
    "- 队列 tf.queue"
   ]
  },
  {
   "cell_type": "markdown",
   "id": "2118a393",
   "metadata": {},
   "source": [
    "# 定制模型和训练算法\n",
    "## 自定义损失函数\n",
    "来写一个huber损失函数。![huber loss](./huber.png)"
   ]
  },
  {
   "cell_type": "code",
   "execution_count": 18,
   "id": "cf122853",
   "metadata": {},
   "outputs": [],
   "source": [
    "# 此时假设阈值δ为1\n",
    "def huber_fn(y_true, y_pred):\n",
    "    error = y_true - y_pred\n",
    "    is_small_error = tf.abs(error) < 1\n",
    "    squared_loss = tf.square(error) / 2\n",
    "    linear_loss  = tf.abs(error) - 0.5\n",
    "    return tf.where(is_small_error, squared_loss, linear_loss)\n",
    "# where是三元表达式"
   ]
  },
  {
   "cell_type": "markdown",
   "id": "b01deace",
   "metadata": {},
   "source": [
    "应仅使用tf操作。可以在编译的时候使用该损失函数model.compile(loss=huber_fn, ...)"
   ]
  },
  {
   "cell_type": "markdown",
   "id": "d7295de3",
   "metadata": {},
   "source": [
    "## 保存和加载具有自定义组件的模型"
   ]
  },
  {
   "cell_type": "code",
   "execution_count": 19,
   "id": "15b145ac",
   "metadata": {},
   "outputs": [],
   "source": [
    "from sklearn.datasets import fetch_california_housing\n",
    "from sklearn.model_selection import train_test_split\n",
    "from sklearn.preprocessing import StandardScaler\n",
    "\n",
    "housing = fetch_california_housing()\n",
    "X_train_full, X_test, y_train_full, y_test = train_test_split(\n",
    "    housing.data, housing.target.reshape(-1, 1), random_state=42)\n",
    "X_train, X_valid, y_train, y_valid = train_test_split(\n",
    "    X_train_full, y_train_full, random_state=42)\n",
    "\n",
    "scaler = StandardScaler()\n",
    "X_train_scaled = scaler.fit_transform(X_train)\n",
    "X_valid_scaled = scaler.transform(X_valid)\n",
    "X_test_scaled = scaler.transform(X_test)"
   ]
  },
  {
   "cell_type": "code",
   "execution_count": 20,
   "id": "167843f1",
   "metadata": {},
   "outputs": [
    {
     "data": {
      "text/plain": [
       "(11610, 8)"
      ]
     },
     "execution_count": 20,
     "metadata": {},
     "output_type": "execute_result"
    }
   ],
   "source": [
    "X_train_scaled.shape"
   ]
  },
  {
   "cell_type": "code",
   "execution_count": 21,
   "id": "ef5249d7",
   "metadata": {},
   "outputs": [],
   "source": [
    "import keras\n",
    "model = keras.models.Sequential([\n",
    "    keras.layers.InputLayer(input_shape=[8]),\n",
    "    keras.layers.Dense(30, activation=\"selu\", kernel_initializer=\"lecun_normal\"),\n",
    "    keras.layers.Dense(1),\n",
    "])"
   ]
  },
  {
   "cell_type": "code",
   "execution_count": 22,
   "id": "ade192b8",
   "metadata": {},
   "outputs": [],
   "source": [
    "model.compile(loss=huber_fn, optimizer=keras.optimizers.Nadam(), metrics=[\"mae\"])"
   ]
  },
  {
   "cell_type": "code",
   "execution_count": 23,
   "id": "c056bdfd",
   "metadata": {},
   "outputs": [
    {
     "name": "stdout",
     "output_type": "stream",
     "text": [
      "Epoch 1/2\n",
      "363/363 [==============================] - 12s 2ms/step - loss: 1.0590 - mae: 1.4871 - val_loss: 154.3417 - val_mae: 154.8417\n",
      "Epoch 2/2\n",
      "363/363 [==============================] - 0s 1ms/step - loss: 0.2234 - mae: 0.5300 - val_loss: 67.6760 - val_mae: 68.1760\n"
     ]
    },
    {
     "data": {
      "text/plain": [
       "<keras.callbacks.History at 0x24146ee2088>"
      ]
     },
     "execution_count": 23,
     "metadata": {},
     "output_type": "execute_result"
    }
   ],
   "source": [
    "model.fit(X_train_scaled,y_train,epochs=2,validation_data=(X_valid,y_valid))"
   ]
  },
  {
   "cell_type": "code",
   "execution_count": 24,
   "id": "31e37939",
   "metadata": {},
   "outputs": [],
   "source": [
    "model.save('my_model_with_a_custom_loss.h5')"
   ]
  },
  {
   "cell_type": "markdown",
   "id": "455cffd1",
   "metadata": {},
   "source": [
    "一般而言，当加载包含自定义对象的模型时，需要将名称映射到对象上。"
   ]
  },
  {
   "cell_type": "code",
   "execution_count": 25,
   "id": "7ab787bc",
   "metadata": {},
   "outputs": [],
   "source": [
    "model=keras.models.load_model('my_model_with_a_custom_loss.h5',custom_objects={'huber_fn':huber_fn})"
   ]
  },
  {
   "cell_type": "markdown",
   "id": "6155b174",
   "metadata": {},
   "source": [
    "我们创建一个可以设定不同阈值的huber损失函数："
   ]
  },
  {
   "cell_type": "code",
   "execution_count": 26,
   "id": "f1861132",
   "metadata": {},
   "outputs": [],
   "source": [
    "def create_huber(threshold=1.0):\n",
    "    def huber_fn(y_true, y_pred):\n",
    "        error = y_true - y_pred\n",
    "        is_small_error = tf.abs(error) < threshold\n",
    "        squared_loss = tf.square(error) / 2\n",
    "        linear_loss = threshold*tf.abs(error) - threshold**2 / 2\n",
    "        return tf.where(is_small_error, squared_loss, linear_loss)\n",
    "    return huber_fn"
   ]
  },
  {
   "cell_type": "code",
   "execution_count": 27,
   "id": "5906043d",
   "metadata": {},
   "outputs": [],
   "source": [
    "model.compile(loss=create_huber(2.0),optimizer=keras.optimizers.Nadam(),metrics=['mae'])"
   ]
  },
  {
   "cell_type": "markdown",
   "id": "453d858d",
   "metadata": {},
   "source": [
    "不幸的是当你保存模型的时候不会保存阈值。这意味着在加载模型时必须指定阈值。"
   ]
  },
  {
   "cell_type": "code",
   "execution_count": 28,
   "id": "9b089a85",
   "metadata": {},
   "outputs": [
    {
     "name": "stdout",
     "output_type": "stream",
     "text": [
      "Epoch 1/2\n",
      "363/363 [==============================] - 1s 2ms/step - loss: 0.2340 - mae: 0.5033 - val_loss: 0.2467 - val_mae: 0.4915\n",
      "Epoch 2/2\n",
      "363/363 [==============================] - 0s 1ms/step - loss: 0.2294 - mae: 0.5000 - val_loss: 0.2055 - val_mae: 0.4683\n"
     ]
    },
    {
     "data": {
      "text/plain": [
       "<keras.callbacks.History at 0x24147716e88>"
      ]
     },
     "execution_count": 28,
     "metadata": {},
     "output_type": "execute_result"
    }
   ],
   "source": [
    "model.fit(X_train_scaled, y_train, epochs=2,\n",
    "          validation_data=(X_valid_scaled, y_valid))"
   ]
  },
  {
   "cell_type": "code",
   "execution_count": 29,
   "id": "5025e951",
   "metadata": {},
   "outputs": [],
   "source": [
    "model.save(\"my_model_with_a_custom_loss_threshold_2.h5\")"
   ]
  },
  {
   "cell_type": "code",
   "execution_count": 30,
   "id": "f43c19cd",
   "metadata": {},
   "outputs": [],
   "source": [
    "model = keras.models.load_model(\"my_model_with_a_custom_loss_threshold_2.h5\",\n",
    "                                custom_objects={\"huber_fn\": create_huber(2.0)})"
   ]
  },
  {
   "cell_type": "markdown",
   "id": "b1553048",
   "metadata": {},
   "source": [
    "可以通过创建keras.losses.Loss类的子类，然后实现其get_config()方法来解决此问题。"
   ]
  },
  {
   "cell_type": "code",
   "execution_count": 31,
   "id": "9a8c6485",
   "metadata": {},
   "outputs": [],
   "source": [
    "class HuberLoss(keras.losses.Loss):\n",
    "    def __init__(self,threshold=1.0,**kwargs):\n",
    "        self.threshold=threshold\n",
    "        super().__init__(**kwargs)\n",
    "    def call(self,y_true,y_pred):\n",
    "        error = y_true - y_pred\n",
    "        is_small_error = tf.abs(error) < self.threshold\n",
    "        squared_loss = tf.square(error) / 2\n",
    "        linear_loss = self.threshold*tf.abs(error) - self.threshold**2 / 2\n",
    "        return tf.where(is_small_error, squared_loss, linear_loss)\n",
    "    def get_config(self):\n",
    "        base_config=super().get_config()\n",
    "        return {**base_config,'threshold':self.threshold}"
   ]
  },
  {
   "cell_type": "markdown",
   "id": "5d3b35aa",
   "metadata": {},
   "source": [
    "然后你可以在编译模型时使用此类的任何实例。"
   ]
  },
  {
   "cell_type": "code",
   "execution_count": 32,
   "id": "5b15cf04",
   "metadata": {},
   "outputs": [],
   "source": [
    "model.compile(loss=HuberLoss(2.0),optimizer=keras.optimizers.Nadam(),metrics=['mae'])"
   ]
  },
  {
   "cell_type": "code",
   "execution_count": 33,
   "id": "645c398a",
   "metadata": {},
   "outputs": [
    {
     "name": "stdout",
     "output_type": "stream",
     "text": [
      "Epoch 1/2\n",
      "363/363 [==============================] - 1s 1ms/step - loss: 0.2299 - mae: 0.5002 - val_loss: 0.2067 - val_mae: 0.4682\n",
      "Epoch 2/2\n",
      "363/363 [==============================] - 0s 1ms/step - loss: 0.2232 - mae: 0.4923 - val_loss: 0.2495 - val_mae: 0.4885\n"
     ]
    },
    {
     "data": {
      "text/plain": [
       "<keras.callbacks.History at 0x24147595848>"
      ]
     },
     "execution_count": 33,
     "metadata": {},
     "output_type": "execute_result"
    }
   ],
   "source": [
    "model.fit(X_train_scaled, y_train, epochs=2,\n",
    "          validation_data=(X_valid_scaled, y_valid))"
   ]
  },
  {
   "cell_type": "markdown",
   "id": "31dbad9c",
   "metadata": {},
   "source": [
    "当你保存模型的时候阈值会一起保存，当你加载模型的时候只需要将类名映射到函数本身即可。"
   ]
  },
  {
   "cell_type": "code",
   "execution_count": 34,
   "id": "1ac48cf9",
   "metadata": {},
   "outputs": [],
   "source": [
    "model.save(\"my_model_with_a_custom_loss_class.h5\")"
   ]
  },
  {
   "cell_type": "code",
   "execution_count": 35,
   "id": "7c6060a8",
   "metadata": {},
   "outputs": [],
   "source": [
    "model = keras.models.load_model(\"my_model_with_a_custom_loss_class.h5\",\n",
    "                                custom_objects={\"HuberLoss\": HuberLoss})"
   ]
  },
  {
   "cell_type": "markdown",
   "id": "cd7f6b73",
   "metadata": {},
   "source": [
    "## 自定义激活函数和正则化约束"
   ]
  },
  {
   "cell_type": "markdown",
   "id": "bdb925b7",
   "metadata": {},
   "source": [
    "自定义激活函数softplus()"
   ]
  },
  {
   "cell_type": "code",
   "execution_count": 36,
   "id": "9cd364a8",
   "metadata": {},
   "outputs": [],
   "source": [
    "def my_softplus(z):\n",
    "    return tf.math.log(tf.exp(z)+1.0)"
   ]
  },
  {
   "cell_type": "markdown",
   "id": "2b36222e",
   "metadata": {},
   "source": [
    "自定义初始化glorot_normal()"
   ]
  },
  {
   "cell_type": "code",
   "execution_count": 37,
   "id": "8d0a00f2",
   "metadata": {},
   "outputs": [],
   "source": [
    "def my_glorot_initializer(shape,dtype=tf.float32):\n",
    "    stddev=tf.sqrt(2./(shape[0]+shape[1]))\n",
    "    return tf.random.normal(shape,stddev=stddev,dtype=dtype)"
   ]
  },
  {
   "cell_type": "markdown",
   "id": "60774039",
   "metadata": {},
   "source": [
    "自定义l1正则化"
   ]
  },
  {
   "cell_type": "code",
   "execution_count": 38,
   "id": "8b617f1a",
   "metadata": {},
   "outputs": [],
   "source": [
    "def my_l1_regularizer(weights):\n",
    "    return tf.reduce_sum(tf.abs(0.01*weights))"
   ]
  },
  {
   "cell_type": "markdown",
   "id": "f8efd206",
   "metadata": {},
   "source": [
    "确保权重为正的自定义约束keras.contraints.nonneg()"
   ]
  },
  {
   "cell_type": "code",
   "execution_count": 39,
   "id": "7d834c28",
   "metadata": {},
   "outputs": [],
   "source": [
    "def my_positive_weights(weights):\n",
    "    return tf.where(weights<0.,tf.zeros_like(weights),weights)"
   ]
  },
  {
   "cell_type": "markdown",
   "id": "fd107983",
   "metadata": {},
   "source": [
    "然后就可以使用这些函数了。"
   ]
  },
  {
   "cell_type": "code",
   "execution_count": 41,
   "id": "fd099508",
   "metadata": {},
   "outputs": [],
   "source": [
    "layer = keras.layers.Dense(30, activation=my_softplus, kernel_initializer=my_glorot_initializer,\n",
    "                           kernel_regularizer=my_l1_regularizer, kernel_constraint=my_positive_weights)"
   ]
  },
  {
   "cell_type": "markdown",
   "id": "c6332608",
   "metadata": {},
   "source": [
    "激活函数将应用于此Dense层的输出，其结果将传递下一层。层的权重将使用初始化程序返回的值进行初始化。在每个训练步骤中，权重将传递给正则化函数以计算正则化损失，并将其添加到主要损失中以得到用于训练的最终损失。最后将在每个训练步骤结束后调用约束函数，并将层的权重替换为约束权重。"
   ]
  },
  {
   "cell_type": "markdown",
   "id": "6f07b48d",
   "metadata": {},
   "source": [
    "如果函数具有需要与模型一起保存的超参数，你需要继承适当的类。注意你必须要实现call()（损失、层和模型）或者__ call __()（正则化、初始化、约束）。"
   ]
  },
  {
   "cell_type": "code",
   "execution_count": 42,
   "id": "5f59525c",
   "metadata": {},
   "outputs": [],
   "source": [
    "class MyL1Regularizer(keras.regularizers.Regularizer):\n",
    "    def __init__(self,factor):\n",
    "        self.factor=factor\n",
    "    def __call__(self,weights):\n",
    "        return tf.reduce_sum(tf.abs(self.factor*weights))\n",
    "    def get_config(self):\n",
    "        return {'factor':self.factor}"
   ]
  },
  {
   "cell_type": "markdown",
   "id": "1bd6d68c",
   "metadata": {},
   "source": [
    "## 自定义评价指标\n",
    "大多数情况下，定义一个指标函数与定义一个损失函数大致相同。"
   ]
  },
  {
   "cell_type": "code",
   "execution_count": 43,
   "id": "6cfdabcd",
   "metadata": {},
   "outputs": [],
   "source": [
    "model.compile(optimizer=keras.optimizers.Nadam(),loss='mse',metrics=[create_huber(2.0)])"
   ]
  },
  {
   "cell_type": "markdown",
   "id": "b4325376",
   "metadata": {},
   "source": [
    "训练的每个批次，Keras都会计算该指标并跟踪自轮次开始和以来的均值。"
   ]
  },
  {
   "cell_type": "code",
   "execution_count": 44,
   "id": "10e0af7d",
   "metadata": {},
   "outputs": [],
   "source": [
    "percision=keras.metrics.Precision()"
   ]
  },
  {
   "cell_type": "code",
   "execution_count": 45,
   "id": "800ce01d",
   "metadata": {},
   "outputs": [
    {
     "data": {
      "text/plain": [
       "<tf.Tensor: shape=(), dtype=float32, numpy=0.8>"
      ]
     },
     "execution_count": 45,
     "metadata": {},
     "output_type": "execute_result"
    }
   ],
   "source": [
    "percision([0,1,1,1,0,1,0,1],[1,1,0,1,0,1,0,1])"
   ]
  },
  {
   "cell_type": "markdown",
   "id": "32c84660",
   "metadata": {},
   "source": [
    "前面是标签，后面是预测。正例1中5个有4个被预测正确，所以精确度为80%"
   ]
  },
  {
   "cell_type": "markdown",
   "id": "f1722713",
   "metadata": {},
   "source": [
    "自定义部分不做重点说明。详细见书。"
   ]
  },
  {
   "cell_type": "markdown",
   "id": "9069eca8",
   "metadata": {},
   "source": [
    "## 自定义层"
   ]
  },
  {
   "cell_type": "markdown",
   "id": "14d6b5ab",
   "metadata": {},
   "source": [
    "首先某些层没有权重，例如keras.layers.Flatten()。要创建一个不带权重的层，最简单的选择就是编写一个函数并将其包装在Lambda层中。"
   ]
  },
  {
   "cell_type": "code",
   "execution_count": 46,
   "id": "cf84256f",
   "metadata": {},
   "outputs": [],
   "source": [
    "# 以下层对它的输入应用指数函数。\n",
    "exponential_layer=keras.layers.Lambda(lambda x : tf.exp(x))"
   ]
  },
  {
   "cell_type": "markdown",
   "id": "3abd9fef",
   "metadata": {},
   "source": [
    "要创建自定义的有状态层(即具有权重的层),你需要创建keras.layers.Layer类的子类。"
   ]
  },
  {
   "cell_type": "code",
   "execution_count": 48,
   "id": "c6b1d9a1",
   "metadata": {},
   "outputs": [],
   "source": [
    "# 以下实现了Dense层的简化版本。\n",
    "class MyDense(keras.layers.Layer):\n",
    "    def __init__(self,units,activation=None,**kwargs):\n",
    "        super().__init__(**kwargs)\n",
    "        self.units=units\n",
    "        self.activation=keras.activations.get(activation)\n",
    "    def build(self,batch_input_shape):\n",
    "        self.kernel=self.add_weight(name='kernel',shape=[batch_input_shape[-1],self.units],initializer='glorot_normal')\n",
    "        self.bias=self.add_weight(name='bias',shape=[self.units],initializer='zeros')\n",
    "        super().build(batch_input_shape) # 必须放在最后\n",
    "    def call(self,X):\n",
    "        return self.activationa(X@self.kernel+self.bias)\n",
    "    def compute_output_shape(self,batch_input_shape):\n",
    "        return tf.TensorShape(batch_input_shape.as_list()[:-1]+[self.units])\n",
    "    def get_config(self):\n",
    "        base_config=super().get_config()\n",
    "        return {**base_config,'units':self.units,'activation':keras.activations.serialize(self.activation)}"
   ]
  },
  {
   "cell_type": "markdown",
   "id": "7cb57c18",
   "metadata": {},
   "source": [
    "build(self, input_shape)：此方法可用于创建依赖于输入形状的权重，使用 add_weight()。 __ call __() 将通过调用 build() 自动构建层（如果尚未构建）。"
   ]
  },
  {
   "cell_type": "markdown",
   "id": "fb8b8dca",
   "metadata": {},
   "source": [
    "每一个方法的具体解释见书。不看也能理解。通常可以省略compute_output_shape()方法。"
   ]
  },
  {
   "cell_type": "markdown",
   "id": "9131cb17",
   "metadata": {},
   "source": [
    "要创建一个具有多个输入的层，call()方法的参数应该包含所有输入的元组，同样，compute_output_shape()方法的参数应该是一个包含每个输入批处理形状的元组。"
   ]
  },
  {
   "cell_type": "code",
   "execution_count": 49,
   "id": "20588558",
   "metadata": {},
   "outputs": [],
   "source": [
    "class MyMultiLayer(keras.layers.Layer):\n",
    "    def call(self,X):\n",
    "        X1,X2=X\n",
    "        return [X1+X2,X1*X2,X1/X2]\n",
    "    def compute_output_shape(self,batch_input_shape):\n",
    "        b1,b2=batch_input_shape\n",
    "        return [b1,b1,b1]"
   ]
  },
  {
   "cell_type": "markdown",
   "id": "c87d9e2f",
   "metadata": {},
   "source": [
    "如果你的层在训练期间和测试期间需要有不同的行为，则必须将训练参数添加到call()方法并使用此参数来决定要做什么。"
   ]
  },
  {
   "cell_type": "code",
   "execution_count": 50,
   "id": "fbaa8820",
   "metadata": {},
   "outputs": [],
   "source": [
    "class MyGaussianNoise(keras.layers.Layer):\n",
    "    def __init__(self,stddev,**kwargs):\n",
    "        super().__init__(**kwargs)\n",
    "        self.stddev=stddev\n",
    "    def call(self,X,training=None):\n",
    "        if training:\n",
    "            noise=tf.random.normal(tf.shape(X),stddev=self.stddev)\n",
    "            return X+noise\n",
    "        else:\n",
    "            return X\n",
    "    def compute_output_shape(self,batch_input_shape):\n",
    "        return batch_input_shape"
   ]
  },
  {
   "cell_type": "markdown",
   "id": "f31e572a",
   "metadata": {},
   "source": [
    "## 自定义模型\n",
    "![custom model](./custom_model.png)"
   ]
  },
  {
   "cell_type": "markdown",
   "id": "d2fdb0d7",
   "metadata": {},
   "source": [
    "**要实现此模型，首先最好要创建一个ResidualBlock层，因为我们要创建几个相同的块。**"
   ]
  },
  {
   "cell_type": "code",
   "execution_count": 51,
   "id": "0a364918",
   "metadata": {},
   "outputs": [],
   "source": [
    "class ResidualBlock(keras.layers.Layer):\n",
    "    def __init__(self,n_layers,n_neurons,**kwargs):\n",
    "        super().__init__(**kwargs)\n",
    "        self.hidden=[keras.layers.Dense(n_neurons,activation='elu',kernel_initializer='he_normal') for _ in range(n_layers)]\n",
    "    def call(self,inputs):\n",
    "        Z=inputs\n",
    "        for layer in self.hidden:\n",
    "            Z=layer(Z) # 输入按层传递\n",
    "        return inputs+Z # 拟合图中输出"
   ]
  },
  {
   "cell_type": "markdown",
   "id": "e68fc85f",
   "metadata": {},
   "source": [
    "这层比较特殊，因为包含其它的层。这会由keras透明处理。"
   ]
  },
  {
   "cell_type": "markdown",
   "id": "3eeb675b",
   "metadata": {},
   "source": [
    "接下来我们用model子类api来实现该模型。"
   ]
  },
  {
   "cell_type": "code",
   "execution_count": 52,
   "id": "779ed28f",
   "metadata": {},
   "outputs": [],
   "source": [
    "class ResidualRegressor(keras.Model):\n",
    "    def __init__(self,output_dim,**kwargs):\n",
    "        super().__init__(**kwargs)\n",
    "        self.hidden1=keras.layers.Dense(30,activation='elu',kernel_initializer='he_normal')\n",
    "        self.block1=ResidualBlock(2,30)\n",
    "        self.block2=ResidualBlock(2,30)\n",
    "        self.out=keras.layers.Dense(output_dim)\n",
    "    def call(self,inputs):\n",
    "        Z=self.hidden1(inputs)\n",
    "        for _ in range(1+3):\n",
    "            Z=self.block1(Z) # 先走一次，再回来走三次\n",
    "        Z=self.block2(Z)\n",
    "        return self.out(Z)"
   ]
  },
  {
   "cell_type": "markdown",
   "id": "d99a906d",
   "metadata": {},
   "source": [
    "如果你还希望能够使用save()方法保存模型和load_model()加载模型，则必须在两个ResidualBlock类和ResidualRegressor类中实现get_config()方法。（就像以前一样）"
   ]
  },
  {
   "cell_type": "code",
   "execution_count": null,
   "id": "fe3fc61e",
   "metadata": {},
   "outputs": [],
   "source": []
  }
 ],
 "metadata": {
  "kernelspec": {
   "display_name": "Python 3",
   "language": "python",
   "name": "python3"
  },
  "language_info": {
   "codemirror_mode": {
    "name": "ipython",
    "version": 3
   },
   "file_extension": ".py",
   "mimetype": "text/x-python",
   "name": "python",
   "nbconvert_exporter": "python",
   "pygments_lexer": "ipython3",
   "version": "3.7.4"
  },
  "toc": {
   "base_numbering": 1,
   "nav_menu": {},
   "number_sections": true,
   "sideBar": true,
   "skip_h1_title": false,
   "title_cell": "Table of Contents",
   "title_sidebar": "Contents",
   "toc_cell": false,
   "toc_position": {},
   "toc_section_display": true,
   "toc_window_display": true
  }
 },
 "nbformat": 4,
 "nbformat_minor": 5
}
