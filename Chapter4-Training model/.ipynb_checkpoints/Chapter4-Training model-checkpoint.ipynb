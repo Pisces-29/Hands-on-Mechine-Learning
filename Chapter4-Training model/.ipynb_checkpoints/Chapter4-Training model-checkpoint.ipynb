{
 "cells": [
  {
   "cell_type": "markdown",
   "id": "836b161f",
   "metadata": {},
   "source": [
    "# 线性回归\n",
    "## 标准方程\n",
    "![jupyter](./Norm.png)\n",
    "选取MSE而非RMSE的原因是MSE计算简单且MSE最小时RMSE同样最小。"
   ]
  },
  {
   "cell_type": "code",
   "execution_count": 1,
   "id": "87ecf55c",
   "metadata": {},
   "outputs": [],
   "source": [
    "# 我们随机生成一些数据来测试该方程\n",
    "import numpy as np\n",
    "X=2*np.random.rand(100,1)"
   ]
  },
  {
   "cell_type": "code",
   "execution_count": 2,
   "id": "407b4f55",
   "metadata": {},
   "outputs": [
    {
     "data": {
      "text/plain": [
       "array([[0.87557816],\n",
       "       [1.8263724 ],\n",
       "       [1.75440078],\n",
       "       [1.92425203],\n",
       "       [1.87056669],\n",
       "       [0.18597205],\n",
       "       [1.16063856],\n",
       "       [1.75627272],\n",
       "       [1.61966291],\n",
       "       [0.49049064]])"
      ]
     },
     "execution_count": 2,
     "metadata": {},
     "output_type": "execute_result"
    }
   ],
   "source": [
    "X[:10]"
   ]
  },
  {
   "cell_type": "code",
   "execution_count": 3,
   "id": "86c2561b",
   "metadata": {},
   "outputs": [],
   "source": [
    "y=4+3*X+np.random.randn(100,1)"
   ]
  },
  {
   "cell_type": "code",
   "execution_count": 4,
   "id": "596329db",
   "metadata": {},
   "outputs": [
    {
     "data": {
      "text/plain": [
       "array([[ 7.45286756],\n",
       "       [ 9.04532487],\n",
       "       [ 7.49163793],\n",
       "       [10.91586718],\n",
       "       [ 9.24354728],\n",
       "       [ 4.99005855],\n",
       "       [ 8.71610366],\n",
       "       [ 9.28661496],\n",
       "       [ 9.24907284],\n",
       "       [ 6.32032263]])"
      ]
     },
     "execution_count": 4,
     "metadata": {},
     "output_type": "execute_result"
    }
   ],
   "source": [
    "y[:10]"
   ]
  },
  {
   "cell_type": "code",
   "execution_count": 5,
   "id": "f03efeed",
   "metadata": {},
   "outputs": [],
   "source": [
    "import matplotlib.pyplot as plt"
   ]
  },
  {
   "cell_type": "code",
   "execution_count": 6,
   "id": "161061c4",
   "metadata": {},
   "outputs": [
    {
     "data": {
      "image/png": "[encoded data removed]",
      "text/plain": [
       "<Figure size 432x288 with 1 Axes>"
      ]
     },
     "metadata": {
      "needs_background": "light"
     },
     "output_type": "display_data"
    }
   ],
   "source": [
    "plt.scatter(x=X,y=y,alpha=0.5)\n",
    "plt.show()"
   ]
  },
  {
   "cell_type": "markdown",
   "id": "999cfd77",
   "metadata": {},
   "source": [
    "我们用标准方程来计算θ"
   ]
  },
  {
   "cell_type": "code",
   "execution_count": 7,
   "id": "c0f665a5",
   "metadata": {},
   "outputs": [],
   "source": [
    "X_b=np.c_[np.ones((100,1)),X] # add x0=1 to each instance"
   ]
  },
  {
   "cell_type": "code",
   "execution_count": 8,
   "id": "3e0b1671",
   "metadata": {},
   "outputs": [
    {
     "data": {
      "text/plain": [
       "array([[1.        , 0.87557816],\n",
       "       [1.        , 1.8263724 ],\n",
       "       [1.        , 1.75440078],\n",
       "       [1.        , 1.92425203],\n",
       "       [1.        , 1.87056669],\n",
       "       [1.        , 0.18597205],\n",
       "       [1.        , 1.16063856],\n",
       "       [1.        , 1.75627272],\n",
       "       [1.        , 1.61966291],\n",
       "       [1.        , 0.49049064]])"
      ]
     },
     "execution_count": 8,
     "metadata": {},
     "output_type": "execute_result"
    }
   ],
   "source": [
    "X_b[:10]"
   ]
  },
  {
   "cell_type": "code",
   "execution_count": 9,
   "id": "84359319",
   "metadata": {},
   "outputs": [],
   "source": [
    "theta_best=np.linalg.inv(X_b.T.dot(X_b)).dot(X_b.T).dot(y)"
   ]
  },
  {
   "cell_type": "code",
   "execution_count": 10,
   "id": "8e378304",
   "metadata": {},
   "outputs": [
    {
     "data": {
      "text/plain": [
       "array([[3.87624328],\n",
       "       [3.11700404]])"
      ]
     },
     "execution_count": 10,
     "metadata": {},
     "output_type": "execute_result"
    }
   ],
   "source": [
    "theta_best"
   ]
  },
  {
   "cell_type": "markdown",
   "id": "8ab2d8e6",
   "metadata": {},
   "source": [
    "由于我们拟合的方程是y=4+3*x1+高斯噪声，其原本形式是y=θ0+θ1*X+高斯噪声。变形式为y=θ0*x0+θ1*x1+高斯噪声，相当于x0均为1。想计算出两个θ，必须补充x0=1。从数据上看两个theta的拟合已经非常接近了，但由于高斯噪声存在，所以不可能完全拟合。"
   ]
  },
  {
   "cell_type": "code",
   "execution_count": 11,
   "id": "14a390c4",
   "metadata": {},
   "outputs": [
    {
     "data": {
      "text/plain": [
       "array([[1., 0.],\n",
       "       [1., 2.]])"
      ]
     },
     "execution_count": 11,
     "metadata": {},
     "output_type": "execute_result"
    }
   ],
   "source": [
    "# 现在可以用theta做预测\n",
    "X_new=np.array([[0],[2]])\n",
    "X_new_b=np.c_[np.ones((2,1)),X_new]\n",
    "X_new_b[:10]"
   ]
  },
  {
   "cell_type": "code",
   "execution_count": 12,
   "id": "8a559fe7",
   "metadata": {},
   "outputs": [
    {
     "data": {
      "text/plain": [
       "array([[ 3.87624328],\n",
       "       [10.11025136]])"
      ]
     },
     "execution_count": 12,
     "metadata": {},
     "output_type": "execute_result"
    }
   ],
   "source": [
    "y_predict=X_new_b.dot(theta_best)\n",
    "y_predict"
   ]
  },
  {
   "cell_type": "code",
   "execution_count": 13,
   "id": "45eb0442",
   "metadata": {},
   "outputs": [
    {
     "data": {
      "image/png": "[encoded data removed]",
      "text/plain": [
       "<Figure size 432x288 with 1 Axes>"
      ]
     },
     "metadata": {
      "needs_background": "light"
     },
     "output_type": "display_data"
    }
   ],
   "source": [
    "# 绘制出预测图像\n",
    "plt.plot(X_new,y_predict,'r-')\n",
    "plt.plot(X,y,'b.')\n",
    "plt.axis([0,2,0,15])\n",
    "# returns the current axes limits ``[xmin, xmax, ymin, ymax]``.::\n",
    "plt.show()"
   ]
  },
  {
   "cell_type": "code",
   "execution_count": 14,
   "id": "3fa1bf10",
   "metadata": {},
   "outputs": [
    {
     "data": {
      "text/plain": [
       "(array([3.87624328]), array([[3.11700404]]))"
      ]
     },
     "execution_count": 14,
     "metadata": {},
     "output_type": "execute_result"
    }
   ],
   "source": [
    "# 使用sklearn计算线性回归非常简单\n",
    "from sklearn.linear_model import LinearRegression\n",
    "lin_reg=LinearRegression()\n",
    "lin_reg.fit(X,y)\n",
    "lin_reg.intercept_,lin_reg.coef_"
   ]
  },
  {
   "cell_type": "markdown",
   "id": "ea5e9027",
   "metadata": {},
   "source": [
    "## 计算复杂度\n",
    "矩阵求逆的计算复杂度通常是O(n2.4)到O(n3)。"
   ]
  },
  {
   "cell_type": "markdown",
   "id": "8db76aae",
   "metadata": {},
   "source": [
    "# 梯度下降\n",
    "## 批量梯度下降"
   ]
  },
  {
   "cell_type": "code",
   "execution_count": 15,
   "id": "4e88a335",
   "metadata": {},
   "outputs": [],
   "source": [
    "# 让我们看一下该算法的快速实现\n",
    "eta=0.1 # learning rate\n",
    "n_iterations=1000\n",
    "theta=np.random.randn(2,1) # 随机初始化\n",
    "m=100\n",
    "for iteration in range(n_iterations):\n",
    "    gradients=2/m*X_b.T.dot(X_b.dot(theta)-y)\n",
    "    theta=theta-eta*gradients"
   ]
  },
  {
   "cell_type": "code",
   "execution_count": 16,
   "id": "b8eb2a16",
   "metadata": {},
   "outputs": [
    {
     "data": {
      "text/plain": [
       "array([[3.87624328],\n",
       "       [3.11700404]])"
      ]
     },
     "execution_count": 16,
     "metadata": {},
     "output_type": "execute_result"
    }
   ],
   "source": [
    "theta"
   ]
  },
  {
   "cell_type": "markdown",
   "id": "df20b0b7",
   "metadata": {},
   "source": [
    "## 随机梯度下降\n",
    "- 见书，算法永远不会停止。算法停下来的参数值肯定是足够好的，但不是最优的。当成本函数不规则时，随机梯度下降可以帮助跳出局部最小值，所以它对找到全局最小值更有优势。\n",
    "- 随机性地缺点是永远定义不出最小值。可以用逐步降低学习率的方法来解决，这一过程称为模拟退火。"
   ]
  },
  {
   "cell_type": "code",
   "execution_count": 17,
   "id": "207b269b",
   "metadata": {},
   "outputs": [],
   "source": [
    "n_epochs=50\n",
    "t0,t1=5,50 # 学习计划超参数\n",
    "def learning_schedule(t):\n",
    "    return t0/(t+t1)\n",
    "theta=np.random.randn(2,1) # 随机初始化\n",
    "m=100 # 100个训练数据\n",
    "for epoch in range(n_epochs):\n",
    "    for i in range(m):\n",
    "        random_index=np.random.randint(m)\n",
    "        xi=X_b[random_index:random_index+1]\n",
    "        yi=y[random_index:random_index+1]\n",
    "        # xi 1*2\n",
    "        gradients=2*xi.T.dot(xi.dot(theta)-yi)\n",
    "        eta=learning_schedule(epoch*m+i)\n",
    "        theta=theta-eta*gradients"
   ]
  },
  {
   "cell_type": "code",
   "execution_count": 18,
   "id": "caa60d15",
   "metadata": {},
   "outputs": [
    {
     "data": {
      "text/plain": [
       "array([[3.8387017 ],\n",
       "       [3.09637508]])"
      ]
     },
     "execution_count": 18,
     "metadata": {},
     "output_type": "execute_result"
    }
   ],
   "source": [
    "theta"
   ]
  },
  {
   "cell_type": "markdown",
   "id": "21a36ec8",
   "metadata": {},
   "source": [
    "## 小批量梯度下降\n",
    "参照书上表格，梯度下降算法比较。"
   ]
  },
  {
   "cell_type": "markdown",
   "id": "a8f0cfbc",
   "metadata": {},
   "source": [
    "# 多项式回归"
   ]
  },
  {
   "cell_type": "code",
   "execution_count": 19,
   "id": "36c9735e",
   "metadata": {},
   "outputs": [],
   "source": [
    "# 我们基于一个简单的二次方程生成一些非线性数据。\n",
    "m=100 # m个数据，n个特征\n",
    "X=6*np.random.rand(m,1)-3\n",
    "y=0.5*X**2+X+2+np.random.randn(m,1)"
   ]
  },
  {
   "cell_type": "code",
   "execution_count": 20,
   "id": "69a76b64",
   "metadata": {},
   "outputs": [
    {
     "data": {
      "image/png": "[encoded data removed]",
      "text/plain": [
       "<Figure size 432x288 with 1 Axes>"
      ]
     },
     "metadata": {
      "needs_background": "light"
     },
     "output_type": "display_data"
    }
   ],
   "source": [
    "plt.plot(X,y,'b.')\n",
    "plt.xlabel('X')\n",
    "plt.ylabel('y')\n",
    "plt.show()"
   ]
  },
  {
   "cell_type": "markdown",
   "id": "6f6b9813",
   "metadata": {},
   "source": [
    "使用PolynomialFeatures类进行数据转换，将训练集中的每个特征的平方项添加为新特征。"
   ]
  },
  {
   "cell_type": "code",
   "execution_count": 21,
   "id": "b06adffd",
   "metadata": {},
   "outputs": [],
   "source": [
    "from sklearn.preprocessing import PolynomialFeatures\n",
    "poly_features=PolynomialFeatures(degree=2,include_bias=False)\n",
    "X_poly=poly_features.fit_transform(X)"
   ]
  },
  {
   "cell_type": "code",
   "execution_count": 22,
   "id": "519432dd",
   "metadata": {},
   "outputs": [
    {
     "data": {
      "text/plain": [
       "array([2.42012924, 5.85702553])"
      ]
     },
     "execution_count": 22,
     "metadata": {},
     "output_type": "execute_result"
    }
   ],
   "source": [
    "X_poly[0]"
   ]
  },
  {
   "cell_type": "code",
   "execution_count": 23,
   "id": "ad9cbfa2",
   "metadata": {},
   "outputs": [
    {
     "data": {
      "text/plain": [
       "(array([[0.94850699, 0.50366221]]), array([1.95504327]))"
      ]
     },
     "execution_count": 23,
     "metadata": {},
     "output_type": "execute_result"
    }
   ],
   "source": [
    "lin_reg=LinearRegression()\n",
    "lin_reg.fit(X_poly,y)\n",
    "lin_reg.coef_,lin_reg.intercept_"
   ]
  },
  {
   "cell_type": "markdown",
   "id": "52127451",
   "metadata": {},
   "source": [
    "可以看出系数基本相似。PolynomialFeatures(degree=d),可以将一个包含n个特征的数组，转换成包含(n+d)!/d!n!个特征的数组。例如 degre=3，且有两个特征a和b，即生成a3 b3 a2 b2 ab a2b ab2"
   ]
  },
  {
   "cell_type": "markdown",
   "id": "3b2d7962",
   "metadata": {},
   "source": [
    "# 学习曲线\n",
    "下面这段代码在给定训练集上定义了一个函数，绘制模型的学习曲线。"
   ]
  },
  {
   "cell_type": "code",
   "execution_count": 24,
   "id": "34c02642",
   "metadata": {},
   "outputs": [],
   "source": [
    "from sklearn.metrics import mean_squared_error\n",
    "from sklearn.model_selection import train_test_split"
   ]
  },
  {
   "cell_type": "code",
   "execution_count": 25,
   "id": "0619274c",
   "metadata": {},
   "outputs": [],
   "source": [
    "def plot_learning_curves(model,X,y):\n",
    "    X_train,X_val,y_train,y_val=train_test_split(X,y,test_size=0.2)\n",
    "    train_errors,val_errors=[],[]\n",
    "    for m in range(1,len(X_train)):# 训练集大小从1到len-1\n",
    "        model.fit(X_train[:m],y_train[:m])\n",
    "        y_train_predict=model.predict(X_train[:m])\n",
    "        y_val_predict=model.predict(X_val)\n",
    "        train_errors.append(mean_squared_error(y_true=y_train[:m],y_pred=y_train_predict))\n",
    "        val_errors.append(mean_squared_error(y_true=y_val,y_pred=y_val_predict))\n",
    "    plt.plot(np.sqrt(train_errors),'r-+',linewidth=2,label='train')\n",
    "    plt.plot(np.sqrt(val_errors),'b-',linewidth=3,label='val')\n",
    "    plt.legend()"
   ]
  },
  {
   "cell_type": "code",
   "execution_count": 26,
   "id": "35a07e03",
   "metadata": {},
   "outputs": [
    {
     "data": {
      "image/png": "[encoded data removed]",
      "text/plain": [
       "<Figure size 432x288 with 1 Axes>"
      ]
     },
     "metadata": {
      "needs_background": "light"
     },
     "output_type": "display_data"
    }
   ],
   "source": [
    "line_reg=LinearRegression()\n",
    "plot_learning_curves(line_reg,X,y)"
   ]
  },
  {
   "cell_type": "markdown",
   "id": "5ce7f15e",
   "metadata": {},
   "source": [
    "相同数据在十阶多项式上的表现"
   ]
  },
  {
   "cell_type": "code",
   "execution_count": 27,
   "id": "b28b7546",
   "metadata": {},
   "outputs": [
    {
     "data": {
      "image/png": "[encoded data removed]",
      "text/plain": [
       "<Figure size 432x288 with 1 Axes>"
      ]
     },
     "metadata": {
      "needs_background": "light"
     },
     "output_type": "display_data"
    }
   ],
   "source": [
    "from sklearn.pipeline import Pipeline\n",
    "polynomial_regression=Pipeline([(\"poly_features\",PolynomialFeatures(degree=10,include_bias=False)),(\"linear_reg\",LinearRegression())])\n",
    "plot_learning_curves(polynomial_regression,X,y)"
   ]
  },
  {
   "cell_type": "markdown",
   "id": "c24fdcc4",
   "metadata": {},
   "source": [
    "# 正则化线性模型\n",
    "## 岭回归\n",
    "公式见书。在训练期间将正则化项添加到成本函数中。在训练完成后用非正则化性能度量来评估模型性能。"
   ]
  },
  {
   "cell_type": "code",
   "execution_count": 28,
   "id": "3905de5e",
   "metadata": {},
   "outputs": [
    {
     "data": {
      "text/plain": [
       "(array([0.96158392]), array([3.46182509]))"
      ]
     },
     "execution_count": 28,
     "metadata": {},
     "output_type": "execute_result"
    }
   ],
   "source": [
    "# 使用随机梯度下降法\n",
    "from sklearn.linear_model import SGDRegressor\n",
    "sgd_reg=SGDRegressor(penalty=\"l2\")# l2正则化\n",
    "sgd_reg.fit(X,y.ravel())# y.ravel返回一个扁平的数组\n",
    "sgd_reg.coef_,sgd_reg.intercept_"
   ]
  },
  {
   "cell_type": "code",
   "execution_count": 29,
   "id": "4ecc8be6",
   "metadata": {},
   "outputs": [
    {
     "data": {
      "text/plain": [
       "array([4.90420098])"
      ]
     },
     "execution_count": 29,
     "metadata": {},
     "output_type": "execute_result"
    }
   ],
   "source": [
    "sgd_reg.predict([[1.5]])"
   ]
  },
  {
   "cell_type": "markdown",
   "id": "669c89d5",
   "metadata": {},
   "source": [
    "书上图，a增加会导致更平坦（即不极端，更合理）的预测。"
   ]
  },
  {
   "cell_type": "markdown",
   "id": "61a3b79f",
   "metadata": {},
   "source": [
    "## Lasso回归\n",
    "- 它增加的是权重向量的l1范数，而不是l2范数的平方的一半。\n",
    "- Lasso一个重要特征是它倾向于消除最不重要特征的权重(也就是将它们设置为0)。见书上描述。"
   ]
  },
  {
   "cell_type": "code",
   "execution_count": 30,
   "id": "a089327a",
   "metadata": {},
   "outputs": [
    {
     "data": {
      "text/plain": [
       "array([4.898495])"
      ]
     },
     "execution_count": 30,
     "metadata": {},
     "output_type": "execute_result"
    }
   ],
   "source": [
    "from sklearn.linear_model import Lasso\n",
    "lasso_reg=Lasso(alpha=0.1)\n",
    "lasso_reg.fit(X,y)\n",
    "lasso_reg.predict([[1.5]])"
   ]
  },
  {
   "cell_type": "markdown",
   "id": "a0245baa",
   "metadata": {},
   "source": [
    "可以使用SGDRegressor(penalty='l1')实现同样的效果"
   ]
  },
  {
   "cell_type": "markdown",
   "id": "481c3348",
   "metadata": {},
   "source": [
    "## 弹性网络\n",
    "![jupyter](./Elasticnet.png)\n",
    "弹性网络是介于岭回归和Lasso回归之间的中间地带。岭回归是个不错的默认选择，然而你觉得实际用到的特征只有几个，那么应该选择Lasso回归或者弹性网络。"
   ]
  },
  {
   "cell_type": "code",
   "execution_count": 31,
   "id": "391708b3",
   "metadata": {},
   "outputs": [
    {
     "data": {
      "text/plain": [
       "array([4.90016237])"
      ]
     },
     "execution_count": 31,
     "metadata": {},
     "output_type": "execute_result"
    }
   ],
   "source": [
    "from sklearn.linear_model import ElasticNet\n",
    "elastic_net=ElasticNet(alpha=0.1,l1_ratio=0.5)# l1_ratio等于混合比r\n",
    "elastic_net.fit(X,y)\n",
    "elastic_net.predict([[1.5]])"
   ]
  },
  {
   "cell_type": "markdown",
   "id": "b0ab63ba",
   "metadata": {},
   "source": [
    "## 提前停止\n",
    "- 同样是一个正则化方法\n",
    "- 在验证误差达到最小值时停止训练\n",
    "- 使用随机或者小批量梯度下降时，很难知道你是否达到了最小值。其中一种解决方法是仅在验证误差超过最小值一段时间后停止。"
   ]
  },
  {
   "cell_type": "code",
   "execution_count": 32,
   "id": "057075bd",
   "metadata": {},
   "outputs": [],
   "source": [
    "# 一个基本实现\n",
    "from sklearn.base import clone\n",
    "from sklearn.preprocessing import StandardScaler\n",
    "X_train,X_val,y_train,y_val=train_test_split(X,y.ravel(),test_size=0.2)\n",
    "poly_scaler=Pipeline([(\"poly_features\",PolynomialFeatures(degree=90,include_bias=False)),(\"std_scaler\",StandardScaler())])\n",
    "X_train_poly_scaled=poly_scaler.fit_transform(X_train)\n",
    "X_val_poly_scaled=poly_scaler.transform(X_val)"
   ]
  },
  {
   "cell_type": "code",
   "execution_count": 33,
   "id": "3080526f",
   "metadata": {},
   "outputs": [],
   "source": [
    "sgd_reg=SGDRegressor(max_iter=1,tol=-np.infty,warm_start=True,penalty=None,learning_rate=\"constant\",eta0=0.0005)\n",
    "#  max iter=1 The maximum number of passes over the training data (aka epochs).\n",
    "# tol The stopping criterion.当（loss > previous_loss - tol）时，迭代就会停止。\n",
    "# eta0 当learning_rate为'constant'或者'invscaling'时的初始学习率。默认值为0.0。\n",
    "# warm_start 当设置为true时，将重用之前调用的结果来拟合作为初始化的值。否则将擦除之前调用的结果。"
   ]
  },
  {
   "cell_type": "code",
   "execution_count": 34,
   "id": "9b02044b",
   "metadata": {},
   "outputs": [],
   "source": [
    "minimum_val_error=float(\"inf\")\n",
    "best_epoch=None\n",
    "best_model=None"
   ]
  },
  {
   "cell_type": "code",
   "execution_count": 35,
   "id": "dde4bef6",
   "metadata": {},
   "outputs": [],
   "source": [
    "for epoch in range(1000):\n",
    "    sgd_reg.fit(X_train_poly_scaled, y_train)\n",
    "    y_val_predict = sgd_reg.predict(X_val_poly_scaled)\n",
    "    val_error = mean_squared_error(y_val, y_val_predict)\n",
    "    if val_error < minimum_val_error:\n",
    "        minimum_val_error=val_error\n",
    "        best_epoch=epoch\n",
    "        best_model=clone(sgd_reg)"
   ]
  },
  {
   "cell_type": "code",
   "execution_count": 36,
   "id": "fcebc33b",
   "metadata": {},
   "outputs": [
    {
     "data": {
      "text/plain": [
       "(978,\n",
       " SGDRegressor(eta0=0.0005, learning_rate='constant', max_iter=1, penalty=None,\n",
       "              tol=-inf, warm_start=True))"
      ]
     },
     "execution_count": 36,
     "metadata": {},
     "output_type": "execute_result"
    }
   ],
   "source": [
    "best_epoch,best_model"
   ]
  },
  {
   "cell_type": "markdown",
   "id": "240ef812",
   "metadata": {},
   "source": [
    "# 逻辑回归\n",
    "## 训练和成本函数\n",
    "![jupyter](./Logistic-1.png)\n",
    "![jupyter](./Logistic-3.png)\n",
    "![jupyter](./Logistic-2.png)\n",
    "该成本函数没有闭式方程(标准方程),但是该函数是个凸函数，可以采用梯度下降方法。"
   ]
  },
  {
   "cell_type": "markdown",
   "id": "537ff31d",
   "metadata": {},
   "source": [
    "## 决策边界"
   ]
  },
  {
   "cell_type": "code",
   "execution_count": 39,
   "id": "48f23c1e",
   "metadata": {},
   "outputs": [
    {
     "data": {
      "text/plain": [
       "['data',\n",
       " 'target',\n",
       " 'frame',\n",
       " 'target_names',\n",
       " 'DESCR',\n",
       " 'feature_names',\n",
       " 'filename']"
      ]
     },
     "execution_count": 39,
     "metadata": {},
     "output_type": "execute_result"
    }
   ],
   "source": [
    "# 仅基于花瓣宽度这一特征，创建一个分类器来检测维吉尼亚鸢尾花\n",
    "from sklearn.datasets import load_iris\n",
    "iris=load_iris()\n",
    "list(iris.keys())"
   ]
  },
  {
   "cell_type": "code",
   "execution_count": 40,
   "id": "2b7c3d8b",
   "metadata": {},
   "outputs": [],
   "source": [
    "X=iris.data[:,3:]# petal width\n",
    "y=(iris[\"target\"]==2).astype(np.int)"
   ]
  },
  {
   "cell_type": "code",
   "execution_count": 41,
   "id": "ee3b3f21",
   "metadata": {},
   "outputs": [
    {
     "data": {
      "text/plain": [
       "(array([[0.2],\n",
       "        [0.2],\n",
       "        [0.2],\n",
       "        [0.2],\n",
       "        [0.2],\n",
       "        [0.4],\n",
       "        [0.3],\n",
       "        [0.2],\n",
       "        [0.2],\n",
       "        [0.1],\n",
       "        [0.2],\n",
       "        [0.2],\n",
       "        [0.1],\n",
       "        [0.1],\n",
       "        [0.2],\n",
       "        [0.4],\n",
       "        [0.4],\n",
       "        [0.3],\n",
       "        [0.3],\n",
       "        [0.3],\n",
       "        [0.2],\n",
       "        [0.4],\n",
       "        [0.2],\n",
       "        [0.5],\n",
       "        [0.2],\n",
       "        [0.2],\n",
       "        [0.4],\n",
       "        [0.2],\n",
       "        [0.2],\n",
       "        [0.2],\n",
       "        [0.2],\n",
       "        [0.4],\n",
       "        [0.1],\n",
       "        [0.2],\n",
       "        [0.2],\n",
       "        [0.2],\n",
       "        [0.2],\n",
       "        [0.1],\n",
       "        [0.2],\n",
       "        [0.2],\n",
       "        [0.3],\n",
       "        [0.3],\n",
       "        [0.2],\n",
       "        [0.6],\n",
       "        [0.4],\n",
       "        [0.3],\n",
       "        [0.2],\n",
       "        [0.2],\n",
       "        [0.2],\n",
       "        [0.2],\n",
       "        [1.4],\n",
       "        [1.5],\n",
       "        [1.5],\n",
       "        [1.3],\n",
       "        [1.5],\n",
       "        [1.3],\n",
       "        [1.6],\n",
       "        [1. ],\n",
       "        [1.3],\n",
       "        [1.4],\n",
       "        [1. ],\n",
       "        [1.5],\n",
       "        [1. ],\n",
       "        [1.4],\n",
       "        [1.3],\n",
       "        [1.4],\n",
       "        [1.5],\n",
       "        [1. ],\n",
       "        [1.5],\n",
       "        [1.1],\n",
       "        [1.8],\n",
       "        [1.3],\n",
       "        [1.5],\n",
       "        [1.2],\n",
       "        [1.3],\n",
       "        [1.4],\n",
       "        [1.4],\n",
       "        [1.7],\n",
       "        [1.5],\n",
       "        [1. ],\n",
       "        [1.1],\n",
       "        [1. ],\n",
       "        [1.2],\n",
       "        [1.6],\n",
       "        [1.5],\n",
       "        [1.6],\n",
       "        [1.5],\n",
       "        [1.3],\n",
       "        [1.3],\n",
       "        [1.3],\n",
       "        [1.2],\n",
       "        [1.4],\n",
       "        [1.2],\n",
       "        [1. ],\n",
       "        [1.3],\n",
       "        [1.2],\n",
       "        [1.3],\n",
       "        [1.3],\n",
       "        [1.1],\n",
       "        [1.3],\n",
       "        [2.5],\n",
       "        [1.9],\n",
       "        [2.1],\n",
       "        [1.8],\n",
       "        [2.2],\n",
       "        [2.1],\n",
       "        [1.7],\n",
       "        [1.8],\n",
       "        [1.8],\n",
       "        [2.5],\n",
       "        [2. ],\n",
       "        [1.9],\n",
       "        [2.1],\n",
       "        [2. ],\n",
       "        [2.4],\n",
       "        [2.3],\n",
       "        [1.8],\n",
       "        [2.2],\n",
       "        [2.3],\n",
       "        [1.5],\n",
       "        [2.3],\n",
       "        [2. ],\n",
       "        [2. ],\n",
       "        [1.8],\n",
       "        [2.1],\n",
       "        [1.8],\n",
       "        [1.8],\n",
       "        [1.8],\n",
       "        [2.1],\n",
       "        [1.6],\n",
       "        [1.9],\n",
       "        [2. ],\n",
       "        [2.2],\n",
       "        [1.5],\n",
       "        [1.4],\n",
       "        [2.3],\n",
       "        [2.4],\n",
       "        [1.8],\n",
       "        [1.8],\n",
       "        [2.1],\n",
       "        [2.4],\n",
       "        [2.3],\n",
       "        [1.9],\n",
       "        [2.3],\n",
       "        [2.5],\n",
       "        [2.3],\n",
       "        [1.9],\n",
       "        [2. ],\n",
       "        [2.3],\n",
       "        [1.8]]),\n",
       " array([0, 0, 0, 0, 0, 0, 0, 0, 0, 0, 0, 0, 0, 0, 0, 0, 0, 0, 0, 0, 0, 0,\n",
       "        0, 0, 0, 0, 0, 0, 0, 0, 0, 0, 0, 0, 0, 0, 0, 0, 0, 0, 0, 0, 0, 0,\n",
       "        0, 0, 0, 0, 0, 0, 0, 0, 0, 0, 0, 0, 0, 0, 0, 0, 0, 0, 0, 0, 0, 0,\n",
       "        0, 0, 0, 0, 0, 0, 0, 0, 0, 0, 0, 0, 0, 0, 0, 0, 0, 0, 0, 0, 0, 0,\n",
       "        0, 0, 0, 0, 0, 0, 0, 0, 0, 0, 0, 0, 1, 1, 1, 1, 1, 1, 1, 1, 1, 1,\n",
       "        1, 1, 1, 1, 1, 1, 1, 1, 1, 1, 1, 1, 1, 1, 1, 1, 1, 1, 1, 1, 1, 1,\n",
       "        1, 1, 1, 1, 1, 1, 1, 1, 1, 1, 1, 1, 1, 1, 1, 1, 1, 1]))"
      ]
     },
     "execution_count": 41,
     "metadata": {},
     "output_type": "execute_result"
    }
   ],
   "source": [
    "X,y"
   ]
  },
  {
   "cell_type": "code",
   "execution_count": 42,
   "id": "7b753724",
   "metadata": {},
   "outputs": [
    {
     "data": {
      "text/plain": [
       "LogisticRegression()"
      ]
     },
     "execution_count": 42,
     "metadata": {},
     "output_type": "execute_result"
    }
   ],
   "source": [
    "from sklearn.linear_model import LogisticRegression\n",
    "log_reg=LogisticRegression()\n",
    "log_reg.fit(X,y)"
   ]
  },
  {
   "cell_type": "code",
   "execution_count": 44,
   "id": "51bac99a",
   "metadata": {},
   "outputs": [],
   "source": [
    "# 让我们看看花瓣宽度在0-3cm之间的鸢尾花，模型估算出来的概率\n",
    "X_new=np.linspace(0,3,1000).reshape(-1,1)\n",
    "y_proba=log_reg.predict_proba(X_new)"
   ]
  },
  {
   "cell_type": "code",
   "execution_count": 46,
   "id": "45fc7bc8",
   "metadata": {},
   "outputs": [
    {
     "data": {
      "image/png": "[encoded data removed]",
      "text/plain": [
       "<Figure size 432x288 with 1 Axes>"
      ]
     },
     "metadata": {
      "needs_background": "light"
     },
     "output_type": "display_data"
    }
   ],
   "source": [
    "plt.plot(X_new,y_proba[:,1],'g-',label='Iris virginica')\n",
    "plt.plot(X_new,y_proba[:,0],'b--',label='Not Iris virginica')\n",
    "plt.legend()\n",
    "plt.show()"
   ]
  },
  {
   "cell_type": "markdown",
   "id": "49226824",
   "metadata": {},
   "source": [
    "对于花瓣宽度低于1cm一下的，分类器可以确定不是：而对于花瓣宽度大于2cm的，分类器可以确定是。但是在两个极端之间，分类器则不太有把握。"
   ]
  },
  {
   "cell_type": "code",
   "execution_count": 48,
   "id": "5cd52c98",
   "metadata": {},
   "outputs": [
    {
     "data": {
      "text/plain": [
       "array([1, 0])"
      ]
     },
     "execution_count": 48,
     "metadata": {},
     "output_type": "execute_result"
    }
   ],
   "source": [
    "log_reg.predict([[1.7],[1.5]])"
   ]
  },
  {
   "cell_type": "code",
   "execution_count": null,
   "id": "3caf4c90",
   "metadata": {},
   "outputs": [],
   "source": []
  }
 ],
 "metadata": {
  "kernelspec": {
   "display_name": "Python 3",
   "language": "python",
   "name": "python3"
  },
  "language_info": {
   "codemirror_mode": {
    "name": "ipython",
    "version": 3
   },
   "file_extension": ".py",
   "mimetype": "text/x-python",
   "name": "python",
   "nbconvert_exporter": "python",
   "pygments_lexer": "ipython3",
   "version": "3.7.4"
  },
  "toc": {
   "base_numbering": 1,
   "nav_menu": {},
   "number_sections": true,
   "sideBar": true,
   "skip_h1_title": false,
   "title_cell": "Table of Contents",
   "title_sidebar": "Contents",
   "toc_cell": false,
   "toc_position": {},
   "toc_section_display": true,
   "toc_window_display": true
  }
 },
 "nbformat": 4,
 "nbformat_minor": 5
}
