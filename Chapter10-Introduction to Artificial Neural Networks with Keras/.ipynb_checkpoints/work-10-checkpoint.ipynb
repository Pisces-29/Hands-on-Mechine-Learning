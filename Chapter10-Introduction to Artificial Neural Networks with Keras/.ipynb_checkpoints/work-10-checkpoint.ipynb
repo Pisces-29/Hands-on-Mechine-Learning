{
 "cells": [
  {
   "cell_type": "code",
   "execution_count": 1,
   "id": "c04da44a",
   "metadata": {},
   "outputs": [],
   "source": [
    "import keras\n",
    "import numpy as np\n",
    "import matplotlib.pyplot as plt\n",
    "import keras.datasets.mnist"
   ]
  },
  {
   "cell_type": "markdown",
   "id": "57f7b127",
   "metadata": {},
   "source": [
    "# 加载数据"
   ]
  },
  {
   "cell_type": "code",
   "execution_count": 2,
   "id": "6ddcd592",
   "metadata": {},
   "outputs": [],
   "source": [
    "(X_train,y_train),(X_test,y_test)=keras.datasets.mnist.load_data()"
   ]
  },
  {
   "cell_type": "code",
   "execution_count": 3,
   "id": "cb7da704",
   "metadata": {},
   "outputs": [
    {
     "data": {
      "text/plain": [
       "(60000, 28, 28)"
      ]
     },
     "execution_count": 3,
     "metadata": {},
     "output_type": "execute_result"
    }
   ],
   "source": [
    "X_train.shape"
   ]
  },
  {
   "cell_type": "code",
   "execution_count": 4,
   "id": "4e4cb1da",
   "metadata": {},
   "outputs": [
    {
     "data": {
      "text/plain": [
       "(60000,)"
      ]
     },
     "execution_count": 4,
     "metadata": {},
     "output_type": "execute_result"
    }
   ],
   "source": [
    "y_train.shape"
   ]
  },
  {
   "cell_type": "markdown",
   "id": "72d47abe",
   "metadata": {},
   "source": [
    "# 特征工程\n",
    "让我们将完整的训练集拆分为一个验证集和一个（较小的）训练集。 我们还将像素强度缩小到 0-1 范围并将它们转换为浮点数，除以 255，就像我们对 Fashion MNIST 所做的那样："
   ]
  },
  {
   "cell_type": "code",
   "execution_count": 5,
   "id": "f487592a",
   "metadata": {},
   "outputs": [],
   "source": [
    "X_valid=X_train[:5000]/255\n",
    "y_valid=y_train[:5000]\n",
    "X_train=X_train[5000:]/255\n",
    "y_train=y_train[5000:]"
   ]
  },
  {
   "cell_type": "code",
   "execution_count": 6,
   "id": "d3237796",
   "metadata": {},
   "outputs": [
    {
     "data": {
      "text/plain": [
       "(55000, 28, 28)"
      ]
     },
     "execution_count": 6,
     "metadata": {},
     "output_type": "execute_result"
    }
   ],
   "source": [
    "X_train.shape"
   ]
  },
  {
   "cell_type": "code",
   "execution_count": 7,
   "id": "6aff72cb",
   "metadata": {},
   "outputs": [
    {
     "data": {
      "text/plain": [
       "dtype('uint8')"
      ]
     },
     "execution_count": 7,
     "metadata": {},
     "output_type": "execute_result"
    }
   ],
   "source": [
    "y_train.dtype"
   ]
  },
  {
   "cell_type": "code",
   "execution_count": 8,
   "id": "cd13ae6b",
   "metadata": {},
   "outputs": [
    {
     "data": {
      "image/png": "[encoded data removed]",
      "text/plain": [
       "<Figure size 432x288 with 1 Axes>"
      ]
     },
     "metadata": {
      "needs_background": "light"
     },
     "output_type": "display_data"
    }
   ],
   "source": [
    "plt.imshow(X_train[0], cmap=\"binary\")\n",
    "plt.axis('off')\n",
    "plt.show()"
   ]
  },
  {
   "cell_type": "code",
   "execution_count": 9,
   "id": "c967dc93",
   "metadata": {},
   "outputs": [
    {
     "data": {
      "text/plain": [
       "array([7, 3, 4, 6, 1, 8, 1, 0, 9, 8], dtype=uint8)"
      ]
     },
     "execution_count": 9,
     "metadata": {},
     "output_type": "execute_result"
    }
   ],
   "source": [
    "y_train[:10]"
   ]
  },
  {
   "cell_type": "markdown",
   "id": "f8b66549",
   "metadata": {},
   "source": [
    "# 建立模型\n",
    "让我们构建一个简单的密集网络并找到最佳学习率。我们需要一个回调来提高每次迭代的学习率。 它还将记录每次迭代的学习率和损失："
   ]
  },
  {
   "cell_type": "code",
   "execution_count": 10,
   "id": "5a54a8bd",
   "metadata": {},
   "outputs": [],
   "source": [
    "model=keras.models.Sequential()\n",
    "model.add(keras.layers.Flatten(input_shape=[28,28]))\n",
    "model.add(keras.layers.Dense(300,activation='relu'))\n",
    "model.add(keras.layers.Dense(100,activation='relu'))\n",
    "model.add(keras.layers.Dense(10,activation='softmax'))"
   ]
  },
  {
   "cell_type": "code",
   "execution_count": 11,
   "id": "8a85f4ef",
   "metadata": {},
   "outputs": [
    {
     "name": "stdout",
     "output_type": "stream",
     "text": [
      "Model: \"sequential\"\n",
      "_________________________________________________________________\n",
      "Layer (type)                 Output Shape              Param #   \n",
      "=================================================================\n",
      "flatten (Flatten)            (None, 784)               0         \n",
      "_________________________________________________________________\n",
      "dense (Dense)                (None, 300)               235500    \n",
      "_________________________________________________________________\n",
      "dense_1 (Dense)              (None, 100)               30100     \n",
      "_________________________________________________________________\n",
      "dense_2 (Dense)              (None, 10)                1010      \n",
      "=================================================================\n",
      "Total params: 266,610\n",
      "Trainable params: 266,610\n",
      "Non-trainable params: 0\n",
      "_________________________________________________________________\n"
     ]
    }
   ],
   "source": [
    "model.summary()"
   ]
  },
  {
   "cell_type": "markdown",
   "id": "491c927b",
   "metadata": {},
   "source": [
    "我们自己写一个回调函数。"
   ]
  },
  {
   "cell_type": "code",
   "execution_count": 12,
   "id": "491e8b8e",
   "metadata": {},
   "outputs": [],
   "source": [
    "class ExponentialLearningRate(keras.callbacks.Callback):\n",
    "    # keras.callbacks.Callback用来组建新的回调函数的抽象基类。\n",
    "    def __init__(self, factor):\n",
    "        self.factor = factor\n",
    "        self.losses = []\n",
    "        self.learning_rates = []\n",
    "\n",
    "    # 重写on_batch_end()方法\n",
    "    def on_batch_end(self, batch, logs):\n",
    "        self.learning_rates.append(keras.backend.get_value(self.model.optimizer.lr))\n",
    "        self.losses.append(logs['loss'])\n",
    "        keras.backend.set_value(self.model.optimizer.lr,self.model.optimizer.lr*self.factor)\n",
    "        # `backend.get_value` 是 `backend.set_value` 的补充，并提供一个通用接口，用于在抽象出变量的同时从变量中读取TensorFlow 1.x 和 2.x 语义之间的差异。"
   ]
  },
  {
   "cell_type": "code",
   "execution_count": 13,
   "id": "0b3d0eab",
   "metadata": {},
   "outputs": [],
   "source": [
    "# keras.backend.clear_session()\n",
    "# Keras 管理一个全局状态，它用于实现功能\n",
    "# 模型构建 API 并统一自动生成的图层名称。\n",
    "# \n",
    "# 如果你在一个循环中创建许多模型，这个全局状态将消耗\n",
    "# 随着时间的推移越来越多的内存，您可能想要清除它。\n",
    "# 调用 clear_session() 释放全局状态：这有助于避免混乱\n",
    "# 来自旧模型和层，尤其是在内存有限的情况下。\n",
    "import tensorflow as tf\n",
    "np.random.seed(42)\n",
    "tf.random.set_seed(42)"
   ]
  },
  {
   "cell_type": "code",
   "execution_count": 14,
   "id": "4b69e2ce",
   "metadata": {},
   "outputs": [],
   "source": [
    "model.compile(optimizer=keras.optimizers.SGD(learning_rate=1e-3),loss='sparse_categorical_crossentropy',metrics=['accuracy'])"
   ]
  },
  {
   "cell_type": "code",
   "execution_count": 15,
   "id": "a54ae758",
   "metadata": {},
   "outputs": [],
   "source": [
    "expon_lr=ExponentialLearningRate(factor=1.005)"
   ]
  },
  {
   "cell_type": "markdown",
   "id": "e6d07144",
   "metadata": {},
   "source": [
    "# 模型训练\n",
    "我们首先训练一个周期。"
   ]
  },
  {
   "cell_type": "code",
   "execution_count": 16,
   "id": "59a2d721",
   "metadata": {},
   "outputs": [
    {
     "name": "stdout",
     "output_type": "stream",
     "text": [
      "1719/1719 [==============================] - 15s 2ms/step - loss: nan - accuracy: 0.4830 - val_loss: nan - val_accuracy: 0.0958\n"
     ]
    },
    {
     "data": {
      "text/plain": [
       "<keras.callbacks.History at 0x1df55706948>"
      ]
     },
     "execution_count": 16,
     "metadata": {},
     "output_type": "execute_result"
    }
   ],
   "source": [
    "model.fit(X_train,y_train,validation_data=(X_valid,y_valid),epochs=1,callbacks=[expon_lr])"
   ]
  },
  {
   "cell_type": "markdown",
   "id": "6c8e4b8c",
   "metadata": {},
   "source": [
    "我们现在可以将损失绘制为学习率的函数："
   ]
  },
  {
   "cell_type": "code",
   "execution_count": 17,
   "id": "68db1759",
   "metadata": {},
   "outputs": [
    {
     "data": {
      "text/plain": [
       "Text(0,0.5,'Loss')"
      ]
     },
     "execution_count": 17,
     "metadata": {},
     "output_type": "execute_result"
    },
    {
     "name": "stderr",
     "output_type": "stream",
     "text": [
      "e:\\envs\\ai\\lib\\site-packages\\matplotlib\\mathtext.py:849: MathTextWarning: Font 'default' does not have a glyph for '-' [U+2212]\n",
      "  MathTextWarning)\n",
      "e:\\envs\\ai\\lib\\site-packages\\matplotlib\\mathtext.py:850: MathTextWarning: Substituting with a dummy symbol.\n",
      "  warn(\"Substituting with a dummy symbol.\", MathTextWarning)\n"
     ]
    },
    {
     "data": {
      "image/png": "[encoded data removed]",
      "text/plain": [
       "<Figure size 432x288 with 1 Axes>"
      ]
     },
     "metadata": {
      "needs_background": "light"
     },
     "output_type": "display_data"
    }
   ],
   "source": [
    "plt.plot(expon_lr.learning_rates, expon_lr.losses)\n",
    "plt.gca().set_xscale('log')\n",
    "plt.hlines(min(expon_lr.losses), min(expon_lr.learning_rates), max(expon_lr.learning_rates))\n",
    "plt.axis([min(expon_lr.learning_rates), max(expon_lr.learning_rates), 0, expon_lr.losses[0]])\n",
    "plt.grid()\n",
    "plt.xlabel(\"Learning rate\")\n",
    "plt.ylabel(\"Loss\")"
   ]
  },
  {
   "cell_type": "markdown",
   "id": "ed316b5a",
   "metadata": {},
   "source": [
    "当学习率超过 6e-1 时，损失开始猛烈回升，所以让我们尝试使用其中的一半，在 3e-1："
   ]
  },
  {
   "cell_type": "code",
   "execution_count": 18,
   "id": "e8ebfaa5",
   "metadata": {},
   "outputs": [],
   "source": [
    "keras.backend.clear_session()\n",
    "np.random.seed(42)\n",
    "tf.random.set_seed(42)"
   ]
  },
  {
   "cell_type": "code",
   "execution_count": 19,
   "id": "6edf1c59",
   "metadata": {},
   "outputs": [],
   "source": [
    "model = keras.models.Sequential([\n",
    "    keras.layers.Flatten(input_shape=[28, 28]),\n",
    "    keras.layers.Dense(300, activation=\"relu\"),\n",
    "    keras.layers.Dense(100, activation=\"relu\"),\n",
    "    keras.layers.Dense(10, activation=\"softmax\")\n",
    "])"
   ]
  },
  {
   "cell_type": "code",
   "execution_count": 20,
   "id": "e9909416",
   "metadata": {},
   "outputs": [],
   "source": [
    "model.compile(loss=\"sparse_categorical_crossentropy\",\n",
    "              optimizer=keras.optimizers.SGD(learning_rate=3e-1),\n",
    "              metrics=[\"accuracy\"])"
   ]
  },
  {
   "cell_type": "code",
   "execution_count": 21,
   "id": "c54abed4",
   "metadata": {},
   "outputs": [
    {
     "data": {
      "text/plain": [
       "'.\\\\my_mnist_logs\\\\run_001'"
      ]
     },
     "execution_count": 21,
     "metadata": {},
     "output_type": "execute_result"
    }
   ],
   "source": [
    "import os\n",
    "run_index=1\n",
    "run_logdir=os.path.join(os.curdir,'my_mnist_logs','run_{0:03d}'.format(run_index))\n",
    "run_logdir"
   ]
  },
  {
   "cell_type": "code",
   "execution_count": 22,
   "id": "a0980630",
   "metadata": {},
   "outputs": [],
   "source": [
    "early_stopping_cb=keras.callbacks.EarlyStopping(patience=20)\n",
    "checkpoint_cb=keras.callbacks.ModelCheckpoint(filepath='./my_mnist_model.h5',save_best_only=True)\n",
    "tensorboard_cb=keras.callbacks.TensorBoard(run_logdir)"
   ]
  },
  {
   "cell_type": "code",
   "execution_count": 23,
   "id": "4184363d",
   "metadata": {},
   "outputs": [
    {
     "name": "stdout",
     "output_type": "stream",
     "text": [
      "Epoch 1/100\n",
      "1719/1719 [==============================] - 5s 2ms/step - loss: 0.4200 - accuracy: 0.8677 - val_loss: 0.0975 - val_accuracy: 0.9712\n",
      "Epoch 2/100\n",
      "1719/1719 [==============================] - 4s 2ms/step - loss: 0.0942 - accuracy: 0.9695 - val_loss: 0.0989 - val_accuracy: 0.9704\n",
      "Epoch 3/100\n",
      "1719/1719 [==============================] - 4s 2ms/step - loss: 0.0662 - accuracy: 0.9786 - val_loss: 0.0759 - val_accuracy: 0.9766\n",
      "Epoch 4/100\n",
      "1719/1719 [==============================] - 3s 2ms/step - loss: 0.0448 - accuracy: 0.9852 - val_loss: 0.0727 - val_accuracy: 0.9804\n",
      "Epoch 5/100\n",
      "1719/1719 [==============================] - 3s 2ms/step - loss: 0.0344 - accuracy: 0.9887 - val_loss: 0.0865 - val_accuracy: 0.9774\n",
      "Epoch 6/100\n",
      "1719/1719 [==============================] - 3s 2ms/step - loss: 0.0292 - accuracy: 0.9904 - val_loss: 0.0776 - val_accuracy: 0.9804\n",
      "Epoch 7/100\n",
      "1719/1719 [==============================] - 3s 2ms/step - loss: 0.0227 - accuracy: 0.9927 - val_loss: 0.0836 - val_accuracy: 0.9790\n",
      "Epoch 8/100\n",
      "1719/1719 [==============================] - 3s 2ms/step - loss: 0.0205 - accuracy: 0.9933 - val_loss: 0.0838 - val_accuracy: 0.9814\n",
      "Epoch 9/100\n",
      "1719/1719 [==============================] - 3s 2ms/step - loss: 0.0138 - accuracy: 0.9951 - val_loss: 0.0787 - val_accuracy: 0.9842\n",
      "Epoch 10/100\n",
      "1719/1719 [==============================] - 3s 2ms/step - loss: 0.0098 - accuracy: 0.9969 - val_loss: 0.0687 - val_accuracy: 0.9826\n",
      "Epoch 11/100\n",
      "1719/1719 [==============================] - 3s 2ms/step - loss: 0.0089 - accuracy: 0.9970 - val_loss: 0.0803 - val_accuracy: 0.9832\n",
      "Epoch 12/100\n",
      "1719/1719 [==============================] - 3s 2ms/step - loss: 0.0045 - accuracy: 0.9987 - val_loss: 0.0796 - val_accuracy: 0.9844\n",
      "Epoch 13/100\n",
      "1719/1719 [==============================] - 3s 2ms/step - loss: 0.0093 - accuracy: 0.9970 - val_loss: 0.1123 - val_accuracy: 0.9760\n",
      "Epoch 14/100\n",
      "1719/1719 [==============================] - 3s 2ms/step - loss: 0.0157 - accuracy: 0.9947 - val_loss: 0.0872 - val_accuracy: 0.9828\n",
      "Epoch 15/100\n",
      "1719/1719 [==============================] - 3s 2ms/step - loss: 0.0076 - accuracy: 0.9977 - val_loss: 0.1113 - val_accuracy: 0.9786\n",
      "Epoch 16/100\n",
      "1719/1719 [==============================] - 3s 2ms/step - loss: 0.0052 - accuracy: 0.9986 - val_loss: 0.0834 - val_accuracy: 0.9838\n",
      "Epoch 17/100\n",
      "1719/1719 [==============================] - 3s 2ms/step - loss: 0.0050 - accuracy: 0.9986 - val_loss: 0.0943 - val_accuracy: 0.9808\n",
      "Epoch 18/100\n",
      "1719/1719 [==============================] - 3s 2ms/step - loss: 0.0032 - accuracy: 0.9992 - val_loss: 0.0944 - val_accuracy: 0.9850\n",
      "Epoch 19/100\n",
      "1719/1719 [==============================] - 3s 2ms/step - loss: 0.0021 - accuracy: 0.9994 - val_loss: 0.0831 - val_accuracy: 0.9868\n",
      "Epoch 20/100\n",
      "1719/1719 [==============================] - 3s 2ms/step - loss: 2.4662e-04 - accuracy: 1.0000 - val_loss: 0.0847 - val_accuracy: 0.9868\n",
      "Epoch 21/100\n",
      "1719/1719 [==============================] - 3s 2ms/step - loss: 8.7392e-05 - accuracy: 1.0000 - val_loss: 0.0904 - val_accuracy: 0.9850\n",
      "Epoch 22/100\n",
      "1719/1719 [==============================] - 3s 2ms/step - loss: 4.3117e-04 - accuracy: 0.9998 - val_loss: 0.0872 - val_accuracy: 0.9870\n",
      "Epoch 23/100\n",
      "1719/1719 [==============================] - 3s 2ms/step - loss: 6.2568e-05 - accuracy: 1.0000 - val_loss: 0.0883 - val_accuracy: 0.9868\n",
      "Epoch 24/100\n",
      "1719/1719 [==============================] - 3s 2ms/step - loss: 4.6269e-05 - accuracy: 1.0000 - val_loss: 0.0888 - val_accuracy: 0.9868\n",
      "Epoch 25/100\n",
      "1719/1719 [==============================] - 3s 2ms/step - loss: 4.4427e-05 - accuracy: 1.0000 - val_loss: 0.0894 - val_accuracy: 0.9870\n",
      "Epoch 26/100\n",
      "1719/1719 [==============================] - 3s 2ms/step - loss: 3.7364e-05 - accuracy: 1.0000 - val_loss: 0.0898 - val_accuracy: 0.9870\n",
      "Epoch 27/100\n",
      "1719/1719 [==============================] - 3s 2ms/step - loss: 3.2937e-05 - accuracy: 1.0000 - val_loss: 0.0903 - val_accuracy: 0.9870\n",
      "Epoch 28/100\n",
      "1719/1719 [==============================] - 3s 2ms/step - loss: 3.3566e-05 - accuracy: 1.0000 - val_loss: 0.0908 - val_accuracy: 0.9870\n",
      "Epoch 29/100\n",
      "1719/1719 [==============================] - 3s 2ms/step - loss: 3.0162e-05 - accuracy: 1.0000 - val_loss: 0.0911 - val_accuracy: 0.9870\n",
      "Epoch 30/100\n",
      "1719/1719 [==============================] - 3s 2ms/step - loss: 2.8296e-05 - accuracy: 1.0000 - val_loss: 0.0915 - val_accuracy: 0.9868\n"
     ]
    }
   ],
   "source": [
    "history=model.fit(X_train,y_train,validation_data=(X_valid,y_valid),epochs=100,callbacks=[early_stopping_cb,checkpoint_cb,tensorboard_cb])"
   ]
  },
  {
   "cell_type": "code",
   "execution_count": 24,
   "id": "57b68290",
   "metadata": {},
   "outputs": [
    {
     "name": "stdout",
     "output_type": "stream",
     "text": [
      "313/313 [==============================] - 1s 1ms/step - loss: 19.3047 - accuracy: 0.9783\n"
     ]
    },
    {
     "data": {
      "text/plain": [
       "[19.30472183227539, 0.9782999753952026]"
      ]
     },
     "execution_count": 24,
     "metadata": {},
     "output_type": "execute_result"
    }
   ],
   "source": [
    "model = keras.models.load_model(\"my_mnist_model.h5\") # rollback to best model\n",
    "model.evaluate(X_test, y_test)"
   ]
  },
  {
   "cell_type": "code",
   "execution_count": null,
   "id": "6516d4cc",
   "metadata": {},
   "outputs": [],
   "source": []
  }
 ],
 "metadata": {
  "kernelspec": {
   "display_name": "Python 3",
   "language": "python",
   "name": "python3"
  },
  "language_info": {
   "codemirror_mode": {
    "name": "ipython",
    "version": 3
   },
   "file_extension": ".py",
   "mimetype": "text/x-python",
   "name": "python",
   "nbconvert_exporter": "python",
   "pygments_lexer": "ipython3",
   "version": "3.7.4"
  },
  "toc": {
   "base_numbering": 1,
   "nav_menu": {},
   "number_sections": true,
   "sideBar": true,
   "skip_h1_title": false,
   "title_cell": "Table of Contents",
   "title_sidebar": "Contents",
   "toc_cell": false,
   "toc_position": {},
   "toc_section_display": true,
   "toc_window_display": true
  }
 },
 "nbformat": 4,
 "nbformat_minor": 5
}
