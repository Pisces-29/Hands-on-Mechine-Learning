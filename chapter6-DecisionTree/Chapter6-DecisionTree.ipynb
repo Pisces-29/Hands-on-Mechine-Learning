{
 "cells": [
  {
   "cell_type": "markdown",
   "id": "ab34c87a",
   "metadata": {},
   "source": [
    "# 训练和可视化决策树"
   ]
  },
  {
   "cell_type": "code",
   "execution_count": 1,
   "id": "c7c92b07",
   "metadata": {},
   "outputs": [],
   "source": [
    "# 拿鸢尾花数据集先训练一个决策树\n",
    "from sklearn.datasets import load_iris\n",
    "from sklearn.tree import DecisionTreeClassifier"
   ]
  },
  {
   "cell_type": "code",
   "execution_count": 2,
   "id": "85c2ada3",
   "metadata": {},
   "outputs": [],
   "source": [
    "iris=load_iris()\n",
    "X=iris.data[:,2:]# petal length and width\n",
    "y=iris.target"
   ]
  },
  {
   "cell_type": "code",
   "execution_count": 3,
   "id": "c4212cb0",
   "metadata": {},
   "outputs": [
    {
     "data": {
      "text/plain": [
       "DecisionTreeClassifier(max_depth=2)"
      ]
     },
     "execution_count": 3,
     "metadata": {},
     "output_type": "execute_result"
    }
   ],
   "source": [
    "tree_clf=DecisionTreeClassifier(max_depth=2)\n",
    "tree_clf.fit(X,y)"
   ]
  },
  {
   "cell_type": "markdown",
   "id": "2d749fab",
   "metadata": {},
   "source": [
    "将决策树可视化。"
   ]
  },
  {
   "cell_type": "code",
   "execution_count": 4,
   "id": "689100ee",
   "metadata": {},
   "outputs": [],
   "source": [
    "from sklearn.tree import export_graphviz\n",
    "export_graphviz(tree_clf, out_file='./iris.dot',\n",
    "                feature_names=iris.feature_names[2:], class_names=iris.target_names, rounded=True, filled=True)"
   ]
  },
  {
   "cell_type": "markdown",
   "id": "a0722a0f",
   "metadata": {},
   "source": [
    "决策树的特点就是它不需要准备数据，即不需要进行标准化处理。"
   ]
  },
  {
   "cell_type": "markdown",
   "id": "618cf822",
   "metadata": {},
   "source": [
    "sample属性统计它应用的训练实例数量。value属性说明了该结点上没个类别的训练实例数量。结点的gini属性是衡量其不纯度：如果应用的所有训练实例都属于同一个类别，那么结点就是'纯'的。深度为2的左侧结点，基尼系数1-(0/54)2-(49/54)2-(5/54)2≈0.168."
   ]
  },
  {
   "cell_type": "markdown",
   "id": "c8ed857a",
   "metadata": {},
   "source": [
    "sklearn采用的是CART算法，该算法只生成二叉树。IDE3可以生成多叉树。"
   ]
  },
  {
   "cell_type": "markdown",
   "id": "de4af61b",
   "metadata": {},
   "source": [
    "# 估计类的概率\n",
    "决策树同样可以估计某个实例属于特定类的概率。例子见书，很好理解。"
   ]
  },
  {
   "cell_type": "code",
   "execution_count": 5,
   "id": "962bf769",
   "metadata": {},
   "outputs": [
    {
     "data": {
      "text/plain": [
       "array([[0.        , 0.90740741, 0.09259259]])"
      ]
     },
     "execution_count": 5,
     "metadata": {},
     "output_type": "execute_result"
    }
   ],
   "source": [
    "tree_clf.predict_proba([[5,1.5]])"
   ]
  },
  {
   "cell_type": "code",
   "execution_count": 6,
   "id": "85f23b9e",
   "metadata": {},
   "outputs": [
    {
     "data": {
      "text/plain": [
       "array([1])"
      ]
     },
     "execution_count": 6,
     "metadata": {},
     "output_type": "execute_result"
    }
   ],
   "source": [
    "tree_clf.predict([[5,1.5]])"
   ]
  },
  {
   "cell_type": "markdown",
   "id": "8b6b6158",
   "metadata": {},
   "source": [
    "# CART训练算法\n",
    "见书和西瓜书、统计学习方法。"
   ]
  },
  {
   "cell_type": "markdown",
   "id": "43206cee",
   "metadata": {},
   "source": [
    "# 基尼不纯度和熵\n",
    "基尼不纯度计算略快一点。不同点在于，基尼不纯度更倾向于从树枝中分裂出更常见的类别，熵倾向于产生更平衡的树。"
   ]
  },
  {
   "cell_type": "markdown",
   "id": "eeac33b1",
   "metadata": {},
   "source": [
    "# 正则化超参数\n",
    "- 减小max_depth可以使模型正则化，从而降低过拟合的风险。\n",
    "- min_samples_split 分裂前结点必须有的最小样本数。\n",
    "- min_samples_left 叶节点必须有的最小样本数。\n",
    "- min_weight_fraction_lefe 叶节点必须有的加权实例总数的占比。\n",
    "- max_left_nodes 最大叶节点数量\n",
    "- max_features 分裂每个结点评估的最大特征数量。\n",
    "- 增加min或减小max都可以使模型正则化。"
   ]
  },
  {
   "cell_type": "markdown",
   "id": "3879b431",
   "metadata": {},
   "source": [
    "# 回归"
   ]
  },
  {
   "cell_type": "code",
   "execution_count": 7,
   "id": "8898fefc",
   "metadata": {},
   "outputs": [],
   "source": [
    "import numpy as np\n",
    "np.random.seed(42)\n",
    "m = 200\n",
    "X = np.random.rand(m, 1)\n",
    "y = 4 * (X - 0.5) ** 2\n",
    "y = y + np.random.randn(m, 1) / 10"
   ]
  },
  {
   "cell_type": "code",
   "execution_count": 8,
   "id": "41c5239f",
   "metadata": {},
   "outputs": [
    {
     "data": {
      "text/plain": [
       "DecisionTreeRegressor(max_depth=2)"
      ]
     },
     "execution_count": 8,
     "metadata": {},
     "output_type": "execute_result"
    }
   ],
   "source": [
    "# 在一个有噪声的数据集上训练回归树\n",
    "from sklearn.tree import DecisionTreeRegressor\n",
    "tree_reg=DecisionTreeRegressor(max_depth=2)\n",
    "tree_reg.fit(X,y)"
   ]
  },
  {
   "cell_type": "code",
   "execution_count": 9,
   "id": "8964cbbb",
   "metadata": {},
   "outputs": [],
   "source": [
    "export_graphviz(tree_reg, out_file='./reg.dot',\n",
    "                feature_names=['x1'], rounded=True, filled=True)"
   ]
  },
  {
   "cell_type": "markdown",
   "id": "3d52dd07",
   "metadata": {},
   "source": [
    "想要对x1=0.6进行预测，从根结点遍历，最后到达预测value=0.111的叶节点上。这个预测结果其实就是与这个叶节点关联的110个实例的平均目标值。在这110个实例上，预测产生的均方误差等于0.015."
   ]
  },
  {
   "cell_type": "markdown",
   "id": "06881f54",
   "metadata": {},
   "source": [
    "CART算法的工作原理也大致相同，不同之处在于，它不再尝试以最小化不纯度的方法来拆分训练集，而是以最小化MSE的方法来拆分训练集。"
   ]
  },
  {
   "cell_type": "markdown",
   "id": "5c9912a0",
   "metadata": {},
   "source": [
    "成本函数\n",
    "![jupyter](./CART_reg.jpg)"
   ]
  },
  {
   "cell_type": "markdown",
   "id": "e59f697e",
   "metadata": {},
   "source": [
    "# 不稳定性\n",
    "决策树的主要问题是它们对训练数据中的小变化非常敏感。"
   ]
  },
  {
   "cell_type": "code",
   "execution_count": null,
   "id": "57610c78",
   "metadata": {},
   "outputs": [],
   "source": []
  }
 ],
 "metadata": {
  "kernelspec": {
   "display_name": "Python 3",
   "language": "python",
   "name": "python3"
  },
  "language_info": {
   "codemirror_mode": {
    "name": "ipython",
    "version": 3
   },
   "file_extension": ".py",
   "mimetype": "text/x-python",
   "name": "python",
   "nbconvert_exporter": "python",
   "pygments_lexer": "ipython3",
   "version": "3.7.4"
  },
  "toc": {
   "base_numbering": 1,
   "nav_menu": {},
   "number_sections": true,
   "sideBar": true,
   "skip_h1_title": false,
   "title_cell": "Table of Contents",
   "title_sidebar": "Contents",
   "toc_cell": false,
   "toc_position": {},
   "toc_section_display": true,
   "toc_window_display": true
  }
 },
 "nbformat": 4,
 "nbformat_minor": 5
}
