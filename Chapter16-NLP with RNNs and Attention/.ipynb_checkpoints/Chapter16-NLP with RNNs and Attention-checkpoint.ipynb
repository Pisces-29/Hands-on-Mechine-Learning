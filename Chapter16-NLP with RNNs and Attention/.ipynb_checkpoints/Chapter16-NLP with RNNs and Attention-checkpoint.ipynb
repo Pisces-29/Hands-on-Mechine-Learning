{
 "cells": [
  {
   "cell_type": "markdown",
   "id": "7a94e76e",
   "metadata": {},
   "source": [
    "# 使用Char-RNN生成莎士比亚文本\n",
    "## 创建训练数据集"
   ]
  },
  {
   "cell_type": "code",
   "execution_count": 1,
   "id": "f191aea8",
   "metadata": {},
   "outputs": [],
   "source": [
    "import keras\n",
    "import tensorflow as tf\n",
    "import numpy as np\n",
    "import matplotlib.pyplot as plt\n",
    "import matplotlib as mpl"
   ]
  },
  {
   "cell_type": "markdown",
   "id": "da560a7e",
   "metadata": {},
   "source": [
    "首先我们使用keras的get_file()函数来下载莎士比亚的所有作品，并从Andrej Karpathy的Char-RNN项目下载数据。"
   ]
  },
  {
   "cell_type": "code",
   "execution_count": 2,
   "id": "eef13ff1",
   "metadata": {},
   "outputs": [],
   "source": [
    "shakespeare_url = \"https://raw.githubusercontent.com/karpathy/char-rnn/master/data/tinyshakespeare/input.txt\"\n",
    "filepath = tf.keras.utils.get_file(\"shakespeare.txt\", shakespeare_url)\n",
    "with open(filepath) as f:\n",
    "    shakespeare_txt=f.read()"
   ]
  },
  {
   "cell_type": "markdown",
   "id": "845318c8",
   "metadata": {},
   "source": [
    "首先我们需要为文本添加一个分词器：它会找到文本中使用的所有字符，并将其映射到不同的字符ID。从1开始到不同字符数量。（它不从0开始，所以我们可以用该值进行屏蔽）。"
   ]
  },
  {
   "cell_type": "code",
   "execution_count": 3,
   "id": "45030090",
   "metadata": {},
   "outputs": [],
   "source": [
    "tokenizer=keras.preprocessing.text.Tokenizer(char_level=True)\n",
    "tokenizer.fit_on_texts([shakespeare_txt])"
   ]
  },
  {
   "cell_type": "markdown",
   "id": "0f690368",
   "metadata": {},
   "source": [
    "我们设置char_level=True来得到字符级编码，而不是默认的单词级编码。请注意默认情况下，该分词器将文本转换为小写(不希望这样做可以设置lower=False)。现在分词器可以将一个句子(或句子列表)编码为字符ID列表并返回。"
   ]
  },
  {
   "cell_type": "code",
   "execution_count": 4,
   "id": "c396b8fd",
   "metadata": {},
   "outputs": [
    {
     "data": {
      "text/plain": [
       "[[20, 6, 9, 8, 3]]"
      ]
     },
     "execution_count": 4,
     "metadata": {},
     "output_type": "execute_result"
    }
   ],
   "source": [
    "tokenizer.texts_to_sequences(['First'])"
   ]
  },
  {
   "cell_type": "code",
   "execution_count": 5,
   "id": "ccaf35da",
   "metadata": {},
   "outputs": [
    {
     "data": {
      "text/plain": [
       "['f i r s t']"
      ]
     },
     "execution_count": 5,
     "metadata": {},
     "output_type": "execute_result"
    }
   ],
   "source": [
    "tokenizer.sequences_to_texts([[20, 6, 9, 8, 3]])"
   ]
  },
  {
   "cell_type": "code",
   "execution_count": 6,
   "id": "cd810ded",
   "metadata": {},
   "outputs": [
    {
     "data": {
      "text/plain": [
       "39"
      ]
     },
     "execution_count": 6,
     "metadata": {},
     "output_type": "execute_result"
    }
   ],
   "source": [
    "max_id=len(tokenizer.word_index) # 不同字符的数量\n",
    "max_id"
   ]
  },
  {
   "cell_type": "code",
   "execution_count": 7,
   "id": "99fa22c1",
   "metadata": {},
   "outputs": [
    {
     "data": {
      "text/plain": [
       "1"
      ]
     },
     "execution_count": 7,
     "metadata": {},
     "output_type": "execute_result"
    }
   ],
   "source": [
    "dataset_size=tokenizer.document_count\n",
    "dataset_size"
   ]
  },
  {
   "cell_type": "markdown",
   "id": "30fba36e",
   "metadata": {},
   "source": [
    "让我们对全文进行编码，以便每个字符都由其ID进行表示(我们减去1即可得到从0到38的ID)。"
   ]
  },
  {
   "cell_type": "code",
   "execution_count": 8,
   "id": "ff6820fe",
   "metadata": {},
   "outputs": [],
   "source": [
    "[encoded]=np.array(tokenizer.texts_to_sequences([shakespeare_txt]))-1"
   ]
  },
  {
   "cell_type": "code",
   "execution_count": 9,
   "id": "d449d76d",
   "metadata": {},
   "outputs": [
    {
     "data": {
      "text/plain": [
       "array([19,  5,  8,  7,  2,  0, 18,  5,  2,  5])"
      ]
     },
     "execution_count": 9,
     "metadata": {},
     "output_type": "execute_result"
    }
   ],
   "source": [
    "encoded[:10]"
   ]
  },
  {
   "cell_type": "markdown",
   "id": "ce1c4443",
   "metadata": {},
   "source": [
    "## 如何拆分顺序数据集\n",
    "将时间序列划分成训练集、验证集和测试集很大程度上取决于你的任务。"
   ]
  },
  {
   "cell_type": "code",
   "execution_count": 10,
   "id": "3c4d2954",
   "metadata": {},
   "outputs": [],
   "source": [
    "train_size=encoded.shape[0]*90//100\n",
    "dataset=tf.data.Dataset.from_tensor_slices(encoded[:train_size])"
   ]
  },
  {
   "cell_type": "code",
   "execution_count": 11,
   "id": "10de08f3",
   "metadata": {},
   "outputs": [
    {
     "data": {
      "text/plain": [
       "(1115394, 1003854)"
      ]
     },
     "execution_count": 11,
     "metadata": {},
     "output_type": "execute_result"
    }
   ],
   "source": [
    "encoded.shape[0],train_size"
   ]
  },
  {
   "cell_type": "markdown",
   "id": "d41ea73c",
   "metadata": {},
   "source": [
    "## 将顺序数据集切成多个窗口\n",
    "训练集现在由超过100万个字符的单词序列组成，所以我们不能直接在其上训练神经网络：RNN相当于一个超过100万层的深层网络。取而代之的是，我们会使用数据集的window()方法将这个长字符序列转换为许多较小的文本窗口。数据集的每个实例将是整个文本的很短的子字符串，并且RNN仅在这些子字符串的长度上展开。这称为时间截断反向传播。"
   ]
  },
  {
   "cell_type": "code",
   "execution_count": 12,
   "id": "16815e28",
   "metadata": {},
   "outputs": [],
   "source": [
    "n_steps=100\n",
    "window_length=n_steps+1 # 目标 = 输入向前移动 1 个字符\n",
    "dataset=dataset.window(window_length,shift=1,drop_remainder=True)"
   ]
  },
  {
   "cell_type": "code",
   "execution_count": 13,
   "id": "3fd64a3e",
   "metadata": {},
   "outputs": [
    {
     "data": {
      "text/plain": [
       "<WindowDataset shapes: DatasetSpec(TensorSpec(shape=(), dtype=tf.int32, name=None), TensorShape([])), types: DatasetSpec(TensorSpec(shape=(), dtype=tf.int32, name=None), TensorShape([]))>"
      ]
     },
     "execution_count": 13,
     "metadata": {},
     "output_type": "execute_result"
    }
   ],
   "source": [
    "dataset"
   ]
  },
  {
   "cell_type": "markdown",
   "id": "7b01df41",
   "metadata": {},
   "source": [
    "较短的输入序列上训练RNN会更容易，但是当然RNN不能学习比n_steps长的任何模式，因此不要使其太短。"
   ]
  },
  {
   "cell_type": "markdown",
   "id": "d188c02e",
   "metadata": {},
   "source": [
    "默认情况下，window会创建不重叠的窗口，但是为了获得最大可能的训练集，我们使用shift=1，以便使第一个窗口包含0到100的字符，第二个窗口包含1到101的字符，以此类推。为确保所有窗口正好是101个字符长度，我们设置drop_remainder=True。"
   ]
  },
  {
   "cell_type": "code",
   "execution_count": null,
   "id": "4d8d5247",
   "metadata": {},
   "outputs": [],
   "source": []
  }
 ],
 "metadata": {
  "kernelspec": {
   "display_name": "Python 3",
   "language": "python",
   "name": "python3"
  },
  "language_info": {
   "codemirror_mode": {
    "name": "ipython",
    "version": 3
   },
   "file_extension": ".py",
   "mimetype": "text/x-python",
   "name": "python",
   "nbconvert_exporter": "python",
   "pygments_lexer": "ipython3",
   "version": "3.7.4"
  },
  "toc": {
   "base_numbering": 1,
   "nav_menu": {},
   "number_sections": true,
   "sideBar": true,
   "skip_h1_title": false,
   "title_cell": "Table of Contents",
   "title_sidebar": "Contents",
   "toc_cell": false,
   "toc_position": {},
   "toc_section_display": true,
   "toc_window_display": true
  }
 },
 "nbformat": 4,
 "nbformat_minor": 5
}
