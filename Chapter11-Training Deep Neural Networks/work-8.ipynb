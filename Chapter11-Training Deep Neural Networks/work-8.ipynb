{
 "cells": [
  {
   "cell_type": "markdown",
   "id": "804dcc46",
   "metadata": {},
   "source": [
    "# a"
   ]
  },
  {
   "cell_type": "code",
   "execution_count": 1,
   "id": "f292639c",
   "metadata": {},
   "outputs": [],
   "source": [
    "import keras\n",
    "import numpy as np\n",
    "import matplotlib.pyplot as plt"
   ]
  },
  {
   "cell_type": "code",
   "execution_count": 2,
   "id": "ffb06247",
   "metadata": {},
   "outputs": [],
   "source": [
    "model=keras.models.Sequential()\n",
    "model.add(keras.layers.Flatten(input_shape=[32,32,3]))\n",
    "for i in range(20):\n",
    "    model.add(keras.layers.Dense(100,activation='elu',kernel_initializer='he_normal'))\n",
    "model.add(keras.layers.Dense(10,activation='softmax'))"
   ]
  },
  {
   "cell_type": "markdown",
   "id": "d8f048fd",
   "metadata": {},
   "source": [
    "# b"
   ]
  },
  {
   "cell_type": "code",
   "execution_count": 3,
   "id": "a07aee85",
   "metadata": {},
   "outputs": [],
   "source": [
    "from keras.datasets.cifar10 import load_data\n",
    "(X_train,y_train),(X_test,y_test)=load_data()"
   ]
  },
  {
   "cell_type": "code",
   "execution_count": 4,
   "id": "57572372",
   "metadata": {},
   "outputs": [
    {
     "data": {
      "text/plain": [
       "((50000, 32, 32, 3), (10000, 32, 32, 3))"
      ]
     },
     "execution_count": 4,
     "metadata": {},
     "output_type": "execute_result"
    }
   ],
   "source": [
    "X_train.shape,X_test.shape"
   ]
  },
  {
   "cell_type": "code",
   "execution_count": 5,
   "id": "b520fed8",
   "metadata": {},
   "outputs": [],
   "source": [
    "X_valid = X_train[:5000]\n",
    "y_valid = y_train[:5000]\n",
    "X_train = X_train[5000:]\n",
    "y_train = y_train[5000:]"
   ]
  },
  {
   "cell_type": "code",
   "execution_count": 6,
   "id": "d049f5ac",
   "metadata": {},
   "outputs": [
    {
     "data": {
      "text/plain": [
       "(45000, 32, 32, 3)"
      ]
     },
     "execution_count": 6,
     "metadata": {},
     "output_type": "execute_result"
    }
   ],
   "source": [
    "X_train.shape"
   ]
  },
  {
   "cell_type": "markdown",
   "id": "87199492",
   "metadata": {},
   "source": [
    "让我们使用学习率为 5e-5 的 Nadam 优化器。 我尝试了学习率 1e-5, 3e-5, 1e-4, 3e-4, 1e-3, 3e-3 和 1e-2，我比较了它们各自 10 个时期的学习曲线（使用下面的 TensorBoard 回调） . 3e-5 和 1e-4 的学习率都不错，所以我尝试了 5e-5，结果稍微好一些。"
   ]
  },
  {
   "cell_type": "code",
   "execution_count": 7,
   "id": "cec18e92",
   "metadata": {},
   "outputs": [],
   "source": [
    "optimizer=keras.optimizers.Nadam(learning_rate=5e-5)\n",
    "model.compile(optimizer=optimizer,loss='sparse_categorical_crossentropy',metrics=['accuracy'])"
   ]
  },
  {
   "cell_type": "code",
   "execution_count": 8,
   "id": "72165195",
   "metadata": {},
   "outputs": [],
   "source": [
    "import os\n",
    "early_stopping_cb=keras.callbacks.EarlyStopping(patience=20)\n",
    "checkpoint_cb=keras.callbacks.ModelCheckpoint(\"my_cifar10_model.h5\",save_best_only=True)\n",
    "run_index = 1 # increment every time you train the model\n",
    "run_logdir = os.path.join(os.curdir, \"my_cifar10_logs\", \"run_{:03d}\".format(run_index))\n",
    "tensorboard_cb=keras.callbacks.TensorBoard(run_logdir)"
   ]
  },
  {
   "cell_type": "code",
   "execution_count": 9,
   "id": "55a804f5",
   "metadata": {},
   "outputs": [],
   "source": [
    "# model.fit(X_train,y_train,epochs=100,validation_data=(X_valid,y_valid),callbacks=[early_stopping_cb,checkpoint_cb,tensorboard_cb])"
   ]
  },
  {
   "cell_type": "code",
   "execution_count": 10,
   "id": "9375b3d0",
   "metadata": {},
   "outputs": [
    {
     "name": "stdout",
     "output_type": "stream",
     "text": [
      "157/157 [==============================] - 10s 2ms/step - loss: 1.5001 - accuracy: 0.4682\n"
     ]
    },
    {
     "data": {
      "text/plain": [
       "[1.5000526905059814, 0.4681999981403351]"
      ]
     },
     "execution_count": 10,
     "metadata": {},
     "output_type": "execute_result"
    }
   ],
   "source": [
    "model = keras.models.load_model(\"my_cifar10_model.h5\")\n",
    "model.evaluate(X_valid, y_valid)"
   ]
  },
  {
   "cell_type": "markdown",
   "id": "4c3a5a5e",
   "metadata": {},
   "source": [
    "# c"
   ]
  },
  {
   "cell_type": "markdown",
   "id": "86f723a4",
   "metadata": {},
   "source": [
    "下面的代码与上面的代码非常相似，但有一些变化：\n",
    "\n",
    "* 我在每个 Dense 层之后（在激活函数之前）都添加了一个 BN 层，除了输出层。 我还在第一个隐藏层之前添加了一个 BN 层。\n",
    "* 我将学习率更改为 5e-4。 我对 1e-5、3e-5、5e-5、1e-4、3e-4、5e-4、1e-3 和 3e-3 进行了实验，我选择了 20 个 epoch 后验证性能最好的那个。\n",
    "* 我将运行目录重命名为 run_bn_*，将模型文件名重命名为 my_cifar10_bn_model.h5。"
   ]
  },
  {
   "cell_type": "code",
   "execution_count": 11,
   "id": "7df11d51",
   "metadata": {},
   "outputs": [],
   "source": [
    "import tensorflow as tf\n",
    "keras.backend.clear_session()\n",
    "tf.random.set_seed(42)\n",
    "np.random.seed(42)"
   ]
  },
  {
   "cell_type": "code",
   "execution_count": 12,
   "id": "14251b42",
   "metadata": {},
   "outputs": [],
   "source": [
    "model=keras.models.Sequential()\n",
    "model.add(keras.layers.Flatten(input_shape=[32,32,3]))\n",
    "model.add(keras.layers.BatchNormalization())\n",
    "for i in range(20):\n",
    "    model.add(keras.layers.Dense(100,kernel_initializer='he_normal'))\n",
    "    model.add(keras.layers.BatchNormalization())\n",
    "    model.add(keras.layers.Activation('elu'))\n",
    "\n",
    "model.add(keras.layers.Dense(10,activation='softmax'))"
   ]
  },
  {
   "cell_type": "code",
   "execution_count": 13,
   "id": "444b4196",
   "metadata": {},
   "outputs": [],
   "source": [
    "optimizer=keras.optimizers.Nadam(learning_rate=5e-4)\n",
    "model.compile(optimizer=optimizer,loss='sparse_categorical_crossentropy',metrics=['accuracy'])"
   ]
  },
  {
   "cell_type": "code",
   "execution_count": 14,
   "id": "adf3c540",
   "metadata": {},
   "outputs": [],
   "source": [
    "early_stopping_cb = keras.callbacks.EarlyStopping(patience=20)\n",
    "checkpoint_cb = keras.callbacks.ModelCheckpoint(\n",
    "    filepath=\"my_cifar10_bn_model.h5\", save_best_only=True)\n",
    "run_index = 1\n",
    "run_logdir = os.path.join(os.curdir, \"my_cifar10_logs\",\n",
    "                          \"run_bn_{:03d}\".format(run_index))\n",
    "tensorboard_cb = keras.callbacks.TensorBoard(run_logdir)\n",
    "callbacks = [early_stopping_cb, checkpoint_cb, tensorboard_cb]"
   ]
  },
  {
   "cell_type": "code",
   "execution_count": 15,
   "id": "ea949b3b",
   "metadata": {},
   "outputs": [
    {
     "name": "stdout",
     "output_type": "stream",
     "text": [
      "Epoch 1/100\n",
      "1407/1407 [==============================] - 31s 12ms/step - loss: 1.9766 - accuracy: 0.2926 - val_loss: 1.6808 - val_accuracy: 0.3984\n",
      "Epoch 2/100\n",
      "1407/1407 [==============================] - 14s 10ms/step - loss: 1.6820 - accuracy: 0.4024 - val_loss: 1.6186 - val_accuracy: 0.4276\n",
      "Epoch 3/100\n",
      "1407/1407 [==============================] - 14s 10ms/step - loss: 1.6129 - accuracy: 0.4267 - val_loss: 1.5566 - val_accuracy: 0.4374\n",
      "Epoch 4/100\n",
      "1407/1407 [==============================] - 14s 10ms/step - loss: 1.5548 - accuracy: 0.4477 - val_loss: 1.5179 - val_accuracy: 0.4614\n",
      "Epoch 5/100\n",
      "1407/1407 [==============================] - 14s 10ms/step - loss: 1.5061 - accuracy: 0.4672 - val_loss: 1.4386 - val_accuracy: 0.4904\n",
      "Epoch 6/100\n",
      "1407/1407 [==============================] - 14s 10ms/step - loss: 1.4639 - accuracy: 0.4795 - val_loss: 1.4183 - val_accuracy: 0.4960\n",
      "Epoch 7/100\n",
      "1407/1407 [==============================] - 14s 10ms/step - loss: 1.4304 - accuracy: 0.4940 - val_loss: 1.4545 - val_accuracy: 0.4888\n",
      "Epoch 8/100\n",
      "1407/1407 [==============================] - 14s 10ms/step - loss: 1.4100 - accuracy: 0.5033 - val_loss: 1.3987 - val_accuracy: 0.5072\n",
      "Epoch 9/100\n",
      "1407/1407 [==============================] - 21s 15ms/step - loss: 1.3851 - accuracy: 0.5087 - val_loss: 1.3909 - val_accuracy: 0.5000\n",
      "Epoch 10/100\n",
      "1407/1407 [==============================] - 20s 14ms/step - loss: 1.3541 - accuracy: 0.5196 - val_loss: 1.3538 - val_accuracy: 0.5142\n",
      "Epoch 11/100\n",
      "1407/1407 [==============================] - 17s 12ms/step - loss: 1.3291 - accuracy: 0.5327 - val_loss: 1.3490 - val_accuracy: 0.5186\n",
      "Epoch 12/100\n",
      "1407/1407 [==============================] - 18s 13ms/step - loss: 1.3106 - accuracy: 0.5374 - val_loss: 1.3789 - val_accuracy: 0.5120\n",
      "Epoch 13/100\n",
      "1407/1407 [==============================] - 15s 11ms/step - loss: 1.2912 - accuracy: 0.5440 - val_loss: 1.4264 - val_accuracy: 0.4966\n",
      "Epoch 14/100\n",
      "1407/1407 [==============================] - 18s 13ms/step - loss: 1.2791 - accuracy: 0.5474 - val_loss: 1.3372 - val_accuracy: 0.5318\n",
      "Epoch 15/100\n",
      "1407/1407 [==============================] - 18s 13ms/step - loss: 1.2524 - accuracy: 0.5536 - val_loss: 1.3719 - val_accuracy: 0.5170\n",
      "Epoch 16/100\n",
      "1407/1407 [==============================] - 17s 12ms/step - loss: 1.2423 - accuracy: 0.5594 - val_loss: 1.3494 - val_accuracy: 0.5216\n",
      "Epoch 17/100\n",
      "1407/1407 [==============================] - 16s 11ms/step - loss: 1.2279 - accuracy: 0.5678 - val_loss: 1.3321 - val_accuracy: 0.5358\n",
      "Epoch 18/100\n",
      "1407/1407 [==============================] - 19s 14ms/step - loss: 1.2110 - accuracy: 0.5741 - val_loss: 1.3365 - val_accuracy: 0.5384\n",
      "Epoch 19/100\n",
      "1407/1407 [==============================] - 19s 13ms/step - loss: 1.1980 - accuracy: 0.5778 - val_loss: 1.3353 - val_accuracy: 0.5298\n",
      "Epoch 20/100\n",
      "1407/1407 [==============================] - 18s 13ms/step - loss: 1.1844 - accuracy: 0.5837 - val_loss: 1.3661 - val_accuracy: 0.5222\n",
      "Epoch 21/100\n",
      "1407/1407 [==============================] - 18s 13ms/step - loss: 1.1660 - accuracy: 0.5886 - val_loss: 1.3440 - val_accuracy: 0.5344\n",
      "Epoch 22/100\n",
      "1407/1407 [==============================] - 19s 14ms/step - loss: 1.1563 - accuracy: 0.5888 - val_loss: 1.3420 - val_accuracy: 0.5274\n",
      "Epoch 23/100\n",
      "1407/1407 [==============================] - 18s 13ms/step - loss: 1.1407 - accuracy: 0.5991 - val_loss: 1.3282 - val_accuracy: 0.5380\n",
      "Epoch 24/100\n",
      "1407/1407 [==============================] - 19s 13ms/step - loss: 1.1306 - accuracy: 0.5975 - val_loss: 1.3018 - val_accuracy: 0.5526\n",
      "Epoch 25/100\n",
      "1407/1407 [==============================] - 18s 13ms/step - loss: 1.1149 - accuracy: 0.6064 - val_loss: 1.3578 - val_accuracy: 0.5276\n",
      "Epoch 26/100\n",
      "1407/1407 [==============================] - 18s 13ms/step - loss: 1.1010 - accuracy: 0.6111 - val_loss: 1.3372 - val_accuracy: 0.5350\n",
      "Epoch 27/100\n",
      "1407/1407 [==============================] - 20s 14ms/step - loss: 1.0961 - accuracy: 0.6155 - val_loss: 1.3479 - val_accuracy: 0.5318\n",
      "Epoch 28/100\n",
      "1407/1407 [==============================] - 19s 13ms/step - loss: 1.0903 - accuracy: 0.6173 - val_loss: 1.3342 - val_accuracy: 0.5380\n",
      "Epoch 29/100\n",
      "1407/1407 [==============================] - 17s 12ms/step - loss: 1.0788 - accuracy: 0.6196 - val_loss: 1.3536 - val_accuracy: 0.5366\n",
      "Epoch 30/100\n",
      "1407/1407 [==============================] - 17s 12ms/step - loss: 1.0693 - accuracy: 0.6211 - val_loss: 1.3353 - val_accuracy: 0.5436\n",
      "Epoch 31/100\n",
      "1407/1407 [==============================] - 19s 14ms/step - loss: 1.0548 - accuracy: 0.6243 - val_loss: 1.3432 - val_accuracy: 0.5436\n",
      "Epoch 32/100\n",
      "1407/1407 [==============================] - 21s 15ms/step - loss: 1.0393 - accuracy: 0.6336 - val_loss: 1.3488 - val_accuracy: 0.5360\n",
      "Epoch 33/100\n",
      "1407/1407 [==============================] - 17s 12ms/step - loss: 1.0283 - accuracy: 0.6338 - val_loss: 1.3460 - val_accuracy: 0.5484\n",
      "Epoch 34/100\n",
      "1407/1407 [==============================] - 20s 14ms/step - loss: 1.0189 - accuracy: 0.6384 - val_loss: 1.3465 - val_accuracy: 0.5368\n",
      "Epoch 35/100\n",
      "1407/1407 [==============================] - 19s 13ms/step - loss: 1.0163 - accuracy: 0.6436 - val_loss: 1.3543 - val_accuracy: 0.5396\n",
      "Epoch 36/100\n",
      "1407/1407 [==============================] - 18s 12ms/step - loss: 0.9995 - accuracy: 0.6450 - val_loss: 1.3439 - val_accuracy: 0.5456\n",
      "Epoch 37/100\n",
      "1407/1407 [==============================] - 21s 15ms/step - loss: 0.9836 - accuracy: 0.6504 - val_loss: 1.3711 - val_accuracy: 0.5348\n",
      "Epoch 38/100\n",
      "1407/1407 [==============================] - 19s 14ms/step - loss: 0.9831 - accuracy: 0.6553 - val_loss: 1.3570 - val_accuracy: 0.5374\n",
      "Epoch 39/100\n",
      "1407/1407 [==============================] - 17s 12ms/step - loss: 0.9714 - accuracy: 0.6579 - val_loss: 1.3661 - val_accuracy: 0.5376\n",
      "Epoch 40/100\n",
      "1407/1407 [==============================] - 18s 13ms/step - loss: 0.9638 - accuracy: 0.6579 - val_loss: 1.3806 - val_accuracy: 0.5364\n",
      "Epoch 41/100\n",
      "1407/1407 [==============================] - 20s 14ms/step - loss: 0.9554 - accuracy: 0.6636 - val_loss: 1.3687 - val_accuracy: 0.5436\n",
      "Epoch 42/100\n",
      "1407/1407 [==============================] - 18s 13ms/step - loss: 0.9471 - accuracy: 0.6651 - val_loss: 1.3608 - val_accuracy: 0.5434\n",
      "Epoch 43/100\n",
      "1407/1407 [==============================] - 18s 13ms/step - loss: 0.9458 - accuracy: 0.6668 - val_loss: 1.3541 - val_accuracy: 0.5508\n",
      "Epoch 44/100\n",
      "1407/1407 [==============================] - 21s 15ms/step - loss: 0.9296 - accuracy: 0.6707 - val_loss: 1.3823 - val_accuracy: 0.5348\n"
     ]
    },
    {
     "data": {
      "text/plain": [
       "<keras.callbacks.History at 0x1f8e3288f48>"
      ]
     },
     "execution_count": 15,
     "metadata": {},
     "output_type": "execute_result"
    }
   ],
   "source": [
    "model.fit(X_train, y_train, epochs=100, validation_data=(X_valid, y_valid),\n",
    "          callbacks=callbacks)"
   ]
  },
  {
   "cell_type": "code",
   "execution_count": 16,
   "id": "6461d4a6",
   "metadata": {},
   "outputs": [],
   "source": [
    "model=keras.models.load_model('./my_cifar10_bn_model.h5')"
   ]
  },
  {
   "cell_type": "code",
   "execution_count": 17,
   "id": "c7cee969",
   "metadata": {},
   "outputs": [
    {
     "name": "stdout",
     "output_type": "stream",
     "text": [
      "313/313 [==============================] - 2s 2ms/step - loss: 1.3282 - accuracy: 0.5415\n"
     ]
    },
    {
     "data": {
      "text/plain": [
       "[1.3282344341278076, 0.5414999723434448]"
      ]
     },
     "execution_count": 17,
     "metadata": {},
     "output_type": "execute_result"
    }
   ],
   "source": [
    "model.evaluate(X_test,y_test)"
   ]
  },
  {
   "cell_type": "markdown",
   "id": "79bf1755",
   "metadata": {},
   "source": [
    "* *模型的收敛速度是否比以前更快？* 快得多！ 之前的模型用了 27 个 epoch 才达到最低的验证损失，而新模型只用了 5 个 epoch 就达到了同样的损失，并且一直持续到第 16 个 epoch。 BN 层稳定了训练并允许我们使用更大的学习率，因此收敛速度更快。\n",
    "* *BN 生产更好的模型吗？* 是的！ 最终模型也好得多，准确率为 54.0%，而不是 47.6%。 它仍然不是一个很好的模型，但至少它比以前好得多（卷积神经网络会做得更好，但这是一个不同的主题，参见第 14 章）。\n",
    "* *BN 如何影响训练速度？* 尽管模型收敛得更快，但由于 BN 层需要额外的计算，每个 epoch 需要大约 12 秒而不是 8 秒。 但总体而言，训练时间（挂墙时间）显着缩短了！"
   ]
  },
  {
   "cell_type": "markdown",
   "id": "1dbeee1a",
   "metadata": {},
   "source": [
    "# d"
   ]
  },
  {
   "cell_type": "code",
   "execution_count": 18,
   "id": "d049c833",
   "metadata": {},
   "outputs": [],
   "source": [
    "keras.backend.clear_session()\n",
    "tf.random.set_seed(42)\n",
    "np.random.seed(42)"
   ]
  },
  {
   "cell_type": "code",
   "execution_count": 19,
   "id": "0a13ac09",
   "metadata": {},
   "outputs": [],
   "source": [
    "model=keras.models.Sequential()\n",
    "model.add(keras.layers.Flatten(input_shape=[32,32,3]))\n",
    "for i in range(20):\n",
    "    model.add(keras.layers.Dense(100,activation='selu',kernel_initializer='lecun_normal'))\n",
    "    \n",
    "model.add(keras.layers.Dense(10,activation='softmax'))"
   ]
  },
  {
   "cell_type": "code",
   "execution_count": 20,
   "id": "d62b231e",
   "metadata": {},
   "outputs": [],
   "source": [
    "optimizer=keras.optimizers.Nadam(learning_rate=7e-4)\n",
    "model.compile(optimizer=optimizer,loss='sparse_categorical_crossentropy',metrics=['accuracy'])"
   ]
  },
  {
   "cell_type": "code",
   "execution_count": 21,
   "id": "32465412",
   "metadata": {},
   "outputs": [],
   "source": [
    "early_stopping_cb = keras.callbacks.EarlyStopping(patience=20)\n",
    "model_checkpoint_cb = keras.callbacks.ModelCheckpoint(\"my_cifar10_selu_model.h5\", save_best_only=True)\n",
    "run_index = 1 # increment every time you train the model\n",
    "run_logdir = os.path.join(os.curdir, \"my_cifar10_logs\", \"run_selu_{:03d}\".format(run_index))\n",
    "tensorboard_cb = keras.callbacks.TensorBoard(run_logdir)\n",
    "callbacks = [early_stopping_cb, model_checkpoint_cb, tensorboard_cb]"
   ]
  },
  {
   "cell_type": "code",
   "execution_count": 22,
   "id": "4862a7b5",
   "metadata": {},
   "outputs": [],
   "source": [
    "# 需要对数据集进行归一化。\n",
    "X_means=X_train.mean(axis=0)\n",
    "X_stds=X_train.std(axis=0)\n",
    "X_train_scaled=(X_train-X_means)/X_stds\n",
    "X_valid_scaled=(X_valid-X_means)/X_stds\n",
    "X_test_scaled=(X_test-X_means)/X_stds"
   ]
  },
  {
   "cell_type": "code",
   "execution_count": 23,
   "id": "c572cd9e",
   "metadata": {},
   "outputs": [
    {
     "name": "stdout",
     "output_type": "stream",
     "text": [
      "Epoch 1/100\n",
      "1407/1407 [==============================] - 15s 8ms/step - loss: 2.0387 - accuracy: 0.2782 - val_loss: 1.8474 - val_accuracy: 0.3482\n",
      "Epoch 2/100\n",
      "1407/1407 [==============================] - 11s 8ms/step - loss: 1.7161 - accuracy: 0.3896 - val_loss: 1.7947 - val_accuracy: 0.3474\n",
      "Epoch 3/100\n",
      "1407/1407 [==============================] - 10s 7ms/step - loss: 1.6161 - accuracy: 0.4299 - val_loss: 1.7130 - val_accuracy: 0.3970\n",
      "Epoch 4/100\n",
      "1407/1407 [==============================] - 10s 7ms/step - loss: 1.5369 - accuracy: 0.4610 - val_loss: 1.6063 - val_accuracy: 0.4456\n",
      "Epoch 5/100\n",
      "1407/1407 [==============================] - 10s 7ms/step - loss: 1.4822 - accuracy: 0.4813 - val_loss: 1.5612 - val_accuracy: 0.4598\n",
      "Epoch 6/100\n",
      "1407/1407 [==============================] - 10s 7ms/step - loss: 1.4276 - accuracy: 0.5006 - val_loss: 1.5162 - val_accuracy: 0.4764\n",
      "Epoch 7/100\n",
      "1407/1407 [==============================] - 10s 7ms/step - loss: 1.3845 - accuracy: 0.5161 - val_loss: 1.5164 - val_accuracy: 0.4646\n",
      "Epoch 8/100\n",
      "1407/1407 [==============================] - 9s 7ms/step - loss: 1.3422 - accuracy: 0.5346 - val_loss: 1.5060 - val_accuracy: 0.4752\n",
      "Epoch 9/100\n",
      "1407/1407 [==============================] - 10s 7ms/step - loss: 1.3155 - accuracy: 0.5400 - val_loss: 1.5019 - val_accuracy: 0.4760\n",
      "Epoch 10/100\n",
      "1407/1407 [==============================] - 10s 7ms/step - loss: 1.2721 - accuracy: 0.5578 - val_loss: 1.4801 - val_accuracy: 0.4940\n",
      "Epoch 11/100\n",
      "1407/1407 [==============================] - 11s 8ms/step - loss: 1.2385 - accuracy: 0.5706 - val_loss: 1.5412 - val_accuracy: 0.4780\n",
      "Epoch 12/100\n",
      "1407/1407 [==============================] - 16s 11ms/step - loss: 1.2114 - accuracy: 0.5794 - val_loss: 1.4797 - val_accuracy: 0.4886\n",
      "Epoch 13/100\n",
      "1407/1407 [==============================] - 15s 10ms/step - loss: 1.1848 - accuracy: 0.5898 - val_loss: 1.4856 - val_accuracy: 0.5064\n",
      "Epoch 14/100\n",
      "1407/1407 [==============================] - 14s 10ms/step - loss: 1.1544 - accuracy: 0.5973 - val_loss: 1.4951 - val_accuracy: 0.5038\n",
      "Epoch 15/100\n",
      "1407/1407 [==============================] - 15s 11ms/step - loss: 1.1367 - accuracy: 0.6048 - val_loss: 1.5279 - val_accuracy: 0.5060\n",
      "Epoch 16/100\n",
      "1407/1407 [==============================] - 13s 9ms/step - loss: 1.1137 - accuracy: 0.6108 - val_loss: 1.5121 - val_accuracy: 0.5142\n",
      "Epoch 17/100\n",
      "1407/1407 [==============================] - 12s 8ms/step - loss: 1.0798 - accuracy: 0.6287 - val_loss: 1.5514 - val_accuracy: 0.5012\n",
      "Epoch 18/100\n",
      "1407/1407 [==============================] - 11s 8ms/step - loss: 1.0751 - accuracy: 0.6267 - val_loss: 1.5266 - val_accuracy: 0.5100\n",
      "Epoch 19/100\n",
      "1407/1407 [==============================] - 12s 8ms/step - loss: 1.0373 - accuracy: 0.6433 - val_loss: 1.5499 - val_accuracy: 0.5170\n",
      "Epoch 20/100\n",
      "1407/1407 [==============================] - 14s 10ms/step - loss: 1.0384 - accuracy: 0.6451 - val_loss: 1.5574 - val_accuracy: 0.5036\n",
      "Epoch 21/100\n",
      "1407/1407 [==============================] - 15s 11ms/step - loss: 1.0104 - accuracy: 0.6540 - val_loss: 1.5682 - val_accuracy: 0.5020\n",
      "Epoch 22/100\n",
      "1407/1407 [==============================] - 13s 9ms/step - loss: 0.9893 - accuracy: 0.6610 - val_loss: 1.5585 - val_accuracy: 0.5004\n",
      "Epoch 23/100\n",
      "1407/1407 [==============================] - 14s 10ms/step - loss: 0.9588 - accuracy: 0.6696 - val_loss: 1.5622 - val_accuracy: 0.4940\n",
      "Epoch 24/100\n",
      "1407/1407 [==============================] - 12s 8ms/step - loss: 0.9579 - accuracy: 0.6726 - val_loss: 1.5562 - val_accuracy: 0.4946\n",
      "Epoch 25/100\n",
      "1407/1407 [==============================] - 15s 11ms/step - loss: 0.9505 - accuracy: 0.6783 - val_loss: 1.5503 - val_accuracy: 0.5084\n",
      "Epoch 26/100\n",
      "1407/1407 [==============================] - 17s 12ms/step - loss: 0.9068 - accuracy: 0.6942 - val_loss: 1.6446 - val_accuracy: 0.5074\n",
      "Epoch 27/100\n",
      "1407/1407 [==============================] - 15s 11ms/step - loss: 0.9133 - accuracy: 0.6911 - val_loss: 1.5864 - val_accuracy: 0.5084\n",
      "Epoch 28/100\n",
      "1407/1407 [==============================] - 14s 10ms/step - loss: 0.8941 - accuracy: 0.6954 - val_loss: 1.6282 - val_accuracy: 0.4898\n",
      "Epoch 29/100\n",
      "1407/1407 [==============================] - 16s 11ms/step - loss: 0.8777 - accuracy: 0.7014 - val_loss: 1.5946 - val_accuracy: 0.5034\n",
      "Epoch 30/100\n",
      "1407/1407 [==============================] - 16s 11ms/step - loss: 0.8793 - accuracy: 0.7007 - val_loss: 1.6607 - val_accuracy: 0.4932\n",
      "Epoch 31/100\n",
      "1407/1407 [==============================] - 15s 11ms/step - loss: 0.8567 - accuracy: 0.7093 - val_loss: 1.6911 - val_accuracy: 0.5026\n",
      "Epoch 32/100\n",
      "1407/1407 [==============================] - 14s 10ms/step - loss: 0.8265 - accuracy: 0.7205 - val_loss: 1.7228 - val_accuracy: 0.5020\n"
     ]
    },
    {
     "data": {
      "text/plain": [
       "<keras.callbacks.History at 0x1f8f83c4188>"
      ]
     },
     "execution_count": 23,
     "metadata": {},
     "output_type": "execute_result"
    }
   ],
   "source": [
    "model.fit(X_train_scaled,y_train,validation_data=(X_valid_scaled,y_valid),epochs=100,callbacks=callbacks)"
   ]
  },
  {
   "cell_type": "code",
   "execution_count": 24,
   "id": "0e8f9664",
   "metadata": {},
   "outputs": [],
   "source": [
    "model=keras.models.load_model('./my_cifar10_selu_model.h5')"
   ]
  },
  {
   "cell_type": "code",
   "execution_count": 25,
   "id": "4ef63d61",
   "metadata": {},
   "outputs": [
    {
     "name": "stdout",
     "output_type": "stream",
     "text": [
      "313/313 [==============================] - 1s 2ms/step - loss: 1.4576 - accuracy: 0.4968\n"
     ]
    },
    {
     "data": {
      "text/plain": [
       "[1.457561731338501, 0.4968000054359436]"
      ]
     },
     "execution_count": 25,
     "metadata": {},
     "output_type": "execute_result"
    }
   ],
   "source": [
    "model.evaluate(X_test_scaled,y_test)"
   ]
  },
  {
   "cell_type": "markdown",
   "id": "63600108",
   "metadata": {},
   "source": [
    "我们得到了 47.9% 的准确率，这并不比原始模型（47.6%）好多少，也不如使用批量归一化的模型（54.0%）好。 然而，收敛速度几乎和 BN 模型一样快，而且每个 epoch 只需要 7 秒。 因此，它是迄今为止训练速度最快的模型。"
   ]
  },
  {
   "cell_type": "markdown",
   "id": "0e9eb0f9",
   "metadata": {},
   "source": [
    "# e"
   ]
  },
  {
   "cell_type": "code",
   "execution_count": null,
   "id": "d3eac50c",
   "metadata": {},
   "outputs": [],
   "source": []
  }
 ],
 "metadata": {
  "kernelspec": {
   "display_name": "Python 3",
   "language": "python",
   "name": "python3"
  },
  "language_info": {
   "codemirror_mode": {
    "name": "ipython",
    "version": 3
   },
   "file_extension": ".py",
   "mimetype": "text/x-python",
   "name": "python",
   "nbconvert_exporter": "python",
   "pygments_lexer": "ipython3",
   "version": "3.7.4"
  },
  "toc": {
   "base_numbering": 1,
   "nav_menu": {},
   "number_sections": true,
   "sideBar": true,
   "skip_h1_title": false,
   "title_cell": "Table of Contents",
   "title_sidebar": "Contents",
   "toc_cell": false,
   "toc_position": {},
   "toc_section_display": true,
   "toc_window_display": true
  }
 },
 "nbformat": 4,
 "nbformat_minor": 5
}
