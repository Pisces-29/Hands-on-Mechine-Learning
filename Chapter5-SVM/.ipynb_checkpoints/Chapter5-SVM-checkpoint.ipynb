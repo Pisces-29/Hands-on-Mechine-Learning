{
 "cells": [
  {
   "cell_type": "markdown",
   "id": "e8aa43d7",
   "metadata": {},
   "source": [
    "# 线性SVM分类\n",
    "- 在“街道以外”的地方增加更多实例不会对决策边界产生影响，也就是说它完全由位于街道边缘的实例所决定。\n",
    "- SVM对特征的缩放非常敏感。\n",
    "## 软间隔\n",
    "- 如果我们让所有实例都不在街道上，且位于正确的一边，这就是硬间隔分类。\n",
    "- 尽可能的保持街道宽阔和限制间隔违例之间找到平衡，这就是软间隔。\n",
    "- SVM中C是一个超参数。C越大街道间隔越大。如果SVM过拟合，可以尝试降低C来对其正则化。"
   ]
  },
  {
   "cell_type": "code",
   "execution_count": 1,
   "id": "1ac55ea1",
   "metadata": {},
   "outputs": [],
   "source": [
    "# 使用C=1的LinearSVC类和hinge损失函数\n",
    "import numpy as np\n",
    "from sklearn.datasets import load_iris\n",
    "from sklearn.pipeline import Pipeline\n",
    "from sklearn.preprocessing import StandardScaler\n",
    "from sklearn.svm import LinearSVC"
   ]
  },
  {
   "cell_type": "code",
   "execution_count": 2,
   "id": "a0021959",
   "metadata": {},
   "outputs": [],
   "source": [
    "iris=load_iris()\n",
    "X=iris.data[:,(2,3)] # petal length,petal width\n",
    "y=(iris[\"target\"]==2).astype(np.float64)"
   ]
  },
  {
   "cell_type": "code",
   "execution_count": 3,
   "id": "393b9e56",
   "metadata": {},
   "outputs": [
    {
     "data": {
      "text/plain": [
       "Pipeline(steps=[('scaler', StandardScaler()),\n",
       "                ('linear_svc', LinearSVC(C=1, loss='hinge'))])"
      ]
     },
     "execution_count": 3,
     "metadata": {},
     "output_type": "execute_result"
    }
   ],
   "source": [
    "svm_clf=Pipeline([(\"scaler\",StandardScaler()),(\"linear_svc\",LinearSVC(C=1,loss=\"hinge\"))])\n",
    "svm_clf.fit(X,y)"
   ]
  },
  {
   "cell_type": "code",
   "execution_count": 4,
   "id": "42f8ae20",
   "metadata": {},
   "outputs": [
    {
     "data": {
      "text/plain": [
       "array([1.])"
      ]
     },
     "execution_count": 4,
     "metadata": {},
     "output_type": "execute_result"
    }
   ],
   "source": [
    "svm_clf.predict([[5.5,1.7]])"
   ]
  },
  {
   "cell_type": "markdown",
   "id": "50b2918f",
   "metadata": {},
   "source": [
    "与Logistic分类器不同，SVM分类器不会输出每个类的概率。"
   ]
  },
  {
   "cell_type": "markdown",
   "id": "c94a3edb",
   "metadata": {},
   "source": [
    "还可以将SVC类和线性内核一起使用SVC(kernel='linear',C=1)，而不使用LinearSVC类。或者我们可以使用SGDClassifier(loss='hinge',alpha=1/(m*C))"
   ]
  },
  {
   "cell_type": "markdown",
   "id": "15fea97e",
   "metadata": {},
   "source": [
    "LinearSVC类会对偏置进行正则化，所以要先前去平均值使得训练集几种。Standardscaler会自动进行这一步。此外要确保超参数loss='hinge'，这不是默认值。除非特征数量比训练实例还多，为了更好的性能dual=Flase。"
   ]
  },
  {
   "cell_type": "markdown",
   "id": "76326e4a",
   "metadata": {},
   "source": [
    "# 非线性SVM分类\n",
    "处理非线性可分的数据集的方法之一是添加更多特征，比如多项式特征。某些情况下，这可能导致线性可分。"
   ]
  },
  {
   "cell_type": "code",
   "execution_count": 5,
   "id": "64c81e5d",
   "metadata": {},
   "outputs": [],
   "source": [
    "# 我们在卫星数据上进行如上想法的测试\n",
    "from sklearn.datasets import make_moons\n",
    "from sklearn.pipeline import Pipeline\n",
    "from sklearn.preprocessing import PolynomialFeatures"
   ]
  },
  {
   "cell_type": "code",
   "execution_count": 6,
   "id": "9c45c69d",
   "metadata": {},
   "outputs": [],
   "source": [
    "X,y=make_moons(n_samples=100,noise=0.15)\n",
    "# 做两个交错的半圆"
   ]
  },
  {
   "cell_type": "code",
   "execution_count": 7,
   "id": "9d82e9a5",
   "metadata": {},
   "outputs": [],
   "source": [
    "import matplotlib.pyplot as plt"
   ]
  },
  {
   "cell_type": "code",
   "execution_count": 9,
   "id": "0773372d",
   "metadata": {},
   "outputs": [
    {
     "data": {
      "image/png": "[encoded data removed]",
      "text/plain": [
       "<Figure size 432x288 with 1 Axes>"
      ]
     },
     "metadata": {
      "needs_background": "light"
     },
     "output_type": "display_data"
    }
   ],
   "source": [
    "plt.plot(X[:,0],X[:,1],'b.')\n",
    "plt.grid()\n",
    "plt.xlim((-1.5,2.5))\n",
    "plt.ylim((-1.0,1.5))\n",
    "plt.xlabel(\"X1\")\n",
    "plt.ylabel(\"X2\")\n",
    "plt.show()"
   ]
  },
  {
   "cell_type": "code",
   "execution_count": 11,
   "id": "8d299d96",
   "metadata": {},
   "outputs": [
    {
     "data": {
      "text/plain": [
       "Pipeline(steps=[('poly_features', PolynomialFeatures(degree=3)),\n",
       "                ('scaler', StandardScaler()),\n",
       "                ('svm_clf', LinearSVC(C=10, loss='hinge'))])"
      ]
     },
     "execution_count": 11,
     "metadata": {},
     "output_type": "execute_result"
    }
   ],
   "source": [
    "polynomial_svm_clf = Pipeline([(\"poly_features\", PolynomialFeatures(\n",
    "    degree=3)), (\"scaler\", StandardScaler()), (\"svm_clf\", LinearSVC(C=10, loss='hinge'))])\n",
    "polynomial_svm_clf.fit(X, y)"
   ]
  },
  {
   "cell_type": "code",
   "execution_count": 13,
   "id": "1729948a",
   "metadata": {},
   "outputs": [
    {
     "data": {
      "image/png": "[encoded data removed]",
      "text/plain": [
       "<Figure size 432x288 with 1 Axes>"
      ]
     },
     "metadata": {
      "needs_background": "light"
     },
     "output_type": "display_data"
    }
   ],
   "source": [
    "def plot_predictions(clf, axes):\n",
    "    x0s = np.linspace(axes[0], axes[1], 100)\n",
    "    x1s = np.linspace(axes[2], axes[3], 100)\n",
    "    x0, x1 = np.meshgrid(x0s, x1s)\n",
    "    X = np.c_[x0.ravel(), x1.ravel()]\n",
    "    y_pred = clf.predict(X).reshape(x0.shape)\n",
    "    y_decision = clf.decision_function(X).reshape(x0.shape)\n",
    "    plt.contourf(x0, x1, y_pred, cmap=plt.cm.brg, alpha=0.2)\n",
    "    plt.contourf(x0, x1, y_decision, cmap=plt.cm.brg, alpha=0.1)\n",
    "\n",
    "def plot_dataset(X, y, axes):\n",
    "    plt.plot(X[:, 0][y==0], X[:, 1][y==0], \"bs\")\n",
    "    plt.plot(X[:, 0][y==1], X[:, 1][y==1], \"g^\")\n",
    "    plt.axis(axes)\n",
    "    plt.grid(True, which='both')\n",
    "    plt.xlabel(r\"$x_1$\", fontsize=20)\n",
    "    plt.ylabel(r\"$x_2$\", fontsize=20, rotation=0)\n",
    "\n",
    "plot_predictions(polynomial_svm_clf, [-1.5, 2.5, -1, 1.5])\n",
    "plot_dataset(X, y, [-1.5, 2.5, -1, 1.5])\n",
    "\n",
    "plt.show()"
   ]
  },
  {
   "cell_type": "markdown",
   "id": "de789439",
   "metadata": {},
   "source": [
    "## 多项式内核\n",
    "SVM中具有多项式核方法。它产生的结果就跟添加了许许多多多项式特征（甚至非常高阶的多项式特征）一样，但实际并不需要真的添加。"
   ]
  },
  {
   "cell_type": "code",
   "execution_count": 14,
   "id": "56643378",
   "metadata": {},
   "outputs": [
    {
     "data": {
      "text/plain": [
       "Pipeline(steps=[('scaler', StandardScaler()),\n",
       "                ('svm_clf', SVC(C=5, coef0=1, kernel='poly'))])"
      ]
     },
     "execution_count": 14,
     "metadata": {},
     "output_type": "execute_result"
    }
   ],
   "source": [
    "from sklearn.svm import SVC\n",
    "poly_kernel_svm_clf=Pipeline([(\"scaler\",StandardScaler()),(\"svm_clf\",SVC(kernel='poly',degree=3,coef0=1,C=5))])\n",
    "poly_kernel_svm_clf.fit(X,y)"
   ]
  },
  {
   "cell_type": "markdown",
   "id": "57cc9c4f",
   "metadata": {},
   "source": [
    "coef0控制的是模型受高阶多项式还是低阶多项式的影响程度。如果阶数过高导致过拟合，可以尝试降低阶数。"
   ]
  },
  {
   "cell_type": "markdown",
   "id": "a4c1395c",
   "metadata": {},
   "source": [
    "## 计算复杂度\n",
    "![jupyter](./complex-1.jpg)\n",
    "![jupyter](./complex-2.jpg)"
   ]
  },
  {
   "cell_type": "markdown",
   "id": "10d9bd58",
   "metadata": {},
   "source": [
    "## 相似特征\n",
    "解决非线性问题的另一种技术是添加相似特征，这些特征经过相似函数计算得出，相似函数可以测量每个实例与一个特定地标之间的相似度。例子可以看书。"
   ]
  },
  {
   "cell_type": "markdown",
   "id": "ed0dd44f",
   "metadata": {},
   "source": [
    "## 高斯RBF内核\n",
    "![jupyter](./RBF.png)\n",
    "y在书中为l，意思为另一个地标，||x-y||为两个点的距离。"
   ]
  },
  {
   "cell_type": "markdown",
   "id": "5d3afecd",
   "metadata": {},
   "source": [
    "高斯核方法也像添加了许多相似特征一样，实际上并未添加。其实所有的核方法都是这个原理。"
   ]
  },
  {
   "cell_type": "code",
   "execution_count": 15,
   "id": "c987f8f0",
   "metadata": {},
   "outputs": [
    {
     "data": {
      "text/plain": [
       "Pipeline(steps=[('scaler', StandardScaler()),\n",
       "                ('svm_clf', SVC(C=0.001, gamma=5))])"
      ]
     },
     "execution_count": 15,
     "metadata": {},
     "output_type": "execute_result"
    }
   ],
   "source": [
    "rbf_kernel_svm_clf=Pipeline([(\"scaler\",StandardScaler()),(\"svm_clf\",SVC(kernel='rbf',gamma=5,C=0.001))])\n",
    "rbf_kernel_svm_clf.fit(X,y)"
   ]
  },
  {
   "cell_type": "markdown",
   "id": "9f19dae2",
   "metadata": {},
   "source": [
    "见书上图γ的对比。增加γ值会使钟形曲线变得更窄，因此每个实例的影响范围随之变小，决策边界变得更不规则，开始围着单个实例绕弯。γ就像一个正则化超参数，模型过拟合就降低，欠拟合就提高。"
   ]
  },
  {
   "cell_type": "markdown",
   "id": "68acdb9d",
   "metadata": {},
   "source": [
    "选择核函数的时候推荐从线性核开始尝试(linearSVC比SVC(kernel='linear')要快),之后再尝试高斯核等等。推荐使用交叉验证和网格搜索来测试不同的核函数。"
   ]
  },
  {
   "cell_type": "code",
   "execution_count": null,
   "id": "d572e7e1",
   "metadata": {},
   "outputs": [],
   "source": []
  }
 ],
 "metadata": {
  "kernelspec": {
   "display_name": "Python 3",
   "language": "python",
   "name": "python3"
  },
  "language_info": {
   "codemirror_mode": {
    "name": "ipython",
    "version": 3
   },
   "file_extension": ".py",
   "mimetype": "text/x-python",
   "name": "python",
   "nbconvert_exporter": "python",
   "pygments_lexer": "ipython3",
   "version": "3.7.4"
  },
  "toc": {
   "base_numbering": 1,
   "nav_menu": {},
   "number_sections": true,
   "sideBar": true,
   "skip_h1_title": false,
   "title_cell": "Table of Contents",
   "title_sidebar": "Contents",
   "toc_cell": false,
   "toc_position": {},
   "toc_section_display": true,
   "toc_window_display": true
  }
 },
 "nbformat": 4,
 "nbformat_minor": 5
}
