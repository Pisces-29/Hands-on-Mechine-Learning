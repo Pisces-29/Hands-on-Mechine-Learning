{
 "cells": [
  {
   "cell_type": "markdown",
   "id": "be0c011e",
   "metadata": {},
   "source": [
    "# 第十题\n",
    "## 加载数据\n",
    "经典的 Olivetti 人脸数据集包含 400 张灰度 64 × 64 像素的人脸图像。 每个图像都被展平为大小为 4,096 的一维向量。 拍摄了 40 个不同的人（每人 10 次），通常的任务是训练一个模型，该模型可以预测每张照片中代表的是哪个人。 使用 sklearn.datasets.fetch_olivetti_faces() 函数加载数据集。"
   ]
  },
  {
   "cell_type": "code",
   "execution_count": 1,
   "id": "dbe22b13",
   "metadata": {},
   "outputs": [],
   "source": [
    "import numpy as np\n",
    "import matplotlib.pyplot as plt"
   ]
  },
  {
   "cell_type": "code",
   "execution_count": 2,
   "id": "d4087222",
   "metadata": {},
   "outputs": [],
   "source": [
    "from sklearn.datasets import fetch_olivetti_faces\n",
    "olivetti=fetch_olivetti_faces()"
   ]
  },
  {
   "cell_type": "code",
   "execution_count": 3,
   "id": "c568772d",
   "metadata": {},
   "outputs": [
    {
     "name": "stdout",
     "output_type": "stream",
     "text": [
      ".. _olivetti_faces_dataset:\n",
      "\n",
      "The Olivetti faces dataset\n",
      "--------------------------\n",
      "\n",
      "`This dataset contains a set of face images`_ taken between April 1992 and \n",
      "April 1994 at AT&T Laboratories Cambridge. The\n",
      ":func:`sklearn.datasets.fetch_olivetti_faces` function is the data\n",
      "fetching / caching function that downloads the data\n",
      "archive from AT&T.\n",
      "\n",
      ".. _This dataset contains a set of face images: http://www.cl.cam.ac.uk/research/dtg/attarchive/facedatabase.html\n",
      "\n",
      "As described on the original website:\n",
      "\n",
      "    There are ten different images of each of 40 distinct subjects. For some\n",
      "    subjects, the images were taken at different times, varying the lighting,\n",
      "    facial expressions (open / closed eyes, smiling / not smiling) and facial\n",
      "    details (glasses / no glasses). All the images were taken against a dark\n",
      "    homogeneous background with the subjects in an upright, frontal position \n",
      "    (with tolerance for some side movement).\n",
      "\n",
      "**Data Set Characteristics:**\n",
      "\n",
      "    =================   =====================\n",
      "    Classes                                40\n",
      "    Samples total                         400\n",
      "    Dimensionality                       4096\n",
      "    Features            real, between 0 and 1\n",
      "    =================   =====================\n",
      "\n",
      "The image is quantized to 256 grey levels and stored as unsigned 8-bit \n",
      "integers; the loader will convert these to floating point values on the \n",
      "interval [0, 1], which are easier to work with for many algorithms.\n",
      "\n",
      "The \"target\" for this database is an integer from 0 to 39 indicating the\n",
      "identity of the person pictured; however, with only 10 examples per class, this\n",
      "relatively small dataset is more interesting from an unsupervised or\n",
      "semi-supervised perspective.\n",
      "\n",
      "The original dataset consisted of 92 x 112, while the version available here\n",
      "consists of 64x64 images.\n",
      "\n",
      "When using these images, please give credit to AT&T Laboratories Cambridge.\n",
      "\n"
     ]
    }
   ],
   "source": [
    "print(olivetti.DESCR)"
   ]
  },
  {
   "cell_type": "code",
   "execution_count": 4,
   "id": "f2c999c9",
   "metadata": {},
   "outputs": [
    {
     "data": {
      "text/plain": [
       "array([ 0,  0,  0,  0,  0,  0,  0,  0,  0,  0,  1,  1,  1,  1,  1,  1,  1,\n",
       "        1,  1,  1,  2,  2,  2,  2,  2,  2,  2,  2,  2,  2,  3,  3,  3,  3,\n",
       "        3,  3,  3,  3,  3,  3,  4,  4,  4,  4,  4,  4,  4,  4,  4,  4,  5,\n",
       "        5,  5,  5,  5,  5,  5,  5,  5,  5,  6,  6,  6,  6,  6,  6,  6,  6,\n",
       "        6,  6,  7,  7,  7,  7,  7,  7,  7,  7,  7,  7,  8,  8,  8,  8,  8,\n",
       "        8,  8,  8,  8,  8,  9,  9,  9,  9,  9,  9,  9,  9,  9,  9, 10, 10,\n",
       "       10, 10, 10, 10, 10, 10, 10, 10, 11, 11, 11, 11, 11, 11, 11, 11, 11,\n",
       "       11, 12, 12, 12, 12, 12, 12, 12, 12, 12, 12, 13, 13, 13, 13, 13, 13,\n",
       "       13, 13, 13, 13, 14, 14, 14, 14, 14, 14, 14, 14, 14, 14, 15, 15, 15,\n",
       "       15, 15, 15, 15, 15, 15, 15, 16, 16, 16, 16, 16, 16, 16, 16, 16, 16,\n",
       "       17, 17, 17, 17, 17, 17, 17, 17, 17, 17, 18, 18, 18, 18, 18, 18, 18,\n",
       "       18, 18, 18, 19, 19, 19, 19, 19, 19, 19, 19, 19, 19, 20, 20, 20, 20,\n",
       "       20, 20, 20, 20, 20, 20, 21, 21, 21, 21, 21, 21, 21, 21, 21, 21, 22,\n",
       "       22, 22, 22, 22, 22, 22, 22, 22, 22, 23, 23, 23, 23, 23, 23, 23, 23,\n",
       "       23, 23, 24, 24, 24, 24, 24, 24, 24, 24, 24, 24, 25, 25, 25, 25, 25,\n",
       "       25, 25, 25, 25, 25, 26, 26, 26, 26, 26, 26, 26, 26, 26, 26, 27, 27,\n",
       "       27, 27, 27, 27, 27, 27, 27, 27, 28, 28, 28, 28, 28, 28, 28, 28, 28,\n",
       "       28, 29, 29, 29, 29, 29, 29, 29, 29, 29, 29, 30, 30, 30, 30, 30, 30,\n",
       "       30, 30, 30, 30, 31, 31, 31, 31, 31, 31, 31, 31, 31, 31, 32, 32, 32,\n",
       "       32, 32, 32, 32, 32, 32, 32, 33, 33, 33, 33, 33, 33, 33, 33, 33, 33,\n",
       "       34, 34, 34, 34, 34, 34, 34, 34, 34, 34, 35, 35, 35, 35, 35, 35, 35,\n",
       "       35, 35, 35, 36, 36, 36, 36, 36, 36, 36, 36, 36, 36, 37, 37, 37, 37,\n",
       "       37, 37, 37, 37, 37, 37, 38, 38, 38, 38, 38, 38, 38, 38, 38, 38, 39,\n",
       "       39, 39, 39, 39, 39, 39, 39, 39, 39])"
      ]
     },
     "execution_count": 4,
     "metadata": {},
     "output_type": "execute_result"
    }
   ],
   "source": [
    "olivetti.target"
   ]
  },
  {
   "cell_type": "markdown",
   "id": "e135ad60",
   "metadata": {},
   "source": [
    "## 划分数据集\n",
    "采用分层抽样。"
   ]
  },
  {
   "cell_type": "code",
   "execution_count": 5,
   "id": "f628302b",
   "metadata": {},
   "outputs": [],
   "source": [
    "from sklearn.model_selection import StratifiedShuffleSplit\n",
    "strat_split=StratifiedShuffleSplit(n_splits=1,test_size=40,random_state=42)\n",
    "# n_splits：是将训练数据分成train/test对的组数，可根据需要进行设置，默认为10"
   ]
  },
  {
   "cell_type": "code",
   "execution_count": 6,
   "id": "208d4fca",
   "metadata": {},
   "outputs": [],
   "source": [
    "train_valid_idx,test_idx=next(strat_split.split(olivetti.data,olivetti.target))\n",
    "# next() 返回迭代器的下一个项目。"
   ]
  },
  {
   "cell_type": "code",
   "execution_count": 7,
   "id": "77b2adbd",
   "metadata": {},
   "outputs": [],
   "source": [
    "X_train_valid=olivetti.data[train_valid_idx]\n",
    "y_train_valid=olivetti.target[train_valid_idx]\n",
    "X_test=olivetti.data[test_idx]\n",
    "y_test=olivetti.target[test_idx]"
   ]
  },
  {
   "cell_type": "code",
   "execution_count": 8,
   "id": "ad32a1d6",
   "metadata": {},
   "outputs": [],
   "source": [
    "strat_split=StratifiedShuffleSplit(n_splits=1,test_size=80,random_state=43)\n",
    "train_idx,valid_idx=next(strat_split.split(X_train_valid,y_train_valid))"
   ]
  },
  {
   "cell_type": "code",
   "execution_count": 9,
   "id": "aae86889",
   "metadata": {},
   "outputs": [],
   "source": [
    "X_train=X_train_valid[train_idx]\n",
    "y_train=y_train_valid[train_idx]\n",
    "X_valid=X_train_valid[valid_idx]\n",
    "y_valid=y_train_valid[valid_idx]"
   ]
  },
  {
   "cell_type": "code",
   "execution_count": 10,
   "id": "ebb144a6",
   "metadata": {},
   "outputs": [
    {
     "name": "stdout",
     "output_type": "stream",
     "text": [
      "(280, 4096) (280,)\n",
      "(80, 4096) (80,)\n",
      "(40, 4096) (40,)\n"
     ]
    }
   ],
   "source": [
    "print(X_train.shape, y_train.shape)\n",
    "print(X_valid.shape, y_valid.shape)\n",
    "print(X_test.shape, y_test.shape)"
   ]
  },
  {
   "cell_type": "markdown",
   "id": "3d7a19f6",
   "metadata": {},
   "source": [
    "## 降维"
   ]
  },
  {
   "cell_type": "code",
   "execution_count": 11,
   "id": "863b9875",
   "metadata": {},
   "outputs": [],
   "source": [
    "from sklearn.cluster import KMeans\n",
    "from sklearn.decomposition import PCA"
   ]
  },
  {
   "cell_type": "code",
   "execution_count": 12,
   "id": "54148807",
   "metadata": {},
   "outputs": [],
   "source": [
    "pca=PCA(n_components=0.99)"
   ]
  },
  {
   "cell_type": "code",
   "execution_count": 13,
   "id": "58ee546b",
   "metadata": {},
   "outputs": [],
   "source": [
    "X_train_pca=pca.fit_transform(X_train)\n",
    "X_valid_pca=pca.transform(X_valid)\n",
    "X_test_pca=pca.transform(X_test)"
   ]
  },
  {
   "cell_type": "code",
   "execution_count": 14,
   "id": "a0101e97",
   "metadata": {},
   "outputs": [
    {
     "data": {
      "text/plain": [
       "199"
      ]
     },
     "execution_count": 14,
     "metadata": {},
     "output_type": "execute_result"
    }
   ],
   "source": [
    "pca.n_components_"
   ]
  },
  {
   "cell_type": "markdown",
   "id": "d7b962a7",
   "metadata": {},
   "source": [
    "从4096降至199"
   ]
  },
  {
   "cell_type": "markdown",
   "id": "0ee08d32",
   "metadata": {},
   "source": [
    "## 模型训练"
   ]
  },
  {
   "cell_type": "code",
   "execution_count": 15,
   "id": "99997bf3",
   "metadata": {},
   "outputs": [],
   "source": [
    "k_range=range(5,150,5)\n",
    "kmeans_per_k=[] # 用于保存k值不同的模型"
   ]
  },
  {
   "cell_type": "code",
   "execution_count": 16,
   "id": "181c71ea",
   "metadata": {},
   "outputs": [
    {
     "name": "stdout",
     "output_type": "stream",
     "text": [
      "k=5\n",
      "k=10\n",
      "k=15\n",
      "k=20\n",
      "k=25\n",
      "k=30\n",
      "k=35\n",
      "k=40\n",
      "k=45\n",
      "k=50\n",
      "k=55\n",
      "k=60\n",
      "k=65\n",
      "k=70\n",
      "k=75\n",
      "k=80\n",
      "k=85\n",
      "k=90\n",
      "k=95\n",
      "k=100\n",
      "k=105\n",
      "k=110\n",
      "k=115\n",
      "k=120\n",
      "k=125\n",
      "k=130\n",
      "k=135\n",
      "k=140\n",
      "k=145\n"
     ]
    }
   ],
   "source": [
    "for k in k_range:\n",
    "    print(\"k={}\".format(k))\n",
    "    kmeans=KMeans(n_clusters=k,random_state=42)\n",
    "    kmeans.fit(X_train_pca)\n",
    "    kmeans_per_k.append(kmeans)"
   ]
  },
  {
   "cell_type": "markdown",
   "id": "56caa52a",
   "metadata": {},
   "source": [
    "## 模型评估"
   ]
  },
  {
   "cell_type": "code",
   "execution_count": 18,
   "id": "b7770032",
   "metadata": {},
   "outputs": [],
   "source": [
    "from sklearn.metrics import silhouette_score\n",
    "silhouette_scores=[silhouette_score(X_train_pca,model.labels_) for model in kmeans_per_k]"
   ]
  },
  {
   "cell_type": "code",
   "execution_count": 19,
   "id": "b5b58dc6",
   "metadata": {},
   "outputs": [],
   "source": [
    "best_index=np.argmax(silhouette_scores)\n",
    "best_k=k_range[best_index]\n",
    "best_score=silhouette_scores[best_index]"
   ]
  },
  {
   "cell_type": "code",
   "execution_count": 20,
   "id": "574e4d47",
   "metadata": {},
   "outputs": [
    {
     "data": {
      "image/png": "[encoded data removed]",
      "text/plain": [
       "<Figure size 576x216 with 1 Axes>"
      ]
     },
     "metadata": {
      "needs_background": "light"
     },
     "output_type": "display_data"
    }
   ],
   "source": [
    "plt.figure(figsize=(8,3))\n",
    "plt.plot(k_range,silhouette_scores,'bo-')\n",
    "plt.xlabel(\"$k$\",fontsize=14)\n",
    "plt.ylabel(\"Silhouette score\", fontsize=14)\n",
    "plt.plot(best_k,best_score,'rs')\n",
    "plt.show()"
   ]
  },
  {
   "cell_type": "markdown",
   "id": "68e332e0",
   "metadata": {},
   "source": [
    "看起来最好的聚类数相当高，为 120。您可能期望它是 40，因为图片上有 40 个不同的人。 然而，同一个人在不同的图片上可能看起来完全不同（例如，戴或不戴眼镜，或者只是向左或向右移动）。"
   ]
  },
  {
   "cell_type": "code",
   "execution_count": 21,
   "id": "c8bd68a9",
   "metadata": {},
   "outputs": [],
   "source": [
    "inertias=[model.inertia_ for model in kmeans_per_k]\n",
    "# 样本到其最近聚类中心的平方距离总和。\n",
    "best_inertia=inertias[best_index]"
   ]
  },
  {
   "cell_type": "code",
   "execution_count": 22,
   "id": "4dfb863b",
   "metadata": {},
   "outputs": [
    {
     "data": {
      "image/png": "[encoded data removed]",
      "text/plain": [
       "<Figure size 576x252 with 1 Axes>"
      ]
     },
     "metadata": {
      "needs_background": "light"
     },
     "output_type": "display_data"
    }
   ],
   "source": [
    "plt.figure(figsize=(8, 3.5))\n",
    "plt.plot(k_range, inertias, \"bo-\")\n",
    "plt.xlabel(\"$k$\", fontsize=14)\n",
    "plt.ylabel(\"Inertia\", fontsize=14)\n",
    "plt.plot(best_k, best_inertia, \"rs\")\n",
    "plt.show()"
   ]
  },
  {
   "cell_type": "markdown",
   "id": "fe845b7b",
   "metadata": {},
   "source": [
    "这个惯性图上的最佳簇数不清楚，因为没有明显的肘部，所以我们坚持 k=100。"
   ]
  },
  {
   "cell_type": "code",
   "execution_count": 23,
   "id": "0c6f0084",
   "metadata": {},
   "outputs": [],
   "source": [
    "best_model=kmeans_per_k[best_index]"
   ]
  },
  {
   "cell_type": "markdown",
   "id": "4e41a2a4",
   "metadata": {},
   "source": [
    "# 第十一题\n",
    "## 模型训练"
   ]
  },
  {
   "cell_type": "code",
   "execution_count": 24,
   "id": "8abeecb2",
   "metadata": {},
   "outputs": [
    {
     "data": {
      "text/plain": [
       "RandomForestClassifier(n_estimators=150, random_state=42)"
      ]
     },
     "execution_count": 24,
     "metadata": {},
     "output_type": "execute_result"
    }
   ],
   "source": [
    "# 训练一个随机森林分类器\n",
    "from sklearn.ensemble import RandomForestClassifier\n",
    "rnd_clf=RandomForestClassifier(n_estimators=150,random_state=42)\n",
    "rnd_clf.fit(X_train_pca,y_train)"
   ]
  },
  {
   "cell_type": "code",
   "execution_count": 25,
   "id": "e72e15ad",
   "metadata": {},
   "outputs": [
    {
     "data": {
      "text/plain": [
       "0.925"
      ]
     },
     "execution_count": 25,
     "metadata": {},
     "output_type": "execute_result"
    }
   ],
   "source": [
    "rnd_clf.score(X_valid_pca,y_valid)"
   ]
  },
  {
   "cell_type": "markdown",
   "id": "908ad653",
   "metadata": {},
   "source": [
    "## 采用K-Means降维"
   ]
  },
  {
   "cell_type": "code",
   "execution_count": 26,
   "id": "d80d5b55",
   "metadata": {},
   "outputs": [],
   "source": [
    "X_train_reduced=best_model.transform(X_train_pca)\n",
    "X_valid_reduced=best_model.transform(X_valid_pca)\n",
    "X_test_reduced=best_model.transform(X_test_pca)"
   ]
  },
  {
   "cell_type": "code",
   "execution_count": 27,
   "id": "42dc8143",
   "metadata": {},
   "outputs": [
    {
     "data": {
      "text/plain": [
       "RandomForestClassifier(n_estimators=150, random_state=42)"
      ]
     },
     "execution_count": 27,
     "metadata": {},
     "output_type": "execute_result"
    }
   ],
   "source": [
    "clf=RandomForestClassifier(n_estimators=150,random_state=42)\n",
    "clf.fit(X_train_reduced,y_train)"
   ]
  },
  {
   "cell_type": "code",
   "execution_count": 28,
   "id": "87126d85",
   "metadata": {},
   "outputs": [
    {
     "data": {
      "text/plain": [
       "0.7"
      ]
     },
     "execution_count": 28,
     "metadata": {},
     "output_type": "execute_result"
    }
   ],
   "source": [
    "clf.score(X_valid_reduced,y_valid)"
   ]
  },
  {
   "cell_type": "markdown",
   "id": "b79be5a7",
   "metadata": {},
   "source": [
    "哎呀！ 这根本不是更好！ 让我们看看调整集群数量是否有帮助。"
   ]
  },
  {
   "cell_type": "markdown",
   "id": "9d63b0a3",
   "metadata": {},
   "source": [
    "*练习：搜索可以让分类器获得最佳性能的集群数量：你能达到什么性能？*"
   ]
  },
  {
   "cell_type": "markdown",
   "id": "50a43e50",
   "metadata": {},
   "source": [
    "我们可以像之前在本笔记本中所做的那样使用 GridSearchCV，但是由于我们已经有了一个验证集，我们不需要 K 折交叉验证，而且我们只探索单个超参数，因此更简单 只需手动运行一个循环："
   ]
  },
  {
   "cell_type": "code",
   "execution_count": 29,
   "id": "fe8bab09",
   "metadata": {},
   "outputs": [
    {
     "name": "stdout",
     "output_type": "stream",
     "text": [
      "n_clusters=5 0.55\n",
      "n_clusters=10 0.525\n",
      "n_clusters=15 0.6\n",
      "n_clusters=20 0.7\n",
      "n_clusters=25 0.675\n",
      "n_clusters=30 0.7\n",
      "n_clusters=35 0.7\n",
      "n_clusters=40 0.7\n",
      "n_clusters=45 0.725\n",
      "n_clusters=50 0.65\n",
      "n_clusters=55 0.7\n",
      "n_clusters=60 0.7\n",
      "n_clusters=65 0.725\n",
      "n_clusters=70 0.725\n",
      "n_clusters=75 0.775\n",
      "n_clusters=80 0.825\n",
      "n_clusters=85 0.7\n",
      "n_clusters=90 0.75\n",
      "n_clusters=95 0.75\n",
      "n_clusters=100 0.75\n",
      "n_clusters=105 0.775\n",
      "n_clusters=110 0.775\n",
      "n_clusters=115 0.725\n",
      "n_clusters=120 0.75\n",
      "n_clusters=125 0.775\n",
      "n_clusters=130 0.775\n",
      "n_clusters=135 0.65\n",
      "n_clusters=140 0.725\n",
      "n_clusters=145 0.8\n"
     ]
    }
   ],
   "source": [
    "from sklearn.pipeline import Pipeline\n",
    "for n_clusters in k_range:\n",
    "    pipeline = Pipeline([(\"kmeans\", KMeans(n_clusters=n_clusters, random_state=42)), (\n",
    "        \"forest_clf\", RandomForestClassifier(n_estimators=150, random_state=42))])\n",
    "    pipeline.fit(X_train_pca,y_train)\n",
    "    print(\"n_clusters={}\".format(n_clusters),pipeline.score(X_test_pca,y_test))"
   ]
  },
  {
   "cell_type": "markdown",
   "id": "a32ef8c9",
   "metadata": {},
   "source": [
    "哦，好吧，即使通过调整集群的数量，我们也永远不会超过 80% 的准确率。 看起来到集群质心的距离不像原始图像那样提供信息。"
   ]
  },
  {
   "cell_type": "code",
   "execution_count": 30,
   "id": "3bbb8af3",
   "metadata": {},
   "outputs": [],
   "source": [
    "X_train_extended=np.c_[X_train_pca,X_train_reduced]\n",
    "X_valid_extended=np.c_[X_valid_pca,X_valid_reduced]\n",
    "X_test_extended=np.c_[X_test_pca,X_test_reduced]"
   ]
  },
  {
   "cell_type": "code",
   "execution_count": 31,
   "id": "df1bc328",
   "metadata": {},
   "outputs": [
    {
     "data": {
      "text/plain": [
       "RandomForestClassifier(n_estimators=150, random_state=42)"
      ]
     },
     "execution_count": 31,
     "metadata": {},
     "output_type": "execute_result"
    }
   ],
   "source": [
    "clf=RandomForestClassifier(n_estimators=150,random_state=42)\n",
    "clf.fit(X_train_extended,y_train)"
   ]
  },
  {
   "cell_type": "code",
   "execution_count": 32,
   "id": "c749c111",
   "metadata": {},
   "outputs": [
    {
     "data": {
      "text/plain": [
       "0.8125"
      ]
     },
     "execution_count": 32,
     "metadata": {},
     "output_type": "execute_result"
    }
   ],
   "source": [
    "clf.score(X_valid_extended,y_valid)"
   ]
  },
  {
   "cell_type": "markdown",
   "id": "a8134be7",
   "metadata": {},
   "source": [
    "这有点好，但仍然比没有集群功能更糟糕。 在这种情况下，集群对于直接训练分类器没有用（但在标记新训练实例时它们仍然可以提供帮助）。"
   ]
  },
  {
   "cell_type": "code",
   "execution_count": null,
   "id": "3f8671d3",
   "metadata": {},
   "outputs": [],
   "source": []
  }
 ],
 "metadata": {
  "kernelspec": {
   "display_name": "Python 3",
   "language": "python",
   "name": "python3"
  },
  "language_info": {
   "codemirror_mode": {
    "name": "ipython",
    "version": 3
   },
   "file_extension": ".py",
   "mimetype": "text/x-python",
   "name": "python",
   "nbconvert_exporter": "python",
   "pygments_lexer": "ipython3",
   "version": "3.7.4"
  },
  "toc": {
   "base_numbering": 1,
   "nav_menu": {},
   "number_sections": true,
   "sideBar": true,
   "skip_h1_title": false,
   "title_cell": "Table of Contents",
   "title_sidebar": "Contents",
   "toc_cell": false,
   "toc_position": {},
   "toc_section_display": true,
   "toc_window_display": true
  }
 },
 "nbformat": 4,
 "nbformat_minor": 5
}
